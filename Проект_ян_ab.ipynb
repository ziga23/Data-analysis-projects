{
  "cells": [
    {
      "cell_type": "markdown",
      "metadata": {
        "toc": true,
        "id": "ifcUNduqJNfo"
      },
      "source": [
        "<h1>Содержание проекта<span class=\"tocSkip\"></span></h1>\n",
        "<div class=\"toc\"><ul class=\"toc-item\"><li><span><a href=\"#Краткое-описание\" data-toc-modified-id=\"Краткое-описание-1\"><span class=\"toc-item-num\">1&nbsp;&nbsp;</span>Краткое описание</a></span></li><li><span><a href=\"#Посмотрим-на-гепотезы-и-приоритизируем-их\" data-toc-modified-id=\"Посмотрим-на-гепотезы-и-приоритизируем-их-2\"><span class=\"toc-item-num\">2&nbsp;&nbsp;</span>Посмотрим на гепотезы и приоритизируем их</a></span><ul class=\"toc-item\"><li><span><a href=\"#Расчитаем-ICE-приоритизации\" data-toc-modified-id=\"Расчитаем-ICE-приоритизации-2.1\"><span class=\"toc-item-num\">2.1&nbsp;&nbsp;</span>Расчитаем ICE приоритизации</a></span></li><li><span><a href=\"#Расчитаем-RICE-приоритизации\" data-toc-modified-id=\"Расчитаем-RICE-приоритизации-2.2\"><span class=\"toc-item-num\">2.2&nbsp;&nbsp;</span>Расчитаем RICE приоритизации</a></span></li></ul></li><li><span><a href=\"#Анализ-A/B-теста\" data-toc-modified-id=\"Анализ-A/B-теста-3\"><span class=\"toc-item-num\">3&nbsp;&nbsp;</span>Анализ A/B-теста</a></span><ul class=\"toc-item\"><li><span><a href=\"#Построим-график-кумулятивной-выручки-по-дням-и-группам-A/B-тестирования\" data-toc-modified-id=\"Построим-график-кумулятивной-выручки-по-дням-и-группам-A/B-тестирования-3.1\"><span class=\"toc-item-num\">3.1&nbsp;&nbsp;</span>Построим график кумулятивной выручки по дням и группам A/B-тестирования</a></span><ul class=\"toc-item\"><li><span><a href=\"#Подготовим-данные\" data-toc-modified-id=\"Подготовим-данные-3.1.1\"><span class=\"toc-item-num\">3.1.1&nbsp;&nbsp;</span>Подготовим данные</a></span></li><li><span><a href=\"#Построим-график-кумулятивной-выручки-обеих-групп\" data-toc-modified-id=\"Построим-график-кумулятивной-выручки-обеих-групп-3.1.2\"><span class=\"toc-item-num\">3.1.2&nbsp;&nbsp;</span>Построим график кумулятивной выручки обеих групп</a></span></li></ul></li><li><span><a href=\"#Построим-графики-среднего-чека-по-группам\" data-toc-modified-id=\"Построим-графики-среднего-чека-по-группам-3.2\"><span class=\"toc-item-num\">3.2&nbsp;&nbsp;</span>Построим графики среднего чека по группам</a></span></li><li><span><a href=\"#Построим-график-относительного-изменения-кумулятивного-среднего-чека-группы-B-к-группе-A\" data-toc-modified-id=\"Построим-график-относительного-изменения-кумулятивного-среднего-чека-группы-B-к-группе-A-3.3\"><span class=\"toc-item-num\">3.3&nbsp;&nbsp;</span>Построим график относительного изменения кумулятивного среднего чека группы B к группе A</a></span></li><li><span><a href=\"#Построим-график-кумулятивного-среднего-количества-заказов-на-посетителя-по-группам.\" data-toc-modified-id=\"Построим-график-кумулятивного-среднего-количества-заказов-на-посетителя-по-группам.-3.4\"><span class=\"toc-item-num\">3.4&nbsp;&nbsp;</span>Построим график кумулятивного среднего количества заказов на посетителя по группам.</a></span></li><li><span><a href=\"#Постройте-график-относительного-изменения-кумулятивного-среднего-количества-заказов-на-посетителя-группы-B-к-группе-A\" data-toc-modified-id=\"Постройте-график-относительного-изменения-кумулятивного-среднего-количества-заказов-на-посетителя-группы-B-к-группе-A-3.5\"><span class=\"toc-item-num\">3.5&nbsp;&nbsp;</span>Постройте график относительного изменения кумулятивного среднего количества заказов на посетителя группы B к группе A</a></span></li><li><span><a href=\"#Построим-точечный-график-количества-заказов-по-пользователям\" data-toc-modified-id=\"Построим-точечный-график-количества-заказов-по-пользователям-3.6\"><span class=\"toc-item-num\">3.6&nbsp;&nbsp;</span>Построим точечный график количества заказов по пользователям</a></span></li><li><span><a href=\"#Посчитаем-95-й-и-99-й-перцентили-количества-заказов-на-пользователя\" data-toc-modified-id=\"Посчитаем-95-й-и-99-й-перцентили-количества-заказов-на-пользователя-3.7\"><span class=\"toc-item-num\">3.7&nbsp;&nbsp;</span>Посчитаем 95-й и 99-й перцентили количества заказов на пользователя</a></span></li><li><span><a href=\"#Постройте-точечный-график-стоимостей-заказов\" data-toc-modified-id=\"Постройте-точечный-график-стоимостей-заказов-3.8\"><span class=\"toc-item-num\">3.8&nbsp;&nbsp;</span>Постройте точечный график стоимостей заказов</a></span></li><li><span><a href=\"#Посчитайте-95-й-и-99-й-перцентили-стоимости-заказов\" data-toc-modified-id=\"Посчитайте-95-й-и-99-й-перцентили-стоимости-заказов-3.9\"><span class=\"toc-item-num\">3.9&nbsp;&nbsp;</span>Посчитайте 95-й и 99-й перцентили стоимости заказов</a></span></li><li><span><a href=\"#Посчитаем-статистическую-значимость-различий-в-среднем-количестве-заказов-на-посетителя-между-группами-по-«сырым»-данным\" data-toc-modified-id=\"Посчитаем-статистическую-значимость-различий-в-среднем-количестве-заказов-на-посетителя-между-группами-по-«сырым»-данным-3.10\"><span class=\"toc-item-num\">3.10&nbsp;&nbsp;</span>Посчитаем статистическую значимость различий в среднем количестве заказов на посетителя между группами по «сырым» данным</a></span></li><li><span><a href=\"#Посчитаем-статистическую-значимость-различий-в-среднем-чеке-заказа-между-группами-по-«сырым»-данным\" data-toc-modified-id=\"Посчитаем-статистическую-значимость-различий-в-среднем-чеке-заказа-между-группами-по-«сырым»-данным-3.11\"><span class=\"toc-item-num\">3.11&nbsp;&nbsp;</span>Посчитаем статистическую значимость различий в среднем чеке заказа между группами по «сырым» данным</a></span><ul class=\"toc-item\"><li><span><a href=\"#Проверим-гипотезы:\" data-toc-modified-id=\"Проверим-гипотезы:-3.11.1\"><span class=\"toc-item-num\">3.11.1&nbsp;&nbsp;</span>Проверим гипотезы:</a></span></li></ul></li><li><span><a href=\"#Посчитаем-статистическую-значимость-различий-в-среднем-количестве-заказов-на-посетителя-между-группами-по-«очищенным»-данным\" data-toc-modified-id=\"Посчитаем-статистическую-значимость-различий-в-среднем-количестве-заказов-на-посетителя-между-группами-по-«очищенным»-данным-3.12\"><span class=\"toc-item-num\">3.12&nbsp;&nbsp;</span>Посчитаем статистическую значимость различий в среднем количестве заказов на посетителя между группами по «очищенным» данным</a></span><ul class=\"toc-item\"><li><span><a href=\"#Проверим-гипотезы:\" data-toc-modified-id=\"Проверим-гипотезы:-3.12.1\"><span class=\"toc-item-num\">3.12.1&nbsp;&nbsp;</span>Проверим гипотезы:</a></span></li></ul></li><li><span><a href=\"#Посчитаем-статистическую-значимость-различий-в-среднем-чеке-заказа-между-группами-по-«очищенным»-данным\" data-toc-modified-id=\"Посчитаем-статистическую-значимость-различий-в-среднем-чеке-заказа-между-группами-по-«очищенным»-данным-3.13\"><span class=\"toc-item-num\">3.13&nbsp;&nbsp;</span>Посчитаем статистическую значимость различий в среднем чеке заказа между группами по «очищенным» данным</a></span><ul class=\"toc-item\"><li><span><a href=\"#Проверим-гипотезы:\" data-toc-modified-id=\"Проверим-гипотезы:-3.13.1\"><span class=\"toc-item-num\">3.13.1&nbsp;&nbsp;</span>Проверим гипотезы:</a></span></li></ul></li></ul></li><li><span><a href=\"#Выводы\" data-toc-modified-id=\"Выводы-4\"><span class=\"toc-item-num\">4&nbsp;&nbsp;</span>Выводы</a></span></li></ul></div>"
      ]
    },
    {
      "cell_type": "markdown",
      "metadata": {
        "id": "qhARmQZzJNfr"
      },
      "source": [
        "# Проект: принятие решений в бизнесе"
      ]
    },
    {
      "cell_type": "markdown",
      "metadata": {
        "id": "ZTHAu0vUJNfs"
      },
      "source": [
        "## Краткое описание"
      ]
    },
    {
      "cell_type": "markdown",
      "metadata": {
        "id": "UkG036zuJNfs"
      },
      "source": [
        "я — аналитик крупного интернет-магазина. Вместе с отделом маркетинга я подготовили список гипотез для увеличения выручки.\n",
        "В данном проекте я приоритизирую гипотезы, запущу A/B-тест и проанализирую результаты."
      ]
    },
    {
      "cell_type": "code",
      "execution_count": null,
      "metadata": {
        "id": "0HA_yesXJNft"
      },
      "outputs": [],
      "source": [
        "import pandas as pd\n",
        "import matplotlib.pyplot as plt\n",
        "import datetime as dt\n",
        "import scipy.stats as stats\n",
        "import numpy as np\n",
        "from scipy import stats as st"
      ]
    },
    {
      "cell_type": "markdown",
      "metadata": {
        "id": "2VWwO8DwJNfu"
      },
      "source": [
        "## Посмотрим на гепотезы и приоритизируем их"
      ]
    },
    {
      "cell_type": "code",
      "execution_count": null,
      "metadata": {
        "id": "NMcpVX_VJNfu",
        "outputId": "74984c51-7ae5-4a1a-db7e-28dd916deb7c"
      },
      "outputs": [
        {
          "data": {
            "text/html": [
              "<div>\n",
              "<style scoped>\n",
              "    .dataframe tbody tr th:only-of-type {\n",
              "        vertical-align: middle;\n",
              "    }\n",
              "\n",
              "    .dataframe tbody tr th {\n",
              "        vertical-align: top;\n",
              "    }\n",
              "\n",
              "    .dataframe thead th {\n",
              "        text-align: right;\n",
              "    }\n",
              "</style>\n",
              "<table border=\"1\" class=\"dataframe\">\n",
              "  <thead>\n",
              "    <tr style=\"text-align: right;\">\n",
              "      <th></th>\n",
              "      <th>Hypothesis</th>\n",
              "      <th>Reach</th>\n",
              "      <th>Impact</th>\n",
              "      <th>Confidence</th>\n",
              "      <th>Efforts</th>\n",
              "    </tr>\n",
              "  </thead>\n",
              "  <tbody>\n",
              "    <tr>\n",
              "      <th>0</th>\n",
              "      <td>Добавить два новых канала привлечения трафика,...</td>\n",
              "      <td>3</td>\n",
              "      <td>10</td>\n",
              "      <td>8</td>\n",
              "      <td>6</td>\n",
              "    </tr>\n",
              "    <tr>\n",
              "      <th>1</th>\n",
              "      <td>Запустить собственную службу доставки, что сок...</td>\n",
              "      <td>2</td>\n",
              "      <td>5</td>\n",
              "      <td>4</td>\n",
              "      <td>10</td>\n",
              "    </tr>\n",
              "    <tr>\n",
              "      <th>2</th>\n",
              "      <td>Добавить блоки рекомендаций товаров на сайт ин...</td>\n",
              "      <td>8</td>\n",
              "      <td>3</td>\n",
              "      <td>7</td>\n",
              "      <td>3</td>\n",
              "    </tr>\n",
              "    <tr>\n",
              "      <th>3</th>\n",
              "      <td>Изменить структура категорий, что увеличит кон...</td>\n",
              "      <td>8</td>\n",
              "      <td>3</td>\n",
              "      <td>3</td>\n",
              "      <td>8</td>\n",
              "    </tr>\n",
              "    <tr>\n",
              "      <th>4</th>\n",
              "      <td>Изменить цвет фона главной страницы, чтобы уве...</td>\n",
              "      <td>3</td>\n",
              "      <td>1</td>\n",
              "      <td>1</td>\n",
              "      <td>1</td>\n",
              "    </tr>\n",
              "    <tr>\n",
              "      <th>5</th>\n",
              "      <td>Добавить страницу отзывов клиентов о магазине,...</td>\n",
              "      <td>3</td>\n",
              "      <td>2</td>\n",
              "      <td>2</td>\n",
              "      <td>3</td>\n",
              "    </tr>\n",
              "    <tr>\n",
              "      <th>6</th>\n",
              "      <td>Показать на главной странице баннеры с актуаль...</td>\n",
              "      <td>5</td>\n",
              "      <td>3</td>\n",
              "      <td>8</td>\n",
              "      <td>3</td>\n",
              "    </tr>\n",
              "    <tr>\n",
              "      <th>7</th>\n",
              "      <td>Добавить форму подписки на все основные страни...</td>\n",
              "      <td>10</td>\n",
              "      <td>7</td>\n",
              "      <td>8</td>\n",
              "      <td>5</td>\n",
              "    </tr>\n",
              "    <tr>\n",
              "      <th>8</th>\n",
              "      <td>Запустить акцию, дающую скидку на товар в день...</td>\n",
              "      <td>1</td>\n",
              "      <td>9</td>\n",
              "      <td>9</td>\n",
              "      <td>5</td>\n",
              "    </tr>\n",
              "  </tbody>\n",
              "</table>\n",
              "</div>"
            ],
            "text/plain": [
              "                                          Hypothesis  Reach  Impact  \\\n",
              "0  Добавить два новых канала привлечения трафика,...      3      10   \n",
              "1  Запустить собственную службу доставки, что сок...      2       5   \n",
              "2  Добавить блоки рекомендаций товаров на сайт ин...      8       3   \n",
              "3  Изменить структура категорий, что увеличит кон...      8       3   \n",
              "4  Изменить цвет фона главной страницы, чтобы уве...      3       1   \n",
              "5  Добавить страницу отзывов клиентов о магазине,...      3       2   \n",
              "6  Показать на главной странице баннеры с актуаль...      5       3   \n",
              "7  Добавить форму подписки на все основные страни...     10       7   \n",
              "8  Запустить акцию, дающую скидку на товар в день...      1       9   \n",
              "\n",
              "   Confidence  Efforts  \n",
              "0           8        6  \n",
              "1           4       10  \n",
              "2           7        3  \n",
              "3           3        8  \n",
              "4           1        1  \n",
              "5           2        3  \n",
              "6           8        3  \n",
              "7           8        5  \n",
              "8           9        5  "
            ]
          },
          "execution_count": 3,
          "metadata": {},
          "output_type": "execute_result"
        }
      ],
      "source": [
        "hypothesis = pd.read_csv('/datasets/hypothesis.csv')\n",
        "hypothesis"
      ]
    },
    {
      "cell_type": "markdown",
      "metadata": {
        "id": "T22QN4x2JNfv"
      },
      "source": [
        "Приоритизируем гипотезы - чтобы максимизировать ожидаемое улучшение ключевых метрик\n",
        "бизнеса."
      ]
    },
    {
      "cell_type": "markdown",
      "metadata": {
        "id": "oCxmEUStJNfv"
      },
      "source": [
        "### Расчитаем ICE приоритизации"
      ]
    },
    {
      "cell_type": "code",
      "execution_count": null,
      "metadata": {
        "id": "lD9YdfPIJNfv",
        "outputId": "26d7b23f-5f78-46fc-8ac6-5fb532d8e31d"
      },
      "outputs": [
        {
          "data": {
            "text/html": [
              "<div>\n",
              "<style scoped>\n",
              "    .dataframe tbody tr th:only-of-type {\n",
              "        vertical-align: middle;\n",
              "    }\n",
              "\n",
              "    .dataframe tbody tr th {\n",
              "        vertical-align: top;\n",
              "    }\n",
              "\n",
              "    .dataframe thead th {\n",
              "        text-align: right;\n",
              "    }\n",
              "</style>\n",
              "<table border=\"1\" class=\"dataframe\">\n",
              "  <thead>\n",
              "    <tr style=\"text-align: right;\">\n",
              "      <th></th>\n",
              "      <th>Hypothesis</th>\n",
              "      <th>Reach</th>\n",
              "      <th>Impact</th>\n",
              "      <th>Confidence</th>\n",
              "      <th>Efforts</th>\n",
              "      <th>ice_hypothesis</th>\n",
              "    </tr>\n",
              "  </thead>\n",
              "  <tbody>\n",
              "    <tr>\n",
              "      <th>0</th>\n",
              "      <td>Запустить акцию, дающую скидку на товар в день...</td>\n",
              "      <td>1</td>\n",
              "      <td>9</td>\n",
              "      <td>9</td>\n",
              "      <td>5</td>\n",
              "      <td>16.2</td>\n",
              "    </tr>\n",
              "    <tr>\n",
              "      <th>1</th>\n",
              "      <td>Добавить два новых канала привлечения трафика,...</td>\n",
              "      <td>3</td>\n",
              "      <td>10</td>\n",
              "      <td>8</td>\n",
              "      <td>6</td>\n",
              "      <td>13.3</td>\n",
              "    </tr>\n",
              "    <tr>\n",
              "      <th>2</th>\n",
              "      <td>Добавить форму подписки на все основные страни...</td>\n",
              "      <td>10</td>\n",
              "      <td>7</td>\n",
              "      <td>8</td>\n",
              "      <td>5</td>\n",
              "      <td>11.2</td>\n",
              "    </tr>\n",
              "    <tr>\n",
              "      <th>3</th>\n",
              "      <td>Показать на главной странице баннеры с актуаль...</td>\n",
              "      <td>5</td>\n",
              "      <td>3</td>\n",
              "      <td>8</td>\n",
              "      <td>3</td>\n",
              "      <td>8.0</td>\n",
              "    </tr>\n",
              "    <tr>\n",
              "      <th>4</th>\n",
              "      <td>Добавить блоки рекомендаций товаров на сайт ин...</td>\n",
              "      <td>8</td>\n",
              "      <td>3</td>\n",
              "      <td>7</td>\n",
              "      <td>3</td>\n",
              "      <td>7.0</td>\n",
              "    </tr>\n",
              "    <tr>\n",
              "      <th>5</th>\n",
              "      <td>Запустить собственную службу доставки, что сок...</td>\n",
              "      <td>2</td>\n",
              "      <td>5</td>\n",
              "      <td>4</td>\n",
              "      <td>10</td>\n",
              "      <td>2.0</td>\n",
              "    </tr>\n",
              "    <tr>\n",
              "      <th>6</th>\n",
              "      <td>Добавить страницу отзывов клиентов о магазине,...</td>\n",
              "      <td>3</td>\n",
              "      <td>2</td>\n",
              "      <td>2</td>\n",
              "      <td>3</td>\n",
              "      <td>1.3</td>\n",
              "    </tr>\n",
              "    <tr>\n",
              "      <th>7</th>\n",
              "      <td>Изменить структура категорий, что увеличит кон...</td>\n",
              "      <td>8</td>\n",
              "      <td>3</td>\n",
              "      <td>3</td>\n",
              "      <td>8</td>\n",
              "      <td>1.1</td>\n",
              "    </tr>\n",
              "    <tr>\n",
              "      <th>8</th>\n",
              "      <td>Изменить цвет фона главной страницы, чтобы уве...</td>\n",
              "      <td>3</td>\n",
              "      <td>1</td>\n",
              "      <td>1</td>\n",
              "      <td>1</td>\n",
              "      <td>1.0</td>\n",
              "    </tr>\n",
              "  </tbody>\n",
              "</table>\n",
              "</div>"
            ],
            "text/plain": [
              "                                          Hypothesis  Reach  Impact  \\\n",
              "0  Запустить акцию, дающую скидку на товар в день...      1       9   \n",
              "1  Добавить два новых канала привлечения трафика,...      3      10   \n",
              "2  Добавить форму подписки на все основные страни...     10       7   \n",
              "3  Показать на главной странице баннеры с актуаль...      5       3   \n",
              "4  Добавить блоки рекомендаций товаров на сайт ин...      8       3   \n",
              "5  Запустить собственную службу доставки, что сок...      2       5   \n",
              "6  Добавить страницу отзывов клиентов о магазине,...      3       2   \n",
              "7  Изменить структура категорий, что увеличит кон...      8       3   \n",
              "8  Изменить цвет фона главной страницы, чтобы уве...      3       1   \n",
              "\n",
              "   Confidence  Efforts  ice_hypothesis  \n",
              "0           9        5            16.2  \n",
              "1           8        6            13.3  \n",
              "2           8        5            11.2  \n",
              "3           8        3             8.0  \n",
              "4           7        3             7.0  \n",
              "5           4       10             2.0  \n",
              "6           2        3             1.3  \n",
              "7           3        8             1.1  \n",
              "8           1        1             1.0  "
            ]
          },
          "execution_count": 4,
          "metadata": {},
          "output_type": "execute_result"
        }
      ],
      "source": [
        "hypothesis['ice_hypothesis'] = round((hypothesis['Impact']*hypothesis['Confidence']/hypothesis['Efforts']),1)\n",
        "hypothesis.sort_values(by='ice_hypothesis', ascending=False).reset_index(drop=True)"
      ]
    },
    {
      "cell_type": "markdown",
      "metadata": {
        "id": "gVwrYodEJNfw"
      },
      "source": [
        "Мы изменили порядок гепотез, приоритизировали гепотезы, так будет легче принять решение."
      ]
    },
    {
      "cell_type": "markdown",
      "metadata": {
        "id": "oc628JuAJNfw"
      },
      "source": [
        "### Расчитаем RICE приоритизации"
      ]
    },
    {
      "cell_type": "code",
      "execution_count": null,
      "metadata": {
        "id": "o8D5AQ5RJNfw",
        "outputId": "574950e2-6a4f-4f4c-f037-b98dcbb30675"
      },
      "outputs": [
        {
          "data": {
            "text/html": [
              "<div>\n",
              "<style scoped>\n",
              "    .dataframe tbody tr th:only-of-type {\n",
              "        vertical-align: middle;\n",
              "    }\n",
              "\n",
              "    .dataframe tbody tr th {\n",
              "        vertical-align: top;\n",
              "    }\n",
              "\n",
              "    .dataframe thead th {\n",
              "        text-align: right;\n",
              "    }\n",
              "</style>\n",
              "<table border=\"1\" class=\"dataframe\">\n",
              "  <thead>\n",
              "    <tr style=\"text-align: right;\">\n",
              "      <th></th>\n",
              "      <th>Hypothesis</th>\n",
              "      <th>Reach</th>\n",
              "      <th>Impact</th>\n",
              "      <th>Confidence</th>\n",
              "      <th>Efforts</th>\n",
              "      <th>ice_hypothesis</th>\n",
              "      <th>rice_hypothesis</th>\n",
              "    </tr>\n",
              "  </thead>\n",
              "  <tbody>\n",
              "    <tr>\n",
              "      <th>0</th>\n",
              "      <td>Добавить форму подписки на все основные страни...</td>\n",
              "      <td>10</td>\n",
              "      <td>7</td>\n",
              "      <td>8</td>\n",
              "      <td>5</td>\n",
              "      <td>11.2</td>\n",
              "      <td>112.0</td>\n",
              "    </tr>\n",
              "    <tr>\n",
              "      <th>1</th>\n",
              "      <td>Добавить блоки рекомендаций товаров на сайт ин...</td>\n",
              "      <td>8</td>\n",
              "      <td>3</td>\n",
              "      <td>7</td>\n",
              "      <td>3</td>\n",
              "      <td>7.0</td>\n",
              "      <td>56.0</td>\n",
              "    </tr>\n",
              "    <tr>\n",
              "      <th>2</th>\n",
              "      <td>Добавить два новых канала привлечения трафика,...</td>\n",
              "      <td>3</td>\n",
              "      <td>10</td>\n",
              "      <td>8</td>\n",
              "      <td>6</td>\n",
              "      <td>13.3</td>\n",
              "      <td>40.0</td>\n",
              "    </tr>\n",
              "    <tr>\n",
              "      <th>3</th>\n",
              "      <td>Показать на главной странице баннеры с актуаль...</td>\n",
              "      <td>5</td>\n",
              "      <td>3</td>\n",
              "      <td>8</td>\n",
              "      <td>3</td>\n",
              "      <td>8.0</td>\n",
              "      <td>40.0</td>\n",
              "    </tr>\n",
              "    <tr>\n",
              "      <th>4</th>\n",
              "      <td>Запустить акцию, дающую скидку на товар в день...</td>\n",
              "      <td>1</td>\n",
              "      <td>9</td>\n",
              "      <td>9</td>\n",
              "      <td>5</td>\n",
              "      <td>16.2</td>\n",
              "      <td>16.2</td>\n",
              "    </tr>\n",
              "    <tr>\n",
              "      <th>5</th>\n",
              "      <td>Изменить структура категорий, что увеличит кон...</td>\n",
              "      <td>8</td>\n",
              "      <td>3</td>\n",
              "      <td>3</td>\n",
              "      <td>8</td>\n",
              "      <td>1.1</td>\n",
              "      <td>9.0</td>\n",
              "    </tr>\n",
              "    <tr>\n",
              "      <th>6</th>\n",
              "      <td>Запустить собственную службу доставки, что сок...</td>\n",
              "      <td>2</td>\n",
              "      <td>5</td>\n",
              "      <td>4</td>\n",
              "      <td>10</td>\n",
              "      <td>2.0</td>\n",
              "      <td>4.0</td>\n",
              "    </tr>\n",
              "    <tr>\n",
              "      <th>7</th>\n",
              "      <td>Добавить страницу отзывов клиентов о магазине,...</td>\n",
              "      <td>3</td>\n",
              "      <td>2</td>\n",
              "      <td>2</td>\n",
              "      <td>3</td>\n",
              "      <td>1.3</td>\n",
              "      <td>4.0</td>\n",
              "    </tr>\n",
              "    <tr>\n",
              "      <th>8</th>\n",
              "      <td>Изменить цвет фона главной страницы, чтобы уве...</td>\n",
              "      <td>3</td>\n",
              "      <td>1</td>\n",
              "      <td>1</td>\n",
              "      <td>1</td>\n",
              "      <td>1.0</td>\n",
              "      <td>3.0</td>\n",
              "    </tr>\n",
              "  </tbody>\n",
              "</table>\n",
              "</div>"
            ],
            "text/plain": [
              "                                          Hypothesis  Reach  Impact  \\\n",
              "0  Добавить форму подписки на все основные страни...     10       7   \n",
              "1  Добавить блоки рекомендаций товаров на сайт ин...      8       3   \n",
              "2  Добавить два новых канала привлечения трафика,...      3      10   \n",
              "3  Показать на главной странице баннеры с актуаль...      5       3   \n",
              "4  Запустить акцию, дающую скидку на товар в день...      1       9   \n",
              "5  Изменить структура категорий, что увеличит кон...      8       3   \n",
              "6  Запустить собственную службу доставки, что сок...      2       5   \n",
              "7  Добавить страницу отзывов клиентов о магазине,...      3       2   \n",
              "8  Изменить цвет фона главной страницы, чтобы уве...      3       1   \n",
              "\n",
              "   Confidence  Efforts  ice_hypothesis  rice_hypothesis  \n",
              "0           8        5            11.2            112.0  \n",
              "1           7        3             7.0             56.0  \n",
              "2           8        6            13.3             40.0  \n",
              "3           8        3             8.0             40.0  \n",
              "4           9        5            16.2             16.2  \n",
              "5           3        8             1.1              9.0  \n",
              "6           4       10             2.0              4.0  \n",
              "7           2        3             1.3              4.0  \n",
              "8           1        1             1.0              3.0  "
            ]
          },
          "execution_count": 5,
          "metadata": {},
          "output_type": "execute_result"
        }
      ],
      "source": [
        "hypothesis['rice_hypothesis'] = round((hypothesis['Reach']*hypothesis['Impact']*hypothesis['Confidence']/hypothesis['Efforts']),1)\n",
        "hypothesis.sort_values(by=['rice_hypothesis'], ascending=False).reset_index(drop=True)"
      ]
    },
    {
      "cell_type": "markdown",
      "metadata": {
        "id": "w8b34m-zJNfw"
      },
      "source": [
        "RICE учитывает важный показатель - охват аудитории, который тоже нужно учитывать.\n",
        "Таким образом, показатель с максимальной оценкой охвата аудитории лидируюует с большим отрывом от остальных - Добавить форму подписк"
      ]
    },
    {
      "cell_type": "markdown",
      "metadata": {
        "id": "oPLjNA-aJNfw"
      },
      "source": [
        "## Анализ A/B-теста"
      ]
    },
    {
      "cell_type": "markdown",
      "metadata": {
        "id": "IDRZBbKpJNfw"
      },
      "source": [
        "### Построим график кумулятивной выручки по дням и группам A/B-тестирования"
      ]
    },
    {
      "cell_type": "markdown",
      "metadata": {
        "id": "Zukc3bE7JNfw"
      },
      "source": [
        "#### Подготовим данные"
      ]
    },
    {
      "cell_type": "code",
      "execution_count": null,
      "metadata": {
        "id": "jKNjl3hbJNfw",
        "outputId": "336a0553-c651-4996-cb0f-9f826fd8a9d1"
      },
      "outputs": [
        {
          "data": {
            "text/html": [
              "<div>\n",
              "<style scoped>\n",
              "    .dataframe tbody tr th:only-of-type {\n",
              "        vertical-align: middle;\n",
              "    }\n",
              "\n",
              "    .dataframe tbody tr th {\n",
              "        vertical-align: top;\n",
              "    }\n",
              "\n",
              "    .dataframe thead th {\n",
              "        text-align: right;\n",
              "    }\n",
              "</style>\n",
              "<table border=\"1\" class=\"dataframe\">\n",
              "  <thead>\n",
              "    <tr style=\"text-align: right;\">\n",
              "      <th></th>\n",
              "      <th>transactionId</th>\n",
              "      <th>visitorId</th>\n",
              "      <th>date</th>\n",
              "      <th>revenue</th>\n",
              "      <th>group</th>\n",
              "    </tr>\n",
              "  </thead>\n",
              "  <tbody>\n",
              "    <tr>\n",
              "      <th>0</th>\n",
              "      <td>3667963787</td>\n",
              "      <td>3312258926</td>\n",
              "      <td>2019-08-15</td>\n",
              "      <td>1650</td>\n",
              "      <td>B</td>\n",
              "    </tr>\n",
              "    <tr>\n",
              "      <th>1</th>\n",
              "      <td>2804400009</td>\n",
              "      <td>3642806036</td>\n",
              "      <td>2019-08-15</td>\n",
              "      <td>730</td>\n",
              "      <td>B</td>\n",
              "    </tr>\n",
              "    <tr>\n",
              "      <th>2</th>\n",
              "      <td>2961555356</td>\n",
              "      <td>4069496402</td>\n",
              "      <td>2019-08-15</td>\n",
              "      <td>400</td>\n",
              "      <td>A</td>\n",
              "    </tr>\n",
              "  </tbody>\n",
              "</table>\n",
              "</div>"
            ],
            "text/plain": [
              "   transactionId   visitorId       date  revenue group\n",
              "0     3667963787  3312258926 2019-08-15     1650     B\n",
              "1     2804400009  3642806036 2019-08-15      730     B\n",
              "2     2961555356  4069496402 2019-08-15      400     A"
            ]
          },
          "execution_count": 6,
          "metadata": {},
          "output_type": "execute_result"
        }
      ],
      "source": [
        "orders = pd.read_csv('/datasets/orders.csv')\n",
        "orders['date'] = orders['date'].map(\n",
        "    lambda x: dt.datetime.strptime(x, '%Y-%m-%d')\n",
        ")\n",
        "\n",
        "visitors = pd.read_csv('/datasets/visitors.csv')\n",
        "visitors['date'] = visitors['date'].map(\n",
        "    lambda x: dt.datetime.strptime(x, '%Y-%m-%d')\n",
        ")\n",
        "\n",
        "orders.head(3)"
      ]
    },
    {
      "cell_type": "code",
      "execution_count": null,
      "metadata": {
        "id": "z9lFNGPdJNfw",
        "outputId": "5989b7fe-fd9c-4cbc-846b-0d0b1f461e1a"
      },
      "outputs": [
        {
          "data": {
            "text/html": [
              "<div>\n",
              "<style scoped>\n",
              "    .dataframe tbody tr th:only-of-type {\n",
              "        vertical-align: middle;\n",
              "    }\n",
              "\n",
              "    .dataframe tbody tr th {\n",
              "        vertical-align: top;\n",
              "    }\n",
              "\n",
              "    .dataframe thead th {\n",
              "        text-align: right;\n",
              "    }\n",
              "</style>\n",
              "<table border=\"1\" class=\"dataframe\">\n",
              "  <thead>\n",
              "    <tr style=\"text-align: right;\">\n",
              "      <th></th>\n",
              "      <th>date</th>\n",
              "      <th>group</th>\n",
              "      <th>visitors</th>\n",
              "    </tr>\n",
              "  </thead>\n",
              "  <tbody>\n",
              "    <tr>\n",
              "      <th>0</th>\n",
              "      <td>2019-08-01</td>\n",
              "      <td>A</td>\n",
              "      <td>719</td>\n",
              "    </tr>\n",
              "    <tr>\n",
              "      <th>1</th>\n",
              "      <td>2019-08-02</td>\n",
              "      <td>A</td>\n",
              "      <td>619</td>\n",
              "    </tr>\n",
              "    <tr>\n",
              "      <th>2</th>\n",
              "      <td>2019-08-03</td>\n",
              "      <td>A</td>\n",
              "      <td>507</td>\n",
              "    </tr>\n",
              "  </tbody>\n",
              "</table>\n",
              "</div>"
            ],
            "text/plain": [
              "        date group  visitors\n",
              "0 2019-08-01     A       719\n",
              "1 2019-08-02     A       619\n",
              "2 2019-08-03     A       507"
            ]
          },
          "execution_count": 7,
          "metadata": {},
          "output_type": "execute_result"
        }
      ],
      "source": [
        "visitors.head(3)"
      ]
    },
    {
      "cell_type": "code",
      "execution_count": null,
      "metadata": {
        "id": "UCQW8u2kJNfx",
        "outputId": "a7025ee0-eff9-46af-ab27-a4643826932c"
      },
      "outputs": [
        {
          "name": "stdout",
          "output_type": "stream",
          "text": [
            "<class 'pandas.core.frame.DataFrame'>\n",
            "RangeIndex: 1197 entries, 0 to 1196\n",
            "Data columns (total 5 columns):\n",
            " #   Column         Non-Null Count  Dtype         \n",
            "---  ------         --------------  -----         \n",
            " 0   transactionId  1197 non-null   int64         \n",
            " 1   visitorId      1197 non-null   int64         \n",
            " 2   date           1197 non-null   datetime64[ns]\n",
            " 3   revenue        1197 non-null   int64         \n",
            " 4   group          1197 non-null   object        \n",
            "dtypes: datetime64[ns](1), int64(3), object(1)\n",
            "memory usage: 46.9+ KB\n"
          ]
        }
      ],
      "source": [
        "orders.info() # пропусков нет"
      ]
    },
    {
      "cell_type": "code",
      "execution_count": null,
      "metadata": {
        "id": "S7oxfib3JNfx",
        "outputId": "c9d85bea-4c37-4199-b368-391e6e7a0791"
      },
      "outputs": [
        {
          "name": "stdout",
          "output_type": "stream",
          "text": [
            "<class 'pandas.core.frame.DataFrame'>\n",
            "RangeIndex: 62 entries, 0 to 61\n",
            "Data columns (total 3 columns):\n",
            " #   Column    Non-Null Count  Dtype         \n",
            "---  ------    --------------  -----         \n",
            " 0   date      62 non-null     datetime64[ns]\n",
            " 1   group     62 non-null     object        \n",
            " 2   visitors  62 non-null     int64         \n",
            "dtypes: datetime64[ns](1), int64(1), object(1)\n",
            "memory usage: 1.6+ KB\n"
          ]
        }
      ],
      "source": [
        "visitors.info() # пропусков нет"
      ]
    },
    {
      "cell_type": "markdown",
      "metadata": {
        "id": "SC5B27l3JNfx"
      },
      "source": [
        "Создаем массив уникальных пар значений дат и групп теста"
      ]
    },
    {
      "cell_type": "code",
      "execution_count": null,
      "metadata": {
        "id": "hgne5u5yJNfx"
      },
      "outputs": [],
      "source": [
        "datesGroups = orders[['date', 'group']].drop_duplicates()"
      ]
    },
    {
      "cell_type": "markdown",
      "metadata": {
        "id": "cMMvTRD9JNfx"
      },
      "source": [
        "Соберём агрегированные кумулятивные по дням данные о заказах"
      ]
    },
    {
      "cell_type": "code",
      "execution_count": null,
      "metadata": {
        "id": "N3VksqM9JNfx"
      },
      "outputs": [],
      "source": [
        "ordersAggregated = datesGroups.apply(\n",
        "    lambda x: orders[\n",
        "        np.logical_and(\n",
        "            orders['date'] <= x['date'], orders['group'] == x['group']\n",
        "        )\n",
        "    ].agg(\n",
        "        {\n",
        "            'date': 'max',\n",
        "            'group': 'max',\n",
        "            'transactionId': 'nunique',\n",
        "            'visitorId': 'nunique',\n",
        "            'revenue': 'sum',\n",
        "        }\n",
        "    ),\n",
        "    axis=1,\n",
        ").sort_values(by=['date', 'group'])"
      ]
    },
    {
      "cell_type": "markdown",
      "metadata": {
        "id": "YO6lfJ5VJNfx"
      },
      "source": [
        "Получим агрегированные кумулятивные данные по дням о посетителях интернет-магазина"
      ]
    },
    {
      "cell_type": "code",
      "execution_count": null,
      "metadata": {
        "id": "NW3MyEexJNfy"
      },
      "outputs": [],
      "source": [
        "visitorsAggregated = datesGroups.apply(\n",
        "    lambda x: visitors[\n",
        "        np.logical_and(\n",
        "            visitors['date'] <= x['date'], visitors['group'] == x['group']\n",
        "        )\n",
        "    ].agg({'date': 'max', 'group': 'max', 'visitors': 'sum'}),\n",
        "    axis=1,\n",
        ").sort_values(by=['date', 'group'])"
      ]
    },
    {
      "cell_type": "markdown",
      "metadata": {
        "id": "ImI-YCCXJNfy"
      },
      "source": [
        "Объединим обе таблицы в одну"
      ]
    },
    {
      "cell_type": "code",
      "execution_count": null,
      "metadata": {
        "id": "LraAVI9DJNfy",
        "outputId": "6d161802-79df-496c-e648-215cfc7eba34"
      },
      "outputs": [
        {
          "data": {
            "text/html": [
              "<div>\n",
              "<style scoped>\n",
              "    .dataframe tbody tr th:only-of-type {\n",
              "        vertical-align: middle;\n",
              "    }\n",
              "\n",
              "    .dataframe tbody tr th {\n",
              "        vertical-align: top;\n",
              "    }\n",
              "\n",
              "    .dataframe thead th {\n",
              "        text-align: right;\n",
              "    }\n",
              "</style>\n",
              "<table border=\"1\" class=\"dataframe\">\n",
              "  <thead>\n",
              "    <tr style=\"text-align: right;\">\n",
              "      <th></th>\n",
              "      <th>date</th>\n",
              "      <th>group</th>\n",
              "      <th>orders</th>\n",
              "      <th>buyers</th>\n",
              "      <th>revenue</th>\n",
              "      <th>visitors</th>\n",
              "    </tr>\n",
              "  </thead>\n",
              "  <tbody>\n",
              "    <tr>\n",
              "      <th>0</th>\n",
              "      <td>2019-08-01</td>\n",
              "      <td>A</td>\n",
              "      <td>24</td>\n",
              "      <td>20</td>\n",
              "      <td>148579</td>\n",
              "      <td>719</td>\n",
              "    </tr>\n",
              "    <tr>\n",
              "      <th>1</th>\n",
              "      <td>2019-08-01</td>\n",
              "      <td>B</td>\n",
              "      <td>21</td>\n",
              "      <td>20</td>\n",
              "      <td>101217</td>\n",
              "      <td>713</td>\n",
              "    </tr>\n",
              "    <tr>\n",
              "      <th>2</th>\n",
              "      <td>2019-08-02</td>\n",
              "      <td>A</td>\n",
              "      <td>44</td>\n",
              "      <td>38</td>\n",
              "      <td>242401</td>\n",
              "      <td>1338</td>\n",
              "    </tr>\n",
              "    <tr>\n",
              "      <th>3</th>\n",
              "      <td>2019-08-02</td>\n",
              "      <td>B</td>\n",
              "      <td>45</td>\n",
              "      <td>43</td>\n",
              "      <td>266748</td>\n",
              "      <td>1294</td>\n",
              "    </tr>\n",
              "    <tr>\n",
              "      <th>4</th>\n",
              "      <td>2019-08-03</td>\n",
              "      <td>A</td>\n",
              "      <td>68</td>\n",
              "      <td>62</td>\n",
              "      <td>354874</td>\n",
              "      <td>1845</td>\n",
              "    </tr>\n",
              "  </tbody>\n",
              "</table>\n",
              "</div>"
            ],
            "text/plain": [
              "        date group  orders  buyers  revenue  visitors\n",
              "0 2019-08-01     A      24      20   148579       719\n",
              "1 2019-08-01     B      21      20   101217       713\n",
              "2 2019-08-02     A      44      38   242401      1338\n",
              "3 2019-08-02     B      45      43   266748      1294\n",
              "4 2019-08-03     A      68      62   354874      1845"
            ]
          },
          "execution_count": 13,
          "metadata": {},
          "output_type": "execute_result"
        }
      ],
      "source": [
        "cumulativeData = ordersAggregated.merge(visitorsAggregated, left_on=['date', 'group'], right_on=['date', 'group'])\n",
        "cumulativeData.columns = ['date', 'group', 'orders', 'buyers', 'revenue', 'visitors']\n",
        "cumulativeData.head()"
      ]
    },
    {
      "cell_type": "markdown",
      "metadata": {
        "id": "3x2y4PkCJNf2"
      },
      "source": [
        "#### Построим график кумулятивной выручки обеих групп"
      ]
    },
    {
      "cell_type": "code",
      "execution_count": null,
      "metadata": {
        "id": "mIMszYQMJNf2",
        "outputId": "d39a363f-dfab-4a61-f4a6-91515fc4acc9"
      },
      "outputs": [
        {
          "data": {
            "image/png": "[encoded data removed]",
            "text/plain": [
              "<Figure size 1080x360 with 1 Axes>"
            ]
          },
          "metadata": {
            "needs_background": "light"
          },
          "output_type": "display_data"
        }
      ],
      "source": [
        "cumulativeRevenueA = cumulativeData[cumulativeData['group']=='A'][['date','revenue', 'orders']]\n",
        "cumulativeRevenueB = cumulativeData[cumulativeData['group']=='B'][['date','revenue', 'orders']]\n",
        "plt.figure(figsize=(15,5))\n",
        "plt.plot(cumulativeRevenueA['date'], cumulativeRevenueA['revenue'], label='A')\n",
        "plt.plot(cumulativeRevenueB['date'], cumulativeRevenueB['revenue'], label='B')\n",
        "plt.grid()\n",
        "plt.title('График графики кумулятивной выручки обеих групп')\n",
        "plt.ylabel('Выручка')\n",
        "plt.xlabel('Дата')\n",
        "plt.legend();"
      ]
    },
    {
      "cell_type": "markdown",
      "metadata": {
        "id": "7Fv2RVQ5JNf3"
      },
      "source": [
        "Группа В стабильно лидирует, но виден сильный скачек, возможно это связано с большим заказом."
      ]
    },
    {
      "cell_type": "markdown",
      "metadata": {
        "id": "ODufuByWJNf3"
      },
      "source": [
        "### Построим графики среднего чека по группам"
      ]
    },
    {
      "cell_type": "code",
      "execution_count": null,
      "metadata": {
        "id": "VN19wQtjJNf3",
        "outputId": "15fa5c76-f03a-4847-8bb4-7cda40d88e53"
      },
      "outputs": [
        {
          "data": {
            "image/png": "[encoded data removed]",
            "text/plain": [
              "<Figure size 1080x360 with 1 Axes>"
            ]
          },
          "metadata": {
            "needs_background": "light"
          },
          "output_type": "display_data"
        }
      ],
      "source": [
        "plt.figure(figsize=(15,5))\n",
        "plt.plot(cumulativeRevenueA['date'], cumulativeRevenueA['revenue']/cumulativeRevenueA['orders'], label='A')\n",
        "plt.plot(cumulativeRevenueB['date'], cumulativeRevenueB['revenue']/cumulativeRevenueB['orders'], label='B')\n",
        "plt.grid()\n",
        "plt.legend()\n",
        "plt.ylabel('Средний чек')\n",
        "plt.xlabel('Дата')\n",
        "plt.title('График среднего чека');"
      ]
    },
    {
      "cell_type": "markdown",
      "metadata": {
        "id": "S8cTs1ETJNf3"
      },
      "source": [
        "Большая покупка увеличила средний чек в группе В, делать выводы рано. Далее даниамика группы \"B\" снижается, а у группы \"A\" двигается вверх, надо избавиться от аномалий."
      ]
    },
    {
      "cell_type": "markdown",
      "metadata": {
        "id": "DKHc5ovwJNf3"
      },
      "source": [
        "### Построим график относительного изменения кумулятивного среднего чека группы B к группе A"
      ]
    },
    {
      "cell_type": "code",
      "execution_count": null,
      "metadata": {
        "id": "Wf-_GzvTJNf3",
        "outputId": "84225eb2-836b-4737-da6a-0896dd7b06f1"
      },
      "outputs": [
        {
          "data": {
            "image/png": "[encoded data removed]",
            "text/plain": [
              "<Figure size 1080x360 with 1 Axes>"
            ]
          },
          "metadata": {
            "needs_background": "light"
          },
          "output_type": "display_data"
        }
      ],
      "source": [
        "mergedCumulativeRevenue = cumulativeRevenueA.merge(cumulativeRevenueB, left_on='date', right_on='date', how='left', suffixes=['A', 'B'])\n",
        "plt.figure(figsize=(15,5))\n",
        "plt.plot(mergedCumulativeRevenue['date'], (mergedCumulativeRevenue['revenueB']/mergedCumulativeRevenue['ordersB'])/(mergedCumulativeRevenue['revenueA']/mergedCumulativeRevenue['ordersA'])-1)\n",
        "plt.grid(axis='y')\n",
        "plt.ylabel('Относительное отношение группы B к группе A')\n",
        "plt.xlabel('Дата')\n",
        "plt.axhline(y=0, color='black', linestyle='--');"
      ]
    },
    {
      "cell_type": "markdown",
      "metadata": {
        "id": "tIicdNsCJNf4"
      },
      "source": [
        "График сильно скачет, аномально большие заказы."
      ]
    },
    {
      "cell_type": "markdown",
      "metadata": {
        "id": "QBP6Jjg0JNf4"
      },
      "source": [
        "### Построим график кумулятивного среднего количества заказов на посетителя по группам."
      ]
    },
    {
      "cell_type": "code",
      "execution_count": null,
      "metadata": {
        "id": "M5mOIJXwJNf4",
        "outputId": "425551e8-add9-47f3-f58a-9b389e78e064"
      },
      "outputs": [
        {
          "data": {
            "image/png": "[encoded data removed]",
            "text/plain": [
              "<Figure size 1080x360 with 1 Axes>"
            ]
          },
          "metadata": {
            "needs_background": "light"
          },
          "output_type": "display_data"
        }
      ],
      "source": [
        "cumulativeData['conversion'] = cumulativeData['orders']/cumulativeData['visitors']\n",
        "cumulativeDataA = cumulativeData[cumulativeData['group']=='A']\n",
        "cumulativeDataB = cumulativeData[cumulativeData['group']=='B']\n",
        "\n",
        "plt.figure(figsize=(15,5))\n",
        "plt.plot(cumulativeDataA['date'], cumulativeDataA['conversion'], label='A')\n",
        "plt.plot(cumulativeDataB['date'], cumulativeDataB['conversion'], label='B')\n",
        "plt.ylabel('Кумулятивное среднее количества заказов')\n",
        "plt.xlabel('Дата')\n",
        "plt.legend();"
      ]
    },
    {
      "cell_type": "markdown",
      "metadata": {
        "id": "HMWVghgkJNf4"
      },
      "source": [
        "В группе \"В\" количество заказов выше но также снижается как и у группы A"
      ]
    },
    {
      "cell_type": "markdown",
      "metadata": {
        "id": "H3F5x2r4JNf4"
      },
      "source": [
        "### Постройте график относительного изменения кумулятивного среднего количества заказов на посетителя группы B к группе A"
      ]
    },
    {
      "cell_type": "code",
      "execution_count": null,
      "metadata": {
        "id": "QHVZrmBkJNf5",
        "outputId": "97b1f7fc-8a95-4f15-98ee-a6f82b1b677a"
      },
      "outputs": [
        {
          "data": {
            "image/png": "[encoded data removed]",
            "text/plain": [
              "<Figure size 1080x360 with 1 Axes>"
            ]
          },
          "metadata": {
            "needs_background": "light"
          },
          "output_type": "display_data"
        }
      ],
      "source": [
        "mergedCumulativeConversions = cumulativeDataA[['date','conversion']].merge(cumulativeDataB[['date','conversion']], left_on='date', right_on='date', how='left', suffixes=['A', 'B'])\n",
        "plt.figure(figsize=(15,5))\n",
        "plt.plot(mergedCumulativeConversions['date'], mergedCumulativeConversions['conversionB']/mergedCumulativeConversions['conversionA']-1, label=\"Относительный прирост количества заказов группы B относительно группы\")\n",
        "plt.legend()\n",
        "plt.grid()\n",
        "plt.ylabel('группа B к группе A')\n",
        "plt.xlabel('Дата')\n",
        "plt.axhline(y=0, color='black', linestyle='--');"
      ]
    },
    {
      "cell_type": "markdown",
      "metadata": {
        "id": "Omsx7Br3JNf5"
      },
      "source": [
        "Видно, что количество заказов в группе В намного лучше чем в группе А"
      ]
    },
    {
      "cell_type": "markdown",
      "metadata": {
        "id": "EiqxW_XZJNf5"
      },
      "source": [
        "### Построим точечный график количества заказов по пользователям"
      ]
    },
    {
      "cell_type": "code",
      "execution_count": null,
      "metadata": {
        "id": "u9i5tPjlJNf5",
        "outputId": "6d4dd10e-73b0-4db2-84c6-e4774f27fc6b"
      },
      "outputs": [
        {
          "data": {
            "image/png": "[encoded data removed]",
            "text/plain": [
              "<Figure size 432x288 with 1 Axes>"
            ]
          },
          "metadata": {
            "needs_background": "light"
          },
          "output_type": "display_data"
        }
      ],
      "source": [
        "ordersByUsers = (\n",
        "    orders.groupby('visitorId', as_index=False)\n",
        "    .agg({'transactionId': 'nunique'})\n",
        ")\n",
        "\n",
        "ordersByUsers.columns = ['userId', 'orders']\n",
        "\n",
        "x_values = pd.Series(range(0,len(ordersByUsers)))\n",
        "\n",
        "plt.scatter(x_values, ordersByUsers['orders'])\n",
        "plt.grid(axis = 'y')\n",
        "plt.title('Количество заказов по пользователям')\n",
        "plt.xlabel('Заказы')\n",
        "plt.ylabel('Количество заказов');"
      ]
    },
    {
      "cell_type": "markdown",
      "source": [
        "Много пользователей с 2-4 заказами, еще не ясно где выбросы, поэтому посчитаем выборочные перцентили количества заказов на одного пользователя:"
      ],
      "metadata": {
        "id": "eKxkf2QZKgLU"
      }
    },
    {
      "cell_type": "markdown",
      "metadata": {
        "id": "3jFSiYIQJNf6"
      },
      "source": [
        "### Посчитаем 95-й и 99-й перцентили количества заказов на пользователя"
      ]
    },
    {
      "cell_type": "code",
      "execution_count": null,
      "metadata": {
        "id": "IHpGt8P9JNf6",
        "outputId": "6dcc052b-6900-4738-fc17-2b87a67e8c08"
      },
      "outputs": [
        {
          "name": "stdout",
          "output_type": "stream",
          "text": [
            "[2. 4.]\n"
          ]
        }
      ],
      "source": [
        "print(np.percentile(ordersByUsers['orders'], [95, 99]))"
      ]
    },
    {
      "cell_type": "markdown",
      "metadata": {
        "id": "lg08qfY8JNf6"
      },
      "source": [
        "Не более 5% заказов больше 2, и не более 1% заказов более 4.\n",
        "Больше 3 заказов - выброс\n"
      ]
    },
    {
      "cell_type": "markdown",
      "metadata": {
        "id": "y0bwk2btJNf6"
      },
      "source": [
        "### Постройте точечный график стоимостей заказов"
      ]
    },
    {
      "cell_type": "code",
      "execution_count": null,
      "metadata": {
        "id": "Gp7KFSq-JNf6",
        "outputId": "b05ee5a2-fc5d-47f0-a80f-6b1173c71320"
      },
      "outputs": [
        {
          "data": {
            "image/png": "[encoded data removed]",
            "text/plain": [
              "<Figure size 432x288 with 1 Axes>"
            ]
          },
          "metadata": {
            "needs_background": "light"
          },
          "output_type": "display_data"
        }
      ],
      "source": [
        "x_values = pd.Series(range(0,len(orders['revenue'])))\n",
        "plt.title('График стоимостей заказов')\n",
        "plt.ylabel('Стоимость заказов')\n",
        "plt.xlabel('Заказы')\n",
        "plt.scatter(x_values, orders['revenue']);"
      ]
    },
    {
      "cell_type": "markdown",
      "metadata": {
        "id": "v205TurBJNf6"
      },
      "source": [
        "Виден один большой выброс и один поменьше, это слишком большие выбросы их можно убрать вручную"
      ]
    },
    {
      "cell_type": "code",
      "execution_count": null,
      "metadata": {
        "id": "muF9eRy-JNf7",
        "outputId": "902fb949-8b20-438f-a479-ca2047c28b9a"
      },
      "outputs": [
        {
          "data": {
            "image/png": "[encoded data removed]",
            "text/plain": [
              "<Figure size 1080x504 with 1 Axes>"
            ]
          },
          "metadata": {
            "needs_background": "light"
          },
          "output_type": "display_data"
        }
      ],
      "source": [
        "y_values = orders[orders['revenue']<=200000]['revenue']\n",
        "x_values = pd.Series(range(0,len(y_values)))\n",
        "plt.figure(figsize=(15,7))\n",
        "plt.scatter(x_values, y_values)\n",
        "plt.ylabel('Стоимость заказов')\n",
        "plt.xlabel('Заказы')\n",
        "plt.grid(axis='y')\n",
        "plt.title('График стоимостей заказов');"
      ]
    },
    {
      "cell_type": "markdown",
      "metadata": {
        "id": "KAbHdyeOJNf7"
      },
      "source": [
        "Основная масса данных о стоимости лежит до 60.000 рублей"
      ]
    },
    {
      "cell_type": "markdown",
      "metadata": {
        "id": "Enq9GfqoJNf7"
      },
      "source": [
        "### Посчитайте 95-й и 99-й перцентили стоимости заказов"
      ]
    },
    {
      "cell_type": "code",
      "execution_count": null,
      "metadata": {
        "id": "2ViKwVx8JNf7",
        "outputId": "6fdc10e0-5850-4f44-8d1e-98e512cd146f"
      },
      "outputs": [
        {
          "name": "stdout",
          "output_type": "stream",
          "text": [
            "[28000.  58233.2]\n"
          ]
        }
      ],
      "source": [
        "print(np.percentile(orders['revenue'],[95,99]))"
      ]
    },
    {
      "cell_type": "markdown",
      "metadata": {
        "id": "j_v69guiJNf7"
      },
      "source": [
        "Не более 1% заказов дороже 58233.2 рублей - это и будет граница выбросов"
      ]
    },
    {
      "cell_type": "markdown",
      "metadata": {
        "id": "bZdDNcbjJNf7"
      },
      "source": [
        "### Посчитаем статистическую значимость различий в среднем количестве заказов на посетителя между группами по «сырым» данным"
      ]
    },
    {
      "cell_type": "code",
      "execution_count": null,
      "metadata": {
        "id": "0C2hZPctJNf8",
        "outputId": "13e81d48-9bae-45e9-e3db-59dcde8339ef"
      },
      "outputs": [
        {
          "data": {
            "text/html": [
              "<div>\n",
              "<style scoped>\n",
              "    .dataframe tbody tr th:only-of-type {\n",
              "        vertical-align: middle;\n",
              "    }\n",
              "\n",
              "    .dataframe tbody tr th {\n",
              "        vertical-align: top;\n",
              "    }\n",
              "\n",
              "    .dataframe thead th {\n",
              "        text-align: right;\n",
              "    }\n",
              "</style>\n",
              "<table border=\"1\" class=\"dataframe\">\n",
              "  <thead>\n",
              "    <tr style=\"text-align: right;\">\n",
              "      <th></th>\n",
              "      <th>transactionId</th>\n",
              "      <th>visitorId</th>\n",
              "      <th>date</th>\n",
              "      <th>revenue</th>\n",
              "      <th>group</th>\n",
              "    </tr>\n",
              "  </thead>\n",
              "  <tbody>\n",
              "    <tr>\n",
              "      <th>0</th>\n",
              "      <td>3667963787</td>\n",
              "      <td>3312258926</td>\n",
              "      <td>2019-08-15</td>\n",
              "      <td>1650</td>\n",
              "      <td>B</td>\n",
              "    </tr>\n",
              "  </tbody>\n",
              "</table>\n",
              "</div>"
            ],
            "text/plain": [
              "   transactionId   visitorId       date  revenue group\n",
              "0     3667963787  3312258926 2019-08-15     1650     B"
            ]
          },
          "execution_count": 24,
          "metadata": {},
          "output_type": "execute_result"
        }
      ],
      "source": [
        "orders.head(1)"
      ]
    },
    {
      "cell_type": "markdown",
      "metadata": {
        "id": "8FSrMikMJNf8"
      },
      "source": [
        "Проверим гипотезы:\n",
        "-  Среднее количество заказов (в \"сырых\" и \"очищенны\" данных):\n",
        " -  H0: Среднее количество заказов не различны,\n",
        " -  H1: Среднее количество заказов разное в группах.\n",
        "- Средний чек заказов (в \"сырых\" и \"очищенны\" данных):\n",
        " - H0: Средний чек в заказах не различны\n",
        " - H1: Средний чек в заказах различен"
      ]
    },
    {
      "cell_type": "code",
      "execution_count": null,
      "metadata": {
        "id": "HZsXblPbJNf8",
        "outputId": "ece297d6-d7b8-4415-b3e8-1aaa8ebb70d7"
      },
      "outputs": [
        {
          "data": {
            "text/html": [
              "<div>\n",
              "<style scoped>\n",
              "    .dataframe tbody tr th:only-of-type {\n",
              "        vertical-align: middle;\n",
              "    }\n",
              "\n",
              "    .dataframe tbody tr th {\n",
              "        vertical-align: top;\n",
              "    }\n",
              "\n",
              "    .dataframe thead th {\n",
              "        text-align: right;\n",
              "    }\n",
              "</style>\n",
              "<table border=\"1\" class=\"dataframe\">\n",
              "  <thead>\n",
              "    <tr style=\"text-align: right;\">\n",
              "      <th></th>\n",
              "      <th>date</th>\n",
              "      <th>ordersPerDateA</th>\n",
              "      <th>revenuePerDateA</th>\n",
              "      <th>ordersPerDateB</th>\n",
              "      <th>revenuePerDateB</th>\n",
              "      <th>ordersCummulativeA</th>\n",
              "      <th>revenueCummulativeA</th>\n",
              "      <th>ordersCummulativeB</th>\n",
              "      <th>revenueCummulativeB</th>\n",
              "      <th>visitorsPerDateA</th>\n",
              "      <th>visitorsPerDateB</th>\n",
              "      <th>visitorsCummulativeA</th>\n",
              "      <th>visitorsCummulativeB</th>\n",
              "    </tr>\n",
              "  </thead>\n",
              "  <tbody>\n",
              "    <tr>\n",
              "      <th>0</th>\n",
              "      <td>2019-08-01</td>\n",
              "      <td>24</td>\n",
              "      <td>148579</td>\n",
              "      <td>21</td>\n",
              "      <td>101217</td>\n",
              "      <td>24</td>\n",
              "      <td>148579</td>\n",
              "      <td>21</td>\n",
              "      <td>101217</td>\n",
              "      <td>719</td>\n",
              "      <td>713</td>\n",
              "      <td>719</td>\n",
              "      <td>713</td>\n",
              "    </tr>\n",
              "    <tr>\n",
              "      <th>1</th>\n",
              "      <td>2019-08-02</td>\n",
              "      <td>20</td>\n",
              "      <td>93822</td>\n",
              "      <td>24</td>\n",
              "      <td>165531</td>\n",
              "      <td>44</td>\n",
              "      <td>242401</td>\n",
              "      <td>45</td>\n",
              "      <td>266748</td>\n",
              "      <td>619</td>\n",
              "      <td>581</td>\n",
              "      <td>1338</td>\n",
              "      <td>1294</td>\n",
              "    </tr>\n",
              "    <tr>\n",
              "      <th>2</th>\n",
              "      <td>2019-08-03</td>\n",
              "      <td>24</td>\n",
              "      <td>112473</td>\n",
              "      <td>16</td>\n",
              "      <td>114248</td>\n",
              "      <td>68</td>\n",
              "      <td>354874</td>\n",
              "      <td>61</td>\n",
              "      <td>380996</td>\n",
              "      <td>507</td>\n",
              "      <td>509</td>\n",
              "      <td>1845</td>\n",
              "      <td>1803</td>\n",
              "    </tr>\n",
              "    <tr>\n",
              "      <th>3</th>\n",
              "      <td>2019-08-04</td>\n",
              "      <td>16</td>\n",
              "      <td>70825</td>\n",
              "      <td>17</td>\n",
              "      <td>108571</td>\n",
              "      <td>84</td>\n",
              "      <td>425699</td>\n",
              "      <td>78</td>\n",
              "      <td>489567</td>\n",
              "      <td>717</td>\n",
              "      <td>770</td>\n",
              "      <td>2562</td>\n",
              "      <td>2573</td>\n",
              "    </tr>\n",
              "  </tbody>\n",
              "</table>\n",
              "</div>"
            ],
            "text/plain": [
              "        date  ordersPerDateA  revenuePerDateA  ordersPerDateB  \\\n",
              "0 2019-08-01              24           148579              21   \n",
              "1 2019-08-02              20            93822              24   \n",
              "2 2019-08-03              24           112473              16   \n",
              "3 2019-08-04              16            70825              17   \n",
              "\n",
              "   revenuePerDateB  ordersCummulativeA  revenueCummulativeA  \\\n",
              "0           101217                  24               148579   \n",
              "1           165531                  44               242401   \n",
              "2           114248                  68               354874   \n",
              "3           108571                  84               425699   \n",
              "\n",
              "   ordersCummulativeB  revenueCummulativeB  visitorsPerDateA  \\\n",
              "0                  21               101217               719   \n",
              "1                  45               266748               619   \n",
              "2                  61               380996               507   \n",
              "3                  78               489567               717   \n",
              "\n",
              "   visitorsPerDateB  visitorsCummulativeA  visitorsCummulativeB  \n",
              "0               713                   719                   713  \n",
              "1               581                  1338                  1294  \n",
              "2               509                  1845                  1803  \n",
              "3               770                  2562                  2573  "
            ]
          },
          "execution_count": 25,
          "metadata": {},
          "output_type": "execute_result"
        }
      ],
      "source": [
        "visitorsADaily = visitors[visitors['group']=='A'][['date', 'visitors']]\n",
        "visitorsADaily.columns = ['date', 'visitorsPerDateA']\n",
        "\n",
        "visitorsACummulative = visitorsADaily.apply(lambda x: visitorsADaily[visitorsADaily['date'] <= x['date']]. \\\n",
        "                                            agg({'date' : 'max', 'visitorsPerDateA' : 'sum'}), axis=1)\n",
        "visitorsACummulative.columns = ['date', 'visitorsCummulativeA']\n",
        "\n",
        "visitorsBDaily = visitors[visitors['group']=='B'][['date', 'visitors']]\n",
        "visitorsBDaily.columns = ['date', 'visitorsPerDateB']\n",
        "\n",
        "visitorsBCummulative = visitorsBDaily.apply(lambda x: visitorsBDaily[visitorsBDaily['date'] <= x['date']]. \\\n",
        "                                            agg({'date' : 'max', 'visitorsPerDateB' : 'sum'}), axis=1)\n",
        "visitorsBCummulative.columns = ['date', 'visitorsCummulativeB']\n",
        "\n",
        "\n",
        "ordersADaily = orders[orders['group']=='A'][['date', 'transactionId', 'visitorId', 'revenue']]\\\n",
        "    .groupby('date', as_index=False)\\\n",
        "    .agg({'transactionId' : pd.Series.nunique, 'revenue' : 'sum'})\n",
        "ordersADaily.columns = ['date', 'ordersPerDateA', 'revenuePerDateA']\n",
        "\n",
        "ordersACummulative = ordersADaily.apply(\n",
        "    lambda x: \\\n",
        "        ordersADaily[ordersADaily['date'] <= x['date']]\\\n",
        "            .agg({\n",
        "                'date' : 'max',\n",
        "                'ordersPerDateA' : 'sum',\n",
        "                'revenuePerDateA' : 'sum'}), axis=1).sort_values(by=['date'])\n",
        "ordersACummulative.columns = ['date', 'ordersCummulativeA', 'revenueCummulativeA']\n",
        "\n",
        "ordersBDaily = orders[orders['group']=='B'][['date', 'transactionId', 'visitorId', 'revenue']]\\\n",
        "    .groupby('date', as_index=False)\\\n",
        "    .agg({'transactionId' : pd.Series.nunique, 'revenue' : 'sum'})\n",
        "ordersBDaily.columns = ['date', 'ordersPerDateB', 'revenuePerDateB']\n",
        "\n",
        "ordersBCummulative = ordersBDaily.apply(\n",
        "    lambda x: \\\n",
        "        ordersBDaily[ordersBDaily['date'] <= x['date']]\\\n",
        "            .agg({\n",
        "                'date' : 'max',\n",
        "                'ordersPerDateB' : 'sum',\n",
        "                'revenuePerDateB' : 'sum'}), axis=1).sort_values(by=['date'])\n",
        "ordersBCummulative.columns = ['date', 'ordersCummulativeB', 'revenueCummulativeB']\n",
        "\n",
        "data = ordersADaily.merge(ordersBDaily, left_on='date', right_on='date', how='left')\\\n",
        "    .merge(ordersACummulative, left_on='date', right_on='date', how='left')\\\n",
        "    .merge(ordersBCummulative, left_on='date', right_on='date', how='left')\\\n",
        "    .merge(visitorsADaily, left_on='date', right_on='date', how='left')\\\n",
        "    .merge(visitorsBDaily, left_on='date', right_on='date', how='left')\\\n",
        "    .merge(visitorsACummulative, left_on='date', right_on='date', how='left')\\\n",
        "    .merge(visitorsBCummulative, left_on='date', right_on='date', how='left')\n",
        "data.head(4)"
      ]
    },
    {
      "cell_type": "code",
      "execution_count": null,
      "metadata": {
        "id": "wLIpLk_-JNf8",
        "outputId": "bfbc61a1-c992-4100-9d17-a854ace5ea0e"
      },
      "outputs": [
        {
          "name": "stdout",
          "output_type": "stream",
          "text": [
            "p-value = 0.017\n",
            "относительное различие в среднем между группами = 0.138\n"
          ]
        }
      ],
      "source": [
        "ordersByUsersA = orders[orders['group']=='A'].groupby('visitorId', as_index=False).agg({'transactionId' : pd.Series.nunique})\n",
        "ordersByUsersA.columns = ['userId', 'orders']\n",
        "\n",
        "ordersByUsersB = orders[orders['group']=='B'].groupby('visitorId', as_index=False).agg({'transactionId' : pd.Series.nunique})\n",
        "ordersByUsersB.columns = ['userId', 'orders']\n",
        "\n",
        "sampleA = pd.concat([ordersByUsersA['orders'],pd.Series(0, index=np.arange(data['visitorsPerDateA'].sum() - len(ordersByUsersA['orders'])), name='orders')],axis=0)\n",
        "\n",
        "sampleB = pd.concat([ordersByUsersB['orders'],pd.Series(0, index=np.arange(data['visitorsPerDateB'].sum() - len(ordersByUsersB['orders'])), name='orders')],axis=0)\n",
        "\n",
        "print(\"p-value = {0:.3f}\".format(stats.mannwhitneyu(sampleA, sampleB)[1]))\n",
        "print(\"относительное различие в среднем между группами = {0:.3f}\".format(sampleB.mean() / sampleA.mean() - 1))"
      ]
    },
    {
      "cell_type": "markdown",
      "metadata": {
        "id": "M6uF86iLJNf9"
      },
      "source": [
        "p-value меньше 0,05, значит по «сырым» данным различия в количество заказов групп A и B есть. \"В\" выигрывает на 13.8%\n",
        "Подтвердилась альтернативная гипотеза - Среднее количество заказов разное в группах, отвергаем нулевую гипотезу."
      ]
    },
    {
      "cell_type": "markdown",
      "metadata": {
        "id": "AoJlfVrrJNf9"
      },
      "source": [
        "### Посчитаем статистическую значимость различий в среднем чеке заказа между группами по «сырым» данным"
      ]
    },
    {
      "cell_type": "markdown",
      "metadata": {
        "id": "1uQvmv9gJNf9"
      },
      "source": [
        "#### Проверим гипотезы:\n",
        "\n",
        "Средний чек заказов в \"сырых\"  данных:\n",
        "- H0: Средний чек в заказах не различны\n",
        "- H1: Средний чек в заказах различен\n"
      ]
    },
    {
      "cell_type": "code",
      "execution_count": null,
      "metadata": {
        "id": "Uof7963YJNf9",
        "outputId": "3b9ae1d2-48d8-45dd-b03d-fcd9ccfe6680"
      },
      "outputs": [
        {
          "name": "stdout",
          "output_type": "stream",
          "text": [
            "p-value = 0.729\n",
            "относительный прирост среднего чека группы B = 0.259\n"
          ]
        }
      ],
      "source": [
        "print(\"p-value = {0:.3f}\".format(stats.mannwhitneyu(orders[orders['group']=='A']['revenue'], orders[orders['group']=='B']['revenue'], alternative = 'two-sided')[1]))\n",
        "print(\"относительный прирост среднего чека группы B = {0:.3f}\".format(orders[orders['group']=='B']['revenue'].mean()/orders[orders['group']=='A']['revenue'].mean()-1))"
      ]
    },
    {
      "cell_type": "markdown",
      "metadata": {
        "id": "hZkvoGdBJNf-"
      },
      "source": [
        "Мы не можем отвергать нулевую гепотезу, так как p-value > 5%, значит мы не отвергаем гипотезу что различий нет. Хотя средняя разница в чеках у группы \"B\" больше на 26%"
      ]
    },
    {
      "cell_type": "markdown",
      "metadata": {
        "id": "edrwcb70JNf-"
      },
      "source": [
        "### Посчитаем статистическую значимость различий в среднем количестве заказов на посетителя между группами по «очищенным» данным"
      ]
    },
    {
      "cell_type": "code",
      "execution_count": null,
      "metadata": {
        "scrolled": true,
        "id": "E59KULfHJNf-",
        "outputId": "0035ae86-aa74-4a70-b980-6e707e55098a"
      },
      "outputs": [
        {
          "name": "stdout",
          "output_type": "stream",
          "text": [
            "20 аномальных пользователя\n"
          ]
        }
      ],
      "source": [
        "usersWithManyOrders = pd.concat(\n",
        "    [\n",
        "        ordersByUsersA[ordersByUsersA['orders'] > 3]['userId'],\n",
        "        ordersByUsersB[ordersByUsersB['orders'] > 3]['userId'],\n",
        "    ],\n",
        "    axis=0,\n",
        ")\n",
        "usersWithExpensiveOrders = orders[orders['revenue'] > 58233.2]['visitorId']\n",
        "abnormalUsers = (\n",
        "    pd.concat([usersWithManyOrders, usersWithExpensiveOrders], axis=0)\n",
        "    .drop_duplicates()\n",
        "    .sort_values()\n",
        ")\n",
        "print(abnormalUsers.shape[0],'аномальных пользователя')"
      ]
    },
    {
      "cell_type": "markdown",
      "metadata": {
        "id": "WRkS6x5tJNf-"
      },
      "source": [
        "Узнаем, как их действия повлияли на результаты теста.\n",
        "\n",
        "\n",
        "#### Проверим гипотезы:\n",
        "\n",
        "Среднее количество заказов в \"очищенны\" данных:\n",
        "- H0: Среднее количество заказов не различны,\n",
        "- H1: Среднее количество заказов разное в группах."
      ]
    },
    {
      "cell_type": "code",
      "execution_count": null,
      "metadata": {
        "id": "uViwKkWgJNf_",
        "outputId": "bade99e9-5fb3-4a81-98f4-69676664bf27"
      },
      "outputs": [
        {
          "name": "stdout",
          "output_type": "stream",
          "text": [
            "p-value = 0.014\n",
            "относительный прирост группы B = 0.151\n"
          ]
        }
      ],
      "source": [
        "sampleAFiltered = pd.concat(\n",
        "    [\n",
        "        ordersByUsersA[\n",
        "            np.logical_not(ordersByUsersA['userId'].isin(abnormalUsers))\n",
        "        ]['orders'],\n",
        "        pd.Series(\n",
        "            0,\n",
        "            index=np.arange(\n",
        "                data['visitorsPerDateA'].sum() - len(ordersByUsersA['orders'])\n",
        "            ),\n",
        "            name='orders',\n",
        "        ),\n",
        "    ],\n",
        "    axis=0,\n",
        ")\n",
        "\n",
        "sampleBFiltered = pd.concat(\n",
        "    [\n",
        "        ordersByUsersB[\n",
        "            np.logical_not(ordersByUsersB['userId'].isin(abnormalUsers))\n",
        "        ]['orders'],\n",
        "        pd.Series(\n",
        "            0,\n",
        "            index=np.arange(\n",
        "                data['visitorsPerDateB'].sum() - len(ordersByUsersB['orders'])\n",
        "            ),\n",
        "            name='orders',\n",
        "        ),\n",
        "    ],\n",
        "    axis=0,\n",
        ")\n",
        "print('p-value = {0:.3f}'.format(stats.mannwhitneyu(sampleAFiltered, sampleBFiltered)[1]))\n",
        "print('относительный прирост группы B = {0:.3f}'.format(sampleBFiltered.mean()/sampleAFiltered.mean()-1))"
      ]
    },
    {
      "cell_type": "markdown",
      "metadata": {
        "id": "FXIMdQXqJNf_"
      },
      "source": [
        "У очищенных данных разница в среднем кол-ве заказов есть, так как p-value ниже 5%. группа \"B\" больше на 15% и на на 2 процентных пункта больше чем в сырых данных."
      ]
    },
    {
      "cell_type": "markdown",
      "metadata": {
        "id": "FVQcbBnRJNgA"
      },
      "source": [
        "### Посчитаем статистическую значимость различий в среднем чеке заказа между группами по «очищенным» данным"
      ]
    },
    {
      "cell_type": "markdown",
      "metadata": {
        "id": "HGQ-IdB7JNgA"
      },
      "source": [
        "#### Проверим гипотезы:\n",
        "Средний чек заказов (в \"сырых\" и \"очищенны\" данных):\n",
        "- H0: Средний чек в заказах не различны\n",
        "- H1: Средний чек в заказах различен"
      ]
    },
    {
      "cell_type": "code",
      "execution_count": null,
      "metadata": {
        "id": "bAbDVUA3JNgA",
        "outputId": "7d5e71a5-7f62-4ee2-98f6-ac506292bc01"
      },
      "outputs": [
        {
          "name": "stdout",
          "output_type": "stream",
          "text": [
            "p-value = 0.959\n",
            "относительный прирост группы B = -0.014\n"
          ]
        }
      ],
      "source": [
        "print(\n",
        "    'p-value = {0:.3f}'.format(\n",
        "        stats.mannwhitneyu(\n",
        "            orders[\n",
        "                np.logical_and(\n",
        "                    orders['group'] == 'A',\n",
        "                    np.logical_not(orders['visitorId'].isin(abnormalUsers)),\n",
        "                )\n",
        "            ]['revenue'],\n",
        "            orders[\n",
        "                np.logical_and(\n",
        "                    orders['group'] == 'B',\n",
        "                    np.logical_not(orders['visitorId'].isin(abnormalUsers)),\n",
        "                )\n",
        "            ]['revenue'],\n",
        "        )[1]\n",
        "    )\n",
        ")\n",
        "\n",
        "print(\n",
        "    \"относительный прирост группы B = {0:.3f}\".format(\n",
        "        orders[\n",
        "            np.logical_and(\n",
        "                orders['group'] == 'B',\n",
        "                np.logical_not(orders['visitorId'].isin(abnormalUsers)),\n",
        "            )\n",
        "        ]['revenue'].mean()\n",
        "        / orders[\n",
        "            np.logical_and(\n",
        "                orders['group'] == 'A',\n",
        "                np.logical_not(orders['visitorId'].isin(abnormalUsers)),\n",
        "            )\n",
        "        ]['revenue'].mean()\n",
        "        - 1\n",
        "    )\n",
        ")"
      ]
    },
    {
      "cell_type": "markdown",
      "metadata": {
        "id": "QY7URDwOJNgB"
      },
      "source": [
        "p-value больше 5%, поэтому мы не можем сказать что есть различия между чеками в разных группах.\n",
        "Средний чек группы А стал больше чем у группы В, хотя в сырых данных В был на 23% больше, все из-за выброса который мы исключили."
      ]
    },
    {
      "cell_type": "markdown",
      "metadata": {
        "id": "rKfdFMaWJNgB"
      },
      "source": [
        "## Выводы"
      ]
    },
    {
      "cell_type": "markdown",
      "metadata": {
        "id": "x5zXdjhMJNgB"
      },
      "source": [
        "- В группе \"В\" количество заказов по сырым данным на 25.9%  больше чем у группы \"А\",  а по \"очищенным\" данным В лидировал на 15%\n",
        "- Разницы в средних чеках нет, так-как в \"сырых\" данных был аномальный заказ который мы исключили\n",
        "- Считаю, что тест можно назвать успешным, группа B показала превосходство над группой A, хотя мредние чеки равны"
      ]
    }
  ],
  "metadata": {
    "ExecuteTimeLog": [
      {
        "duration": 432,
        "start_time": "2023-03-23T14:18:33.269Z"
      },
      {
        "duration": 113,
        "start_time": "2023-03-23T14:32:56.742Z"
      },
      {
        "duration": 17,
        "start_time": "2023-03-23T14:33:04.105Z"
      },
      {
        "duration": 38,
        "start_time": "2023-03-23T14:33:19.018Z"
      },
      {
        "duration": 74,
        "start_time": "2023-03-23T14:35:27.396Z"
      },
      {
        "duration": 3,
        "start_time": "2023-03-23T14:36:23.182Z"
      },
      {
        "duration": 10,
        "start_time": "2023-03-23T14:47:22.819Z"
      },
      {
        "duration": 14,
        "start_time": "2023-03-23T14:47:43.765Z"
      },
      {
        "duration": 9,
        "start_time": "2023-03-23T14:48:10.760Z"
      },
      {
        "duration": 11,
        "start_time": "2023-03-23T14:48:17.022Z"
      },
      {
        "duration": 90,
        "start_time": "2023-03-23T14:49:19.727Z"
      },
      {
        "duration": 10,
        "start_time": "2023-03-23T14:49:41.461Z"
      },
      {
        "duration": 11,
        "start_time": "2023-03-23T14:49:44.091Z"
      },
      {
        "duration": 10,
        "start_time": "2023-03-23T14:50:21.438Z"
      },
      {
        "duration": 12,
        "start_time": "2023-03-23T14:50:25.928Z"
      },
      {
        "duration": 12,
        "start_time": "2023-03-23T14:50:39.635Z"
      },
      {
        "duration": 12,
        "start_time": "2023-03-23T14:50:48.400Z"
      },
      {
        "duration": 12,
        "start_time": "2023-03-23T14:51:12.340Z"
      },
      {
        "duration": 14,
        "start_time": "2023-03-23T14:56:18.894Z"
      },
      {
        "duration": 11,
        "start_time": "2023-03-23T15:02:13.608Z"
      },
      {
        "duration": 13,
        "start_time": "2023-03-23T15:04:05.280Z"
      },
      {
        "duration": 24,
        "start_time": "2023-03-23T15:04:58.202Z"
      },
      {
        "duration": 14,
        "start_time": "2023-03-23T15:05:44.394Z"
      },
      {
        "duration": 505,
        "start_time": "2023-03-23T15:15:14.242Z"
      },
      {
        "duration": 107,
        "start_time": "2023-03-23T15:19:49.986Z"
      },
      {
        "duration": 61,
        "start_time": "2023-03-23T15:20:00.329Z"
      },
      {
        "duration": 121,
        "start_time": "2023-03-23T15:20:41.157Z"
      },
      {
        "duration": 70,
        "start_time": "2023-03-23T15:20:53.493Z"
      },
      {
        "duration": 69,
        "start_time": "2023-03-23T15:21:02.416Z"
      },
      {
        "duration": 8,
        "start_time": "2023-03-23T15:21:13.081Z"
      },
      {
        "duration": 480,
        "start_time": "2023-03-23T15:24:20.145Z"
      },
      {
        "duration": 20,
        "start_time": "2023-03-23T15:24:20.634Z"
      },
      {
        "duration": 97,
        "start_time": "2023-03-23T15:24:50.508Z"
      },
      {
        "duration": 386,
        "start_time": "2023-03-23T15:25:59.139Z"
      },
      {
        "duration": 74,
        "start_time": "2023-03-23T15:26:14.796Z"
      },
      {
        "duration": 9,
        "start_time": "2023-03-23T15:26:16.387Z"
      },
      {
        "duration": 373,
        "start_time": "2023-03-23T15:26:26.865Z"
      },
      {
        "duration": 89,
        "start_time": "2023-03-23T15:26:34.234Z"
      },
      {
        "duration": 97,
        "start_time": "2023-03-23T15:26:45.661Z"
      },
      {
        "duration": 104,
        "start_time": "2023-03-23T15:26:51.863Z"
      },
      {
        "duration": 7,
        "start_time": "2023-03-23T15:27:34.615Z"
      },
      {
        "duration": 18,
        "start_time": "2023-03-23T15:27:40.153Z"
      },
      {
        "duration": 48,
        "start_time": "2023-03-23T15:28:28.734Z"
      },
      {
        "duration": 29,
        "start_time": "2023-03-23T15:29:47.247Z"
      },
      {
        "duration": 38,
        "start_time": "2023-03-23T15:32:16.909Z"
      },
      {
        "duration": 235,
        "start_time": "2023-03-23T15:32:35.612Z"
      },
      {
        "duration": 205,
        "start_time": "2023-03-23T15:32:43.176Z"
      },
      {
        "duration": 300,
        "start_time": "2023-03-23T15:33:53.155Z"
      },
      {
        "duration": 6,
        "start_time": "2023-03-23T15:36:58.476Z"
      },
      {
        "duration": 81,
        "start_time": "2023-03-23T15:40:22.022Z"
      },
      {
        "duration": 8,
        "start_time": "2023-03-23T15:41:08.603Z"
      },
      {
        "duration": 17,
        "start_time": "2023-03-23T15:41:19.867Z"
      },
      {
        "duration": 3,
        "start_time": "2023-03-23T15:42:08.805Z"
      },
      {
        "duration": 25,
        "start_time": "2023-03-23T15:42:30.037Z"
      },
      {
        "duration": 22,
        "start_time": "2023-03-23T15:42:57.226Z"
      },
      {
        "duration": 19,
        "start_time": "2023-03-23T15:42:58.776Z"
      },
      {
        "duration": 428,
        "start_time": "2023-03-23T15:43:48.577Z"
      },
      {
        "duration": 361,
        "start_time": "2023-03-23T15:43:57.338Z"
      },
      {
        "duration": 275,
        "start_time": "2023-03-23T15:44:05.301Z"
      },
      {
        "duration": 121,
        "start_time": "2023-03-23T16:01:17.356Z"
      },
      {
        "duration": 237,
        "start_time": "2023-03-23T16:03:51.237Z"
      },
      {
        "duration": 224,
        "start_time": "2023-03-23T16:03:57.484Z"
      },
      {
        "duration": 118,
        "start_time": "2023-03-23T16:08:42.580Z"
      },
      {
        "duration": 355,
        "start_time": "2023-03-23T16:26:23.876Z"
      },
      {
        "duration": 75,
        "start_time": "2023-03-23T16:27:26.793Z"
      },
      {
        "duration": 238,
        "start_time": "2023-03-23T16:32:55.078Z"
      },
      {
        "duration": 221,
        "start_time": "2023-03-23T16:33:16.542Z"
      },
      {
        "duration": 206,
        "start_time": "2023-03-23T16:35:13.058Z"
      },
      {
        "duration": 106,
        "start_time": "2023-03-23T16:39:05.191Z"
      },
      {
        "duration": 14,
        "start_time": "2023-03-23T16:43:43.130Z"
      },
      {
        "duration": 20,
        "start_time": "2023-03-23T16:46:25.234Z"
      },
      {
        "duration": 235,
        "start_time": "2023-03-23T16:46:28.479Z"
      },
      {
        "duration": 135,
        "start_time": "2023-03-23T16:46:36.090Z"
      },
      {
        "duration": 102,
        "start_time": "2023-03-23T16:50:13.386Z"
      },
      {
        "duration": 5,
        "start_time": "2023-03-23T16:50:22.836Z"
      },
      {
        "duration": 5,
        "start_time": "2023-03-23T16:50:42.937Z"
      },
      {
        "duration": 6,
        "start_time": "2023-03-23T16:50:57.135Z"
      },
      {
        "duration": 5,
        "start_time": "2023-03-23T16:51:24.017Z"
      },
      {
        "duration": 4,
        "start_time": "2023-03-23T16:51:29.559Z"
      },
      {
        "duration": 5,
        "start_time": "2023-03-23T16:52:53.298Z"
      },
      {
        "duration": 6,
        "start_time": "2023-03-23T16:53:00.954Z"
      },
      {
        "duration": 376,
        "start_time": "2023-03-23T16:59:05.822Z"
      },
      {
        "duration": 320,
        "start_time": "2023-03-23T16:59:16.500Z"
      },
      {
        "duration": 348,
        "start_time": "2023-03-23T16:59:51.361Z"
      },
      {
        "duration": 99,
        "start_time": "2023-03-23T17:00:52.786Z"
      },
      {
        "duration": 25,
        "start_time": "2023-03-23T17:54:40.079Z"
      },
      {
        "duration": 14,
        "start_time": "2023-03-23T17:54:58.787Z"
      },
      {
        "duration": 9,
        "start_time": "2023-03-23T17:55:18.097Z"
      },
      {
        "duration": 1266,
        "start_time": "2023-03-23T17:55:45.004Z"
      },
      {
        "duration": 213,
        "start_time": "2023-03-23T17:56:20.231Z"
      },
      {
        "duration": 200,
        "start_time": "2023-03-23T17:56:27.378Z"
      },
      {
        "duration": 6,
        "start_time": "2023-03-23T17:59:16.295Z"
      },
      {
        "duration": 6,
        "start_time": "2023-03-23T18:03:45.690Z"
      },
      {
        "duration": 18,
        "start_time": "2023-03-23T18:17:39.608Z"
      },
      {
        "duration": 13,
        "start_time": "2023-03-23T18:17:48.226Z"
      },
      {
        "duration": 9,
        "start_time": "2023-03-23T18:18:16.363Z"
      },
      {
        "duration": 92,
        "start_time": "2023-03-23T18:18:51.987Z"
      },
      {
        "duration": 152,
        "start_time": "2023-03-23T18:19:10.463Z"
      },
      {
        "duration": 182,
        "start_time": "2023-03-23T18:19:17.609Z"
      },
      {
        "duration": 1718,
        "start_time": "2023-03-23T18:19:46.113Z"
      },
      {
        "duration": 290,
        "start_time": "2023-03-23T18:46:08.580Z"
      },
      {
        "duration": 285,
        "start_time": "2023-03-23T18:46:26.463Z"
      },
      {
        "duration": 226,
        "start_time": "2023-03-23T18:46:36.330Z"
      },
      {
        "duration": 229,
        "start_time": "2023-03-23T18:46:51.142Z"
      },
      {
        "duration": 339,
        "start_time": "2023-03-23T18:46:56.127Z"
      },
      {
        "duration": 317,
        "start_time": "2023-03-23T18:47:02.629Z"
      },
      {
        "duration": 228,
        "start_time": "2023-03-23T18:48:24.717Z"
      },
      {
        "duration": 287,
        "start_time": "2023-03-23T18:49:56.171Z"
      },
      {
        "duration": 236,
        "start_time": "2023-03-23T18:50:47.745Z"
      },
      {
        "duration": 227,
        "start_time": "2023-03-23T18:50:53.925Z"
      },
      {
        "duration": 186,
        "start_time": "2023-03-23T18:51:10.823Z"
      },
      {
        "duration": 4,
        "start_time": "2023-03-23T18:51:45.648Z"
      },
      {
        "duration": 177,
        "start_time": "2023-03-23T18:51:51.101Z"
      },
      {
        "duration": 171,
        "start_time": "2023-03-23T18:53:04.951Z"
      },
      {
        "duration": 184,
        "start_time": "2023-03-23T18:55:00.361Z"
      },
      {
        "duration": 201,
        "start_time": "2023-03-23T18:56:06.512Z"
      },
      {
        "duration": 176,
        "start_time": "2023-03-23T18:56:15.622Z"
      },
      {
        "duration": 238,
        "start_time": "2023-03-23T18:56:33.574Z"
      },
      {
        "duration": 346,
        "start_time": "2023-03-23T18:57:19.286Z"
      },
      {
        "duration": 18,
        "start_time": "2023-03-23T19:04:51.647Z"
      },
      {
        "duration": 18,
        "start_time": "2023-03-23T19:04:55.384Z"
      },
      {
        "duration": 1244,
        "start_time": "2023-03-23T19:25:41.963Z"
      },
      {
        "duration": 11,
        "start_time": "2023-03-23T19:26:10.588Z"
      },
      {
        "duration": 347,
        "start_time": "2023-03-23T19:30:06.157Z"
      },
      {
        "duration": 6,
        "start_time": "2023-03-23T19:31:05.394Z"
      },
      {
        "duration": 165,
        "start_time": "2023-03-23T19:34:32.713Z"
      },
      {
        "duration": 147,
        "start_time": "2023-03-23T19:35:09.341Z"
      },
      {
        "duration": 6,
        "start_time": "2023-03-23T19:36:05.352Z"
      },
      {
        "duration": 165,
        "start_time": "2023-03-23T19:36:07.524Z"
      },
      {
        "duration": 11,
        "start_time": "2023-03-23T19:38:58.415Z"
      },
      {
        "duration": 11,
        "start_time": "2023-03-23T19:39:06.100Z"
      },
      {
        "duration": 9,
        "start_time": "2023-03-23T19:39:12.809Z"
      },
      {
        "duration": 129,
        "start_time": "2023-03-23T19:39:43.046Z"
      },
      {
        "duration": 133,
        "start_time": "2023-03-23T19:39:52.481Z"
      },
      {
        "duration": 11,
        "start_time": "2023-03-23T19:40:13.290Z"
      },
      {
        "duration": 149,
        "start_time": "2023-03-23T19:40:26.439Z"
      },
      {
        "duration": 162,
        "start_time": "2023-03-23T19:40:46.385Z"
      },
      {
        "duration": 1203,
        "start_time": "2023-03-23T19:43:59.009Z"
      },
      {
        "duration": 10,
        "start_time": "2023-03-23T19:44:14.103Z"
      },
      {
        "duration": 12,
        "start_time": "2023-03-23T19:45:13.144Z"
      },
      {
        "duration": 11,
        "start_time": "2023-03-23T19:45:27.946Z"
      },
      {
        "duration": 12,
        "start_time": "2023-03-23T19:48:55.069Z"
      },
      {
        "duration": 9,
        "start_time": "2023-03-23T19:49:23.514Z"
      },
      {
        "duration": 12,
        "start_time": "2023-03-23T19:49:57.489Z"
      },
      {
        "duration": 50,
        "start_time": "2023-03-23T19:50:14.566Z"
      },
      {
        "duration": 10,
        "start_time": "2023-03-23T19:50:40.499Z"
      },
      {
        "duration": 50,
        "start_time": "2023-03-23T19:50:41.311Z"
      },
      {
        "duration": 10,
        "start_time": "2023-03-23T19:50:55.998Z"
      },
      {
        "duration": 48,
        "start_time": "2023-03-23T19:50:56.879Z"
      },
      {
        "duration": 56,
        "start_time": "2023-03-23T19:51:21.109Z"
      },
      {
        "duration": 33,
        "start_time": "2023-03-23T19:51:46.084Z"
      },
      {
        "duration": 1422,
        "start_time": "2023-03-23T19:55:19.296Z"
      },
      {
        "duration": 1513,
        "start_time": "2023-03-23T19:55:41.621Z"
      },
      {
        "duration": 20,
        "start_time": "2023-03-23T19:55:54.107Z"
      },
      {
        "duration": 18,
        "start_time": "2023-03-23T19:56:34.600Z"
      },
      {
        "duration": 178,
        "start_time": "2023-03-23T20:00:11.540Z"
      },
      {
        "duration": 1301,
        "start_time": "2023-03-24T19:42:32.600Z"
      },
      {
        "duration": 56,
        "start_time": "2023-03-24T19:42:33.903Z"
      },
      {
        "duration": 24,
        "start_time": "2023-03-24T19:42:33.961Z"
      },
      {
        "duration": 20,
        "start_time": "2023-03-24T19:42:33.993Z"
      },
      {
        "duration": 306,
        "start_time": "2023-03-24T19:42:34.015Z"
      },
      {
        "duration": 10,
        "start_time": "2023-03-24T19:42:34.323Z"
      },
      {
        "duration": 18,
        "start_time": "2023-03-24T19:42:34.334Z"
      },
      {
        "duration": 221,
        "start_time": "2023-03-24T19:42:34.355Z"
      },
      {
        "duration": 198,
        "start_time": "2023-03-24T19:42:34.578Z"
      },
      {
        "duration": 20,
        "start_time": "2023-03-24T19:42:34.781Z"
      },
      {
        "duration": 430,
        "start_time": "2023-03-24T19:42:34.804Z"
      },
      {
        "duration": 273,
        "start_time": "2023-03-24T19:42:35.236Z"
      },
      {
        "duration": 347,
        "start_time": "2023-03-24T19:42:35.511Z"
      },
      {
        "duration": 300,
        "start_time": "2023-03-24T19:42:35.860Z"
      },
      {
        "duration": 383,
        "start_time": "2023-03-24T19:42:36.162Z"
      },
      {
        "duration": 182,
        "start_time": "2023-03-24T19:42:36.547Z"
      },
      {
        "duration": 5,
        "start_time": "2023-03-24T19:42:36.732Z"
      },
      {
        "duration": 204,
        "start_time": "2023-03-24T19:42:36.739Z"
      },
      {
        "duration": 248,
        "start_time": "2023-03-24T19:42:36.946Z"
      },
      {
        "duration": 6,
        "start_time": "2023-03-24T19:42:37.196Z"
      },
      {
        "duration": 21,
        "start_time": "2023-03-24T19:42:37.205Z"
      },
      {
        "duration": 494,
        "start_time": "2023-03-24T19:42:37.229Z"
      },
      {
        "duration": 287,
        "start_time": "2023-03-24T19:42:37.725Z"
      },
      {
        "duration": 14,
        "start_time": "2023-03-24T19:42:38.014Z"
      },
      {
        "duration": 14,
        "start_time": "2023-03-24T19:42:38.031Z"
      },
      {
        "duration": 68,
        "start_time": "2023-03-24T19:42:38.047Z"
      },
      {
        "duration": 15,
        "start_time": "2023-03-24T19:42:38.118Z"
      },
      {
        "duration": 53,
        "start_time": "2023-03-25T18:37:22.911Z"
      },
      {
        "duration": 1359,
        "start_time": "2023-03-25T18:37:27.046Z"
      },
      {
        "duration": 88,
        "start_time": "2023-03-25T18:37:28.407Z"
      },
      {
        "duration": 15,
        "start_time": "2023-03-25T18:37:28.498Z"
      },
      {
        "duration": 14,
        "start_time": "2023-03-25T18:37:28.515Z"
      },
      {
        "duration": 156,
        "start_time": "2023-03-25T18:37:28.531Z"
      },
      {
        "duration": 8,
        "start_time": "2023-03-25T18:37:28.688Z"
      },
      {
        "duration": 8,
        "start_time": "2023-03-25T18:37:28.697Z"
      },
      {
        "duration": 165,
        "start_time": "2023-03-25T18:37:28.706Z"
      },
      {
        "duration": 134,
        "start_time": "2023-03-25T18:37:28.873Z"
      },
      {
        "duration": 13,
        "start_time": "2023-03-25T18:37:29.009Z"
      },
      {
        "duration": 324,
        "start_time": "2023-03-25T18:37:29.024Z"
      },
      {
        "duration": 225,
        "start_time": "2023-03-25T18:37:29.349Z"
      },
      {
        "duration": 358,
        "start_time": "2023-03-25T18:37:29.576Z"
      },
      {
        "duration": 238,
        "start_time": "2023-03-25T18:37:29.937Z"
      },
      {
        "duration": 336,
        "start_time": "2023-03-25T18:37:30.177Z"
      },
      {
        "duration": 113,
        "start_time": "2023-03-25T18:38:26.144Z"
      },
      {
        "duration": 112,
        "start_time": "2023-03-25T18:38:33.638Z"
      },
      {
        "duration": 108,
        "start_time": "2023-03-25T18:38:52.939Z"
      },
      {
        "duration": 202,
        "start_time": "2023-03-25T18:39:08.295Z"
      },
      {
        "duration": 170,
        "start_time": "2023-03-25T18:39:14.978Z"
      },
      {
        "duration": 157,
        "start_time": "2023-03-25T18:39:19.346Z"
      },
      {
        "duration": 152,
        "start_time": "2023-03-25T18:39:38.894Z"
      },
      {
        "duration": 151,
        "start_time": "2023-03-25T18:39:50.641Z"
      },
      {
        "duration": 216,
        "start_time": "2023-03-25T18:40:45.659Z"
      },
      {
        "duration": 202,
        "start_time": "2023-03-25T18:41:03.126Z"
      },
      {
        "duration": 190,
        "start_time": "2023-03-25T18:41:14.292Z"
      },
      {
        "duration": 220,
        "start_time": "2023-03-25T18:52:35.742Z"
      },
      {
        "duration": 333,
        "start_time": "2023-03-25T18:52:46.239Z"
      },
      {
        "duration": 259,
        "start_time": "2023-03-25T18:54:23.771Z"
      },
      {
        "duration": 372,
        "start_time": "2023-03-25T18:54:43.857Z"
      },
      {
        "duration": 4,
        "start_time": "2023-03-25T18:55:22.955Z"
      },
      {
        "duration": 32,
        "start_time": "2023-03-25T18:55:22.961Z"
      },
      {
        "duration": 11,
        "start_time": "2023-03-25T18:55:22.995Z"
      },
      {
        "duration": 13,
        "start_time": "2023-03-25T18:55:23.008Z"
      },
      {
        "duration": 63,
        "start_time": "2023-03-25T18:55:23.022Z"
      },
      {
        "duration": 10,
        "start_time": "2023-03-25T18:55:23.088Z"
      },
      {
        "duration": 8,
        "start_time": "2023-03-25T18:55:23.100Z"
      },
      {
        "duration": 254,
        "start_time": "2023-03-25T18:55:23.110Z"
      },
      {
        "duration": 140,
        "start_time": "2023-03-25T18:55:23.367Z"
      },
      {
        "duration": 14,
        "start_time": "2023-03-25T18:55:23.509Z"
      },
      {
        "duration": 239,
        "start_time": "2023-03-25T18:55:23.526Z"
      },
      {
        "duration": 255,
        "start_time": "2023-03-25T18:55:23.767Z"
      },
      {
        "duration": 355,
        "start_time": "2023-03-25T18:55:24.024Z"
      },
      {
        "duration": 212,
        "start_time": "2023-03-25T18:55:24.381Z"
      },
      {
        "duration": 314,
        "start_time": "2023-03-25T18:55:24.595Z"
      },
      {
        "duration": 176,
        "start_time": "2023-03-25T18:55:24.911Z"
      },
      {
        "duration": 6,
        "start_time": "2023-03-25T18:55:25.089Z"
      },
      {
        "duration": 149,
        "start_time": "2023-03-25T18:55:25.097Z"
      },
      {
        "duration": 173,
        "start_time": "2023-03-25T18:55:25.248Z"
      },
      {
        "duration": 5,
        "start_time": "2023-03-25T18:55:25.423Z"
      },
      {
        "duration": 10,
        "start_time": "2023-03-25T18:55:25.429Z"
      },
      {
        "duration": 270,
        "start_time": "2023-03-25T18:55:25.441Z"
      },
      {
        "duration": 210,
        "start_time": "2023-03-25T18:55:25.713Z"
      },
      {
        "duration": 13,
        "start_time": "2023-03-25T18:55:25.924Z"
      },
      {
        "duration": 28,
        "start_time": "2023-03-25T18:55:25.939Z"
      },
      {
        "duration": 35,
        "start_time": "2023-03-25T18:55:25.969Z"
      },
      {
        "duration": 20,
        "start_time": "2023-03-25T18:55:26.006Z"
      },
      {
        "duration": 323,
        "start_time": "2023-03-25T18:55:48.694Z"
      },
      {
        "duration": 171,
        "start_time": "2023-03-25T18:57:26.826Z"
      },
      {
        "duration": 176,
        "start_time": "2023-03-25T18:57:34.015Z"
      },
      {
        "duration": 4,
        "start_time": "2023-03-25T18:58:47.169Z"
      },
      {
        "duration": 233,
        "start_time": "2023-03-25T18:58:50.635Z"
      },
      {
        "duration": 136,
        "start_time": "2023-03-25T18:58:54.110Z"
      },
      {
        "duration": 224,
        "start_time": "2023-03-25T19:06:21.410Z"
      },
      {
        "duration": 123,
        "start_time": "2023-03-25T19:09:26.907Z"
      },
      {
        "duration": 151,
        "start_time": "2023-03-25T19:12:56.846Z"
      },
      {
        "duration": 127,
        "start_time": "2023-03-25T19:19:08.818Z"
      },
      {
        "duration": 136,
        "start_time": "2023-03-25T19:19:43.080Z"
      },
      {
        "duration": 146,
        "start_time": "2023-03-25T19:20:05.225Z"
      },
      {
        "duration": 192,
        "start_time": "2023-03-25T19:21:25.409Z"
      },
      {
        "duration": 76,
        "start_time": "2023-03-25T19:23:22.991Z"
      },
      {
        "duration": 182,
        "start_time": "2023-03-25T19:24:48.813Z"
      },
      {
        "duration": 171,
        "start_time": "2023-03-25T19:25:06.937Z"
      },
      {
        "duration": 356,
        "start_time": "2023-03-25T19:56:24.905Z"
      },
      {
        "duration": 213,
        "start_time": "2023-03-25T19:56:40.801Z"
      },
      {
        "duration": 311,
        "start_time": "2023-03-25T20:07:37.386Z"
      },
      {
        "duration": 11,
        "start_time": "2023-03-25T20:09:12.817Z"
      },
      {
        "duration": 14,
        "start_time": "2023-03-25T20:19:39.429Z"
      },
      {
        "duration": 12,
        "start_time": "2023-03-25T20:20:09.812Z"
      },
      {
        "duration": 47,
        "start_time": "2023-03-27T14:58:23.391Z"
      },
      {
        "duration": 1386,
        "start_time": "2023-03-27T14:58:31.400Z"
      },
      {
        "duration": 66,
        "start_time": "2023-03-27T14:58:32.787Z"
      },
      {
        "duration": 7,
        "start_time": "2023-03-27T14:58:36.508Z"
      },
      {
        "duration": 13,
        "start_time": "2023-03-27T14:58:52.526Z"
      },
      {
        "duration": 12,
        "start_time": "2023-03-27T14:58:58.861Z"
      },
      {
        "duration": 64,
        "start_time": "2023-03-27T15:00:25.510Z"
      },
      {
        "duration": 2,
        "start_time": "2023-03-27T15:00:31.275Z"
      },
      {
        "duration": 51,
        "start_time": "2023-03-27T15:00:31.279Z"
      },
      {
        "duration": 14,
        "start_time": "2023-03-27T15:00:31.332Z"
      },
      {
        "duration": 77,
        "start_time": "2023-03-27T15:00:31.348Z"
      },
      {
        "duration": 178,
        "start_time": "2023-03-27T15:00:31.427Z"
      },
      {
        "duration": 7,
        "start_time": "2023-03-27T15:00:31.606Z"
      },
      {
        "duration": 41,
        "start_time": "2023-03-27T15:00:31.614Z"
      },
      {
        "duration": 30,
        "start_time": "2023-03-27T15:00:31.657Z"
      },
      {
        "duration": 31,
        "start_time": "2023-03-27T15:00:31.688Z"
      },
      {
        "duration": 188,
        "start_time": "2023-03-27T15:00:31.721Z"
      },
      {
        "duration": 126,
        "start_time": "2023-03-27T15:00:31.911Z"
      },
      {
        "duration": 12,
        "start_time": "2023-03-27T15:00:32.039Z"
      },
      {
        "duration": 290,
        "start_time": "2023-03-27T15:00:33.274Z"
      },
      {
        "duration": 260,
        "start_time": "2023-03-27T15:00:40.586Z"
      },
      {
        "duration": 201,
        "start_time": "2023-03-27T15:00:51.378Z"
      },
      {
        "duration": 221,
        "start_time": "2023-03-27T15:00:58.475Z"
      },
      {
        "duration": 188,
        "start_time": "2023-03-27T15:01:13.081Z"
      },
      {
        "duration": 194,
        "start_time": "2023-03-27T15:02:49.719Z"
      },
      {
        "duration": 203,
        "start_time": "2023-03-27T15:02:54.821Z"
      },
      {
        "duration": 280,
        "start_time": "2023-03-27T15:03:40.646Z"
      },
      {
        "duration": 274,
        "start_time": "2023-03-27T15:03:55.311Z"
      },
      {
        "duration": 218,
        "start_time": "2023-03-27T15:04:22.276Z"
      },
      {
        "duration": 196,
        "start_time": "2023-03-27T15:04:31.973Z"
      },
      {
        "duration": 205,
        "start_time": "2023-03-27T15:04:49.900Z"
      },
      {
        "duration": 349,
        "start_time": "2023-03-27T15:04:55.032Z"
      },
      {
        "duration": 314,
        "start_time": "2023-03-27T15:05:46.494Z"
      },
      {
        "duration": 314,
        "start_time": "2023-03-27T15:05:56.019Z"
      },
      {
        "duration": 210,
        "start_time": "2023-03-27T15:07:15.110Z"
      },
      {
        "duration": 337,
        "start_time": "2023-03-27T15:07:39.107Z"
      },
      {
        "duration": 335,
        "start_time": "2023-03-27T15:07:59.615Z"
      },
      {
        "duration": 126,
        "start_time": "2023-03-27T15:08:42.853Z"
      },
      {
        "duration": 207,
        "start_time": "2023-03-27T15:08:55.745Z"
      },
      {
        "duration": 125,
        "start_time": "2023-03-27T15:09:11.186Z"
      },
      {
        "duration": 4,
        "start_time": "2023-03-27T15:09:13.257Z"
      },
      {
        "duration": 152,
        "start_time": "2023-03-27T15:09:29.935Z"
      },
      {
        "duration": 163,
        "start_time": "2023-03-27T15:09:46.776Z"
      },
      {
        "duration": 79,
        "start_time": "2023-03-27T15:14:26.963Z"
      },
      {
        "duration": 1115,
        "start_time": "2023-03-27T23:27:34.400Z"
      },
      {
        "duration": 35,
        "start_time": "2023-03-27T23:27:35.517Z"
      },
      {
        "duration": 11,
        "start_time": "2023-03-27T23:27:35.554Z"
      },
      {
        "duration": 20,
        "start_time": "2023-03-27T23:27:35.567Z"
      },
      {
        "duration": 69,
        "start_time": "2023-03-27T23:27:35.588Z"
      },
      {
        "duration": 7,
        "start_time": "2023-03-27T23:27:35.658Z"
      },
      {
        "duration": 11,
        "start_time": "2023-03-27T23:27:35.667Z"
      },
      {
        "duration": 10,
        "start_time": "2023-03-27T23:27:35.680Z"
      },
      {
        "duration": 16,
        "start_time": "2023-03-27T23:27:35.691Z"
      },
      {
        "duration": 161,
        "start_time": "2023-03-27T23:27:35.710Z"
      },
      {
        "duration": 121,
        "start_time": "2023-03-27T23:27:35.872Z"
      },
      {
        "duration": 11,
        "start_time": "2023-03-27T23:27:35.994Z"
      },
      {
        "duration": 300,
        "start_time": "2023-03-27T23:27:36.006Z"
      },
      {
        "duration": 214,
        "start_time": "2023-03-27T23:27:36.308Z"
      },
      {
        "duration": 291,
        "start_time": "2023-03-27T23:27:36.524Z"
      },
      {
        "duration": 218,
        "start_time": "2023-03-27T23:27:36.817Z"
      },
      {
        "duration": 328,
        "start_time": "2023-03-27T23:27:37.037Z"
      },
      {
        "duration": 129,
        "start_time": "2023-03-27T23:27:37.367Z"
      },
      {
        "duration": 4,
        "start_time": "2023-03-27T23:27:37.498Z"
      },
      {
        "duration": 187,
        "start_time": "2023-03-27T23:27:37.504Z"
      },
      {
        "duration": 166,
        "start_time": "2023-03-27T23:27:37.692Z"
      },
      {
        "duration": 4,
        "start_time": "2023-03-27T23:27:37.859Z"
      },
      {
        "duration": 23,
        "start_time": "2023-03-27T23:27:37.865Z"
      },
      {
        "duration": 294,
        "start_time": "2023-03-27T23:27:37.890Z"
      },
      {
        "duration": 173,
        "start_time": "2023-03-27T23:27:38.186Z"
      },
      {
        "duration": 24,
        "start_time": "2023-03-27T23:27:38.361Z"
      },
      {
        "duration": 8,
        "start_time": "2023-03-27T23:27:38.387Z"
      },
      {
        "duration": 29,
        "start_time": "2023-03-27T23:27:38.397Z"
      },
      {
        "duration": 13,
        "start_time": "2023-03-27T23:27:38.428Z"
      },
      {
        "duration": 55,
        "start_time": "2023-04-08T16:29:38.710Z"
      },
      {
        "duration": 1240,
        "start_time": "2023-04-08T16:29:45.907Z"
      },
      {
        "duration": 86,
        "start_time": "2023-04-08T16:29:47.149Z"
      },
      {
        "duration": 13,
        "start_time": "2023-04-08T16:29:47.237Z"
      },
      {
        "duration": 19,
        "start_time": "2023-04-08T16:29:47.252Z"
      },
      {
        "duration": 175,
        "start_time": "2023-04-08T16:29:47.272Z"
      },
      {
        "duration": 7,
        "start_time": "2023-04-08T16:29:47.448Z"
      },
      {
        "duration": 23,
        "start_time": "2023-04-08T16:29:47.456Z"
      },
      {
        "duration": 42,
        "start_time": "2023-04-08T16:29:47.481Z"
      },
      {
        "duration": 21,
        "start_time": "2023-04-08T16:29:47.525Z"
      },
      {
        "duration": 164,
        "start_time": "2023-04-08T16:29:47.549Z"
      },
      {
        "duration": 122,
        "start_time": "2023-04-08T16:29:47.715Z"
      },
      {
        "duration": 11,
        "start_time": "2023-04-08T16:29:47.838Z"
      },
      {
        "duration": 311,
        "start_time": "2023-04-08T16:29:47.851Z"
      },
      {
        "duration": 208,
        "start_time": "2023-04-08T16:29:48.163Z"
      },
      {
        "duration": 352,
        "start_time": "2023-04-08T16:29:48.372Z"
      },
      {
        "duration": 209,
        "start_time": "2023-04-08T16:29:48.725Z"
      },
      {
        "duration": 313,
        "start_time": "2023-04-08T16:29:48.936Z"
      },
      {
        "duration": 128,
        "start_time": "2023-04-08T16:29:49.251Z"
      },
      {
        "duration": 4,
        "start_time": "2023-04-08T16:29:49.382Z"
      },
      {
        "duration": 140,
        "start_time": "2023-04-08T16:29:49.388Z"
      },
      {
        "duration": 163,
        "start_time": "2023-04-08T16:29:49.529Z"
      },
      {
        "duration": 3,
        "start_time": "2023-04-08T16:29:49.694Z"
      },
      {
        "duration": 10,
        "start_time": "2023-04-08T16:29:49.699Z"
      },
      {
        "duration": 315,
        "start_time": "2023-04-08T16:29:49.710Z"
      },
      {
        "duration": 156,
        "start_time": "2023-04-08T16:29:50.028Z"
      },
      {
        "duration": 11,
        "start_time": "2023-04-08T16:29:50.185Z"
      },
      {
        "duration": 11,
        "start_time": "2023-04-08T16:29:50.197Z"
      },
      {
        "duration": 33,
        "start_time": "2023-04-08T16:29:50.211Z"
      },
      {
        "duration": 38,
        "start_time": "2023-04-08T16:29:50.247Z"
      }
    ],
    "kernelspec": {
      "display_name": "Python 3 (ipykernel)",
      "language": "python",
      "name": "python3"
    },
    "language_info": {
      "codemirror_mode": {
        "name": "ipython",
        "version": 3
      },
      "file_extension": ".py",
      "mimetype": "text/x-python",
      "name": "python",
      "nbconvert_exporter": "python",
      "pygments_lexer": "ipython3",
      "version": "3.9.5"
    },
    "toc": {
      "base_numbering": 1,
      "nav_menu": {},
      "number_sections": true,
      "sideBar": true,
      "skip_h1_title": true,
      "title_cell": "Содержание проекта",
      "title_sidebar": "Contents",
      "toc_cell": true,
      "toc_position": {
        "height": "calc(100% - 180px)",
        "left": "10px",
        "top": "150px",
        "width": "245.797px"
      },
      "toc_section_display": true,
      "toc_window_display": false
    },
    "colab": {
      "provenance": []
    }
  },
  "nbformat": 4,
  "nbformat_minor": 0
}