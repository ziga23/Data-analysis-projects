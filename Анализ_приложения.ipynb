{
  "cells": [
    {
      "cell_type": "markdown",
      "metadata": {
        "id": "UHZmPG60kwKA"
      },
      "source": [
        "# Описание проекта:\n",
        "\n",
        "Я работаю в стартапе, который продаёт продукты питания. Мне нужно изучить, как пользователи нашего мобильного приложения ведут себя в воронке продаж. Я хочу узнать, сколько пользователей доходит до покупки, а сколько застревает на предыдущих шагах. После этого я проведу A/A/B-тест, чтобы узнать, какой шрифт в приложении лучше - старый или новый. Создание двух контрольных групп вместо одной поможет убедиться в точности проведенного тестирования и понять, сколько времени и данных потребуется для дальнейших тестов."
      ]
    },
    {
      "cell_type": "markdown",
      "metadata": {
        "id": "FRglsa32kwKA"
      },
      "source": [
        "## Откроем файл с данными и изучим общую информацию"
      ]
    },
    {
      "cell_type": "code",
      "execution_count": null,
      "metadata": {
        "id": "4ILIj7zZkwKA"
      },
      "outputs": [],
      "source": [
        "import pandas as pd\n",
        "import numpy as np\n",
        "import datetime as d\n",
        "import matplotlib.pyplot as plt\n",
        "from scipy import stats as st\n",
        "import math as mth\n",
        "import seaborn as sns"
      ]
    },
    {
      "cell_type": "code",
      "execution_count": null,
      "metadata": {
        "id": "5HAK2Sa9kwKB",
        "outputId": "c4abf4cf-2147-45fe-808b-7938df5caf03"
      },
      "outputs": [
        {
          "data": {
            "text/html": [
              "<div>\n",
              "<style scoped>\n",
              "    .dataframe tbody tr th:only-of-type {\n",
              "        vertical-align: middle;\n",
              "    }\n",
              "\n",
              "    .dataframe tbody tr th {\n",
              "        vertical-align: top;\n",
              "    }\n",
              "\n",
              "    .dataframe thead th {\n",
              "        text-align: right;\n",
              "    }\n",
              "</style>\n",
              "<table border=\"1\" class=\"dataframe\">\n",
              "  <thead>\n",
              "    <tr style=\"text-align: right;\">\n",
              "      <th></th>\n",
              "      <th>EventName</th>\n",
              "      <th>DeviceIDHash</th>\n",
              "      <th>EventTimestamp</th>\n",
              "      <th>ExpId</th>\n",
              "    </tr>\n",
              "  </thead>\n",
              "  <tbody>\n",
              "    <tr>\n",
              "      <th>0</th>\n",
              "      <td>MainScreenAppear</td>\n",
              "      <td>4575588528974610257</td>\n",
              "      <td>1564029816</td>\n",
              "      <td>246</td>\n",
              "    </tr>\n",
              "    <tr>\n",
              "      <th>1</th>\n",
              "      <td>MainScreenAppear</td>\n",
              "      <td>7416695313311560658</td>\n",
              "      <td>1564053102</td>\n",
              "      <td>246</td>\n",
              "    </tr>\n",
              "    <tr>\n",
              "      <th>2</th>\n",
              "      <td>PaymentScreenSuccessful</td>\n",
              "      <td>3518123091307005509</td>\n",
              "      <td>1564054127</td>\n",
              "      <td>248</td>\n",
              "    </tr>\n",
              "    <tr>\n",
              "      <th>3</th>\n",
              "      <td>CartScreenAppear</td>\n",
              "      <td>3518123091307005509</td>\n",
              "      <td>1564054127</td>\n",
              "      <td>248</td>\n",
              "    </tr>\n",
              "    <tr>\n",
              "      <th>4</th>\n",
              "      <td>PaymentScreenSuccessful</td>\n",
              "      <td>6217807653094995999</td>\n",
              "      <td>1564055322</td>\n",
              "      <td>248</td>\n",
              "    </tr>\n",
              "    <tr>\n",
              "      <th>...</th>\n",
              "      <td>...</td>\n",
              "      <td>...</td>\n",
              "      <td>...</td>\n",
              "      <td>...</td>\n",
              "    </tr>\n",
              "    <tr>\n",
              "      <th>244121</th>\n",
              "      <td>MainScreenAppear</td>\n",
              "      <td>4599628364049201812</td>\n",
              "      <td>1565212345</td>\n",
              "      <td>247</td>\n",
              "    </tr>\n",
              "    <tr>\n",
              "      <th>244122</th>\n",
              "      <td>MainScreenAppear</td>\n",
              "      <td>5849806612437486590</td>\n",
              "      <td>1565212439</td>\n",
              "      <td>246</td>\n",
              "    </tr>\n",
              "    <tr>\n",
              "      <th>244123</th>\n",
              "      <td>MainScreenAppear</td>\n",
              "      <td>5746969938801999050</td>\n",
              "      <td>1565212483</td>\n",
              "      <td>246</td>\n",
              "    </tr>\n",
              "    <tr>\n",
              "      <th>244124</th>\n",
              "      <td>MainScreenAppear</td>\n",
              "      <td>5746969938801999050</td>\n",
              "      <td>1565212498</td>\n",
              "      <td>246</td>\n",
              "    </tr>\n",
              "    <tr>\n",
              "      <th>244125</th>\n",
              "      <td>OffersScreenAppear</td>\n",
              "      <td>5746969938801999050</td>\n",
              "      <td>1565212517</td>\n",
              "      <td>246</td>\n",
              "    </tr>\n",
              "  </tbody>\n",
              "</table>\n",
              "<p>244126 rows × 4 columns</p>\n",
              "</div>"
            ],
            "text/plain": [
              "                      EventName         DeviceIDHash  EventTimestamp  ExpId\n",
              "0              MainScreenAppear  4575588528974610257      1564029816    246\n",
              "1              MainScreenAppear  7416695313311560658      1564053102    246\n",
              "2       PaymentScreenSuccessful  3518123091307005509      1564054127    248\n",
              "3              CartScreenAppear  3518123091307005509      1564054127    248\n",
              "4       PaymentScreenSuccessful  6217807653094995999      1564055322    248\n",
              "...                         ...                  ...             ...    ...\n",
              "244121         MainScreenAppear  4599628364049201812      1565212345    247\n",
              "244122         MainScreenAppear  5849806612437486590      1565212439    246\n",
              "244123         MainScreenAppear  5746969938801999050      1565212483    246\n",
              "244124         MainScreenAppear  5746969938801999050      1565212498    246\n",
              "244125       OffersScreenAppear  5746969938801999050      1565212517    246\n",
              "\n",
              "[244126 rows x 4 columns]"
            ]
          },
          "execution_count": 2,
          "metadata": {},
          "output_type": "execute_result"
        }
      ],
      "source": [
        "df = pd.read_csv('/datasets/logs_exp.csv', sep='\\t')\n",
        "df"
      ]
    },
    {
      "cell_type": "markdown",
      "metadata": {
        "id": "5mtv1W3MkwKC"
      },
      "source": [
        "## Подготовим данные"
      ]
    },
    {
      "cell_type": "markdown",
      "metadata": {
        "id": "9ua4CNhqkwKC"
      },
      "source": [
        "Посмотрим на данные"
      ]
    },
    {
      "cell_type": "code",
      "execution_count": null,
      "metadata": {
        "id": "VtaRZeTskwKC",
        "outputId": "dc98e8c8-42b3-47f3-c172-9cc136ef1c68"
      },
      "outputs": [
        {
          "name": "stdout",
          "output_type": "stream",
          "text": [
            "<class 'pandas.core.frame.DataFrame'>\n",
            "RangeIndex: 244126 entries, 0 to 244125\n",
            "Data columns (total 4 columns):\n",
            " #   Column          Non-Null Count   Dtype \n",
            "---  ------          --------------   ----- \n",
            " 0   EventName       244126 non-null  object\n",
            " 1   DeviceIDHash    244126 non-null  int64 \n",
            " 2   EventTimestamp  244126 non-null  int64 \n",
            " 3   ExpId           244126 non-null  int64 \n",
            "dtypes: int64(3), object(1)\n",
            "memory usage: 7.5+ MB\n"
          ]
        }
      ],
      "source": [
        "df.info()"
      ]
    },
    {
      "cell_type": "markdown",
      "metadata": {
        "id": "29p-lBj5kwKC"
      },
      "source": [
        "Пропусков нет, данные в нужном нам типе, ничего менять не надо, проверим на дубликаты"
      ]
    },
    {
      "cell_type": "code",
      "execution_count": null,
      "metadata": {
        "id": "UUNct7EjkwKC",
        "outputId": "1bc1e212-079f-433f-ff37-259e34c800df"
      },
      "outputs": [
        {
          "data": {
            "text/plain": [
              "413"
            ]
          },
          "execution_count": 4,
          "metadata": {},
          "output_type": "execute_result"
        }
      ],
      "source": [
        "df.duplicated().sum() # Проверим на дубликаты, и удалим их"
      ]
    },
    {
      "cell_type": "code",
      "execution_count": null,
      "metadata": {
        "id": "37aKok8wkwKC"
      },
      "outputs": [],
      "source": [
        "df = df.drop_duplicates().reset_index(drop = True)"
      ]
    },
    {
      "cell_type": "markdown",
      "metadata": {
        "id": "KY5ScBvzkwKC"
      },
      "source": [
        "### Изменим название колонок"
      ]
    },
    {
      "cell_type": "code",
      "execution_count": null,
      "metadata": {
        "id": "pGS0KJCvkwKD",
        "outputId": "2cba9a34-3cf9-418e-fb90-9d9d9ca6f49d"
      },
      "outputs": [
        {
          "name": "stdout",
          "output_type": "stream",
          "text": [
            "<class 'pandas.core.frame.DataFrame'>\n",
            "RangeIndex: 243713 entries, 0 to 243712\n",
            "Data columns (total 4 columns):\n",
            " #   Column           Non-Null Count   Dtype \n",
            "---  ------           --------------   ----- \n",
            " 0   event_name       243713 non-null  object\n",
            " 1   device_id_hash   243713 non-null  int64 \n",
            " 2   event_timestamp  243713 non-null  int64 \n",
            " 3   exp_id           243713 non-null  int64 \n",
            "dtypes: int64(3), object(1)\n",
            "memory usage: 7.4+ MB\n"
          ]
        }
      ],
      "source": [
        "df = df.rename(columns={'EventName':'event_name','DeviceIDHash':'device_id_hash','EventTimestamp':'event_timestamp','ExpId':'exp_id'})\n",
        "df.info()"
      ]
    },
    {
      "cell_type": "markdown",
      "metadata": {
        "id": "j3C6CrB6kwKD"
      },
      "source": [
        "Так стало удобнее"
      ]
    },
    {
      "cell_type": "markdown",
      "metadata": {
        "id": "0DRrC3BDkwKD"
      },
      "source": [
        "### Также приведем столбец с датой в читаемый формат, и добавим столбец с датой"
      ]
    },
    {
      "cell_type": "code",
      "execution_count": null,
      "metadata": {
        "id": "d2hYfLp-kwKD"
      },
      "outputs": [],
      "source": [
        "df['event_timestamp'] = pd.to_datetime(df['event_timestamp'], unit='s')\n",
        "df['date'] = pd.to_datetime(df['event_timestamp']).dt.date"
      ]
    },
    {
      "cell_type": "code",
      "execution_count": null,
      "metadata": {
        "id": "EeWNAlpXkwKD",
        "outputId": "f772951e-9bf4-435a-b51d-b1f9c0ca0ccb"
      },
      "outputs": [
        {
          "data": {
            "text/html": [
              "<div>\n",
              "<style scoped>\n",
              "    .dataframe tbody tr th:only-of-type {\n",
              "        vertical-align: middle;\n",
              "    }\n",
              "\n",
              "    .dataframe tbody tr th {\n",
              "        vertical-align: top;\n",
              "    }\n",
              "\n",
              "    .dataframe thead th {\n",
              "        text-align: right;\n",
              "    }\n",
              "</style>\n",
              "<table border=\"1\" class=\"dataframe\">\n",
              "  <thead>\n",
              "    <tr style=\"text-align: right;\">\n",
              "      <th></th>\n",
              "      <th>event_name</th>\n",
              "      <th>device_id_hash</th>\n",
              "      <th>event_timestamp</th>\n",
              "      <th>exp_id</th>\n",
              "      <th>date</th>\n",
              "    </tr>\n",
              "  </thead>\n",
              "  <tbody>\n",
              "    <tr>\n",
              "      <th>0</th>\n",
              "      <td>MainScreenAppear</td>\n",
              "      <td>4575588528974610257</td>\n",
              "      <td>2019-07-25 04:43:36</td>\n",
              "      <td>246</td>\n",
              "      <td>2019-07-25</td>\n",
              "    </tr>\n",
              "    <tr>\n",
              "      <th>1</th>\n",
              "      <td>MainScreenAppear</td>\n",
              "      <td>7416695313311560658</td>\n",
              "      <td>2019-07-25 11:11:42</td>\n",
              "      <td>246</td>\n",
              "      <td>2019-07-25</td>\n",
              "    </tr>\n",
              "    <tr>\n",
              "      <th>2</th>\n",
              "      <td>PaymentScreenSuccessful</td>\n",
              "      <td>3518123091307005509</td>\n",
              "      <td>2019-07-25 11:28:47</td>\n",
              "      <td>248</td>\n",
              "      <td>2019-07-25</td>\n",
              "    </tr>\n",
              "    <tr>\n",
              "      <th>3</th>\n",
              "      <td>CartScreenAppear</td>\n",
              "      <td>3518123091307005509</td>\n",
              "      <td>2019-07-25 11:28:47</td>\n",
              "      <td>248</td>\n",
              "      <td>2019-07-25</td>\n",
              "    </tr>\n",
              "    <tr>\n",
              "      <th>4</th>\n",
              "      <td>PaymentScreenSuccessful</td>\n",
              "      <td>6217807653094995999</td>\n",
              "      <td>2019-07-25 11:48:42</td>\n",
              "      <td>248</td>\n",
              "      <td>2019-07-25</td>\n",
              "    </tr>\n",
              "    <tr>\n",
              "      <th>...</th>\n",
              "      <td>...</td>\n",
              "      <td>...</td>\n",
              "      <td>...</td>\n",
              "      <td>...</td>\n",
              "      <td>...</td>\n",
              "    </tr>\n",
              "    <tr>\n",
              "      <th>243708</th>\n",
              "      <td>MainScreenAppear</td>\n",
              "      <td>4599628364049201812</td>\n",
              "      <td>2019-08-07 21:12:25</td>\n",
              "      <td>247</td>\n",
              "      <td>2019-08-07</td>\n",
              "    </tr>\n",
              "    <tr>\n",
              "      <th>243709</th>\n",
              "      <td>MainScreenAppear</td>\n",
              "      <td>5849806612437486590</td>\n",
              "      <td>2019-08-07 21:13:59</td>\n",
              "      <td>246</td>\n",
              "      <td>2019-08-07</td>\n",
              "    </tr>\n",
              "    <tr>\n",
              "      <th>243710</th>\n",
              "      <td>MainScreenAppear</td>\n",
              "      <td>5746969938801999050</td>\n",
              "      <td>2019-08-07 21:14:43</td>\n",
              "      <td>246</td>\n",
              "      <td>2019-08-07</td>\n",
              "    </tr>\n",
              "    <tr>\n",
              "      <th>243711</th>\n",
              "      <td>MainScreenAppear</td>\n",
              "      <td>5746969938801999050</td>\n",
              "      <td>2019-08-07 21:14:58</td>\n",
              "      <td>246</td>\n",
              "      <td>2019-08-07</td>\n",
              "    </tr>\n",
              "    <tr>\n",
              "      <th>243712</th>\n",
              "      <td>OffersScreenAppear</td>\n",
              "      <td>5746969938801999050</td>\n",
              "      <td>2019-08-07 21:15:17</td>\n",
              "      <td>246</td>\n",
              "      <td>2019-08-07</td>\n",
              "    </tr>\n",
              "  </tbody>\n",
              "</table>\n",
              "<p>243713 rows × 5 columns</p>\n",
              "</div>"
            ],
            "text/plain": [
              "                     event_name       device_id_hash     event_timestamp  \\\n",
              "0              MainScreenAppear  4575588528974610257 2019-07-25 04:43:36   \n",
              "1              MainScreenAppear  7416695313311560658 2019-07-25 11:11:42   \n",
              "2       PaymentScreenSuccessful  3518123091307005509 2019-07-25 11:28:47   \n",
              "3              CartScreenAppear  3518123091307005509 2019-07-25 11:28:47   \n",
              "4       PaymentScreenSuccessful  6217807653094995999 2019-07-25 11:48:42   \n",
              "...                         ...                  ...                 ...   \n",
              "243708         MainScreenAppear  4599628364049201812 2019-08-07 21:12:25   \n",
              "243709         MainScreenAppear  5849806612437486590 2019-08-07 21:13:59   \n",
              "243710         MainScreenAppear  5746969938801999050 2019-08-07 21:14:43   \n",
              "243711         MainScreenAppear  5746969938801999050 2019-08-07 21:14:58   \n",
              "243712       OffersScreenAppear  5746969938801999050 2019-08-07 21:15:17   \n",
              "\n",
              "        exp_id        date  \n",
              "0          246  2019-07-25  \n",
              "1          246  2019-07-25  \n",
              "2          248  2019-07-25  \n",
              "3          248  2019-07-25  \n",
              "4          248  2019-07-25  \n",
              "...        ...         ...  \n",
              "243708     247  2019-08-07  \n",
              "243709     246  2019-08-07  \n",
              "243710     246  2019-08-07  \n",
              "243711     246  2019-08-07  \n",
              "243712     246  2019-08-07  \n",
              "\n",
              "[243713 rows x 5 columns]"
            ]
          },
          "execution_count": 8,
          "metadata": {},
          "output_type": "execute_result"
        }
      ],
      "source": [
        "df"
      ]
    },
    {
      "cell_type": "markdown",
      "metadata": {
        "id": "n1CUwFXJkwKD"
      },
      "source": [
        "## Изучим и проверим данные"
      ]
    },
    {
      "cell_type": "code",
      "execution_count": null,
      "metadata": {
        "id": "VvlyXsXLkwKD",
        "outputId": "c2a52e0a-44b4-412f-ded9-a706cadb3ce8"
      },
      "outputs": [
        {
          "data": {
            "text/plain": [
              "MainScreenAppear           119101\n",
              "OffersScreenAppear          46808\n",
              "CartScreenAppear            42668\n",
              "PaymentScreenSuccessful     34118\n",
              "Tutorial                     1018\n",
              "Name: event_name, dtype: int64"
            ]
          },
          "execution_count": 9,
          "metadata": {},
          "output_type": "execute_result"
        }
      ],
      "source": [
        "df['event_name'].value_counts() # события в логах"
      ]
    },
    {
      "cell_type": "code",
      "execution_count": null,
      "metadata": {
        "id": "J5QBDo-WkwKE",
        "outputId": "4baeeff2-9728-44fc-eb0e-9f4c76d6f1fe"
      },
      "outputs": [
        {
          "name": "stdout",
          "output_type": "stream",
          "text": [
            "Всего в логе 243713 событий\n",
            "Всего пользователей в логе: 7551\n",
            "В среднем на пользователя 32 события\n",
            "События начинается с  2019-07-25  до  2019-08-07\n"
          ]
        }
      ],
      "source": [
        "logs_count = df['device_id_hash'].count()\n",
        "print(f\"Всего в логе {logs_count} событий\")\n",
        "\n",
        "pers = df['device_id_hash'].nunique()\n",
        "print(f\"Всего пользователей в логе: {pers}\")\n",
        "\n",
        "mean = int(df.groupby('device_id_hash').agg({'event_name':'count'}).mean())\n",
        "print(f\"В среднем на пользователя {mean} события\")\n",
        "\n",
        "d_mi = df['date'].min()\n",
        "d_ma = df['date'].max()\n",
        "print(f\"События начинается с  {d_mi}  до  {d_ma}\")"
      ]
    },
    {
      "cell_type": "markdown",
      "metadata": {
        "id": "jpmLJIVikwKE"
      },
      "source": [
        "### Построим гистограмму по дате и времени"
      ]
    },
    {
      "cell_type": "code",
      "execution_count": null,
      "metadata": {
        "id": "sh8rfgAjkwKE",
        "outputId": "df12bd1c-d302-465b-9ddf-e8f2bb080020"
      },
      "outputs": [
        {
          "data": {
            "image/png": "[encoded data removed]",
            "text/plain": [
              "<Figure size 1296x504 with 1 Axes>"
            ]
          },
          "metadata": {
            "needs_background": "light"
          },
          "output_type": "display_data"
        }
      ],
      "source": [
        "time_count = df['event_timestamp'].count()\n",
        "pers_df = df['device_id_hash'].nunique()\n",
        "plt.figure(figsize=(18,7))\n",
        "plt.hist(df['event_timestamp'], bins=14*24);"
      ]
    },
    {
      "cell_type": "markdown",
      "metadata": {
        "id": "FKQ6YB-mkwKE"
      },
      "source": [
        "Очивидно, что полные данные начинаются с 2019-08-01, отбросим данные до этого момента"
      ]
    },
    {
      "cell_type": "code",
      "execution_count": null,
      "metadata": {
        "id": "c6LGRKMUkwKE"
      },
      "outputs": [],
      "source": [
        "data = df[df['event_timestamp']>'2019-08-01']"
      ]
    },
    {
      "cell_type": "code",
      "execution_count": null,
      "metadata": {
        "id": "yBYzFBp4kwKE",
        "outputId": "22357ee4-e85d-475b-979c-75c7f4fdce01"
      },
      "outputs": [
        {
          "data": {
            "image/png": "[encoded data removed]",
            "text/plain": [
              "<Figure size 1296x504 with 1 Axes>"
            ]
          },
          "metadata": {
            "needs_background": "light"
          },
          "output_type": "display_data"
        }
      ],
      "source": [
        "new_time_count = data['event_timestamp'].count()\n",
        "plt.figure(figsize=(18,7))\n",
        "plt.hist(data['event_timestamp'], bins=14*24);"
      ]
    },
    {
      "cell_type": "code",
      "execution_count": null,
      "metadata": {
        "id": "38AshN0nkwKF",
        "outputId": "f25f71ba-e698-4a9e-b7b0-d4d10d8b11cc"
      },
      "outputs": [
        {
          "name": "stdout",
          "output_type": "stream",
          "text": [
            "Данных стало меньше на 2826 записей, это на 1.16% меньше от начального количества данных\n",
            "В новых данных пользователей: 7534, это на 17 меньше чем в неотфильтрованных данных\n"
          ]
        }
      ],
      "source": [
        "count = abs(new_time_count-time_count)\n",
        "div = round(100-new_time_count/time_count*100,2)\n",
        "print(f\"Данных стало меньше на {count} записей, это на {div}% меньше от начального количества данных\")\n",
        "\n",
        "pers_2 = data['device_id_hash'].nunique()\n",
        "\n",
        "print(f\"В новых данных пользователей: {pers_2}, это на {pers_df-pers_2} меньше чем в неотфильтрованных данных\")"
      ]
    },
    {
      "cell_type": "code",
      "execution_count": null,
      "metadata": {
        "id": "ALVTV2SOkwKK",
        "outputId": "4285dafe-fccf-4256-9305-9d0cc8d7220a"
      },
      "outputs": [
        {
          "data": {
            "text/plain": [
              "exp_id\n",
              "246    79302\n",
              "247    77022\n",
              "248    84563\n",
              "Name: device_id_hash, dtype: int64"
            ]
          },
          "execution_count": 15,
          "metadata": {},
          "output_type": "execute_result"
        }
      ],
      "source": [
        "data.groupby('exp_id')['device_id_hash'].count() # пользователи трёх экспериментальных групп"
      ]
    },
    {
      "cell_type": "markdown",
      "metadata": {
        "id": "_xheQFdkkwKK"
      },
      "source": [
        "## Изучите воронку событий"
      ]
    },
    {
      "cell_type": "code",
      "execution_count": null,
      "metadata": {
        "scrolled": true,
        "id": "Ssq6XokykwKL",
        "outputId": "434d20b9-b3fe-4c9c-da05-98cd6c33edf1"
      },
      "outputs": [
        {
          "data": {
            "text/html": [
              "<div>\n",
              "<style scoped>\n",
              "    .dataframe tbody tr th:only-of-type {\n",
              "        vertical-align: middle;\n",
              "    }\n",
              "\n",
              "    .dataframe tbody tr th {\n",
              "        vertical-align: top;\n",
              "    }\n",
              "\n",
              "    .dataframe thead th {\n",
              "        text-align: right;\n",
              "    }\n",
              "</style>\n",
              "<table border=\"1\" class=\"dataframe\">\n",
              "  <thead>\n",
              "    <tr style=\"text-align: right;\">\n",
              "      <th></th>\n",
              "      <th>event_name</th>\n",
              "      <th>device_id_hash</th>\n",
              "      <th>event_timestamp</th>\n",
              "      <th>exp_id</th>\n",
              "      <th>date</th>\n",
              "    </tr>\n",
              "  </thead>\n",
              "  <tbody>\n",
              "    <tr>\n",
              "      <th>2826</th>\n",
              "      <td>Tutorial</td>\n",
              "      <td>3737462046622621720</td>\n",
              "      <td>2019-08-01 00:07:28</td>\n",
              "      <td>246</td>\n",
              "      <td>2019-08-01</td>\n",
              "    </tr>\n",
              "    <tr>\n",
              "      <th>2827</th>\n",
              "      <td>MainScreenAppear</td>\n",
              "      <td>3737462046622621720</td>\n",
              "      <td>2019-08-01 00:08:00</td>\n",
              "      <td>246</td>\n",
              "      <td>2019-08-01</td>\n",
              "    </tr>\n",
              "    <tr>\n",
              "      <th>2828</th>\n",
              "      <td>MainScreenAppear</td>\n",
              "      <td>3737462046622621720</td>\n",
              "      <td>2019-08-01 00:08:55</td>\n",
              "      <td>246</td>\n",
              "      <td>2019-08-01</td>\n",
              "    </tr>\n",
              "    <tr>\n",
              "      <th>2829</th>\n",
              "      <td>OffersScreenAppear</td>\n",
              "      <td>3737462046622621720</td>\n",
              "      <td>2019-08-01 00:08:58</td>\n",
              "      <td>246</td>\n",
              "      <td>2019-08-01</td>\n",
              "    </tr>\n",
              "    <tr>\n",
              "      <th>2830</th>\n",
              "      <td>MainScreenAppear</td>\n",
              "      <td>1433840883824088890</td>\n",
              "      <td>2019-08-01 00:08:59</td>\n",
              "      <td>247</td>\n",
              "      <td>2019-08-01</td>\n",
              "    </tr>\n",
              "  </tbody>\n",
              "</table>\n",
              "</div>"
            ],
            "text/plain": [
              "              event_name       device_id_hash     event_timestamp  exp_id  \\\n",
              "2826            Tutorial  3737462046622621720 2019-08-01 00:07:28     246   \n",
              "2827    MainScreenAppear  3737462046622621720 2019-08-01 00:08:00     246   \n",
              "2828    MainScreenAppear  3737462046622621720 2019-08-01 00:08:55     246   \n",
              "2829  OffersScreenAppear  3737462046622621720 2019-08-01 00:08:58     246   \n",
              "2830    MainScreenAppear  1433840883824088890 2019-08-01 00:08:59     247   \n",
              "\n",
              "            date  \n",
              "2826  2019-08-01  \n",
              "2827  2019-08-01  \n",
              "2828  2019-08-01  \n",
              "2829  2019-08-01  \n",
              "2830  2019-08-01  "
            ]
          },
          "execution_count": 16,
          "metadata": {},
          "output_type": "execute_result"
        }
      ],
      "source": [
        "data.head()"
      ]
    },
    {
      "cell_type": "code",
      "execution_count": null,
      "metadata": {
        "id": "86oSOf3rkwKL",
        "outputId": "8316d8e5-33f2-45a3-d073-f50c8f4b9a8e"
      },
      "outputs": [
        {
          "data": {
            "text/plain": [
              "MainScreenAppear           117328\n",
              "OffersScreenAppear          46333\n",
              "CartScreenAppear            42303\n",
              "PaymentScreenSuccessful     33918\n",
              "Tutorial                     1005\n",
              "Name: event_name, dtype: int64"
            ]
          },
          "execution_count": 17,
          "metadata": {},
          "output_type": "execute_result"
        }
      ],
      "source": [
        "data['event_name'].value_counts()"
      ]
    },
    {
      "cell_type": "code",
      "execution_count": null,
      "metadata": {
        "id": "OS-XHoXBkwKL",
        "outputId": "cc04a32f-2b46-49f4-de47-b62b6f8d6781"
      },
      "outputs": [
        {
          "data": {
            "text/html": [
              "<div>\n",
              "<style scoped>\n",
              "    .dataframe tbody tr th:only-of-type {\n",
              "        vertical-align: middle;\n",
              "    }\n",
              "\n",
              "    .dataframe tbody tr th {\n",
              "        vertical-align: top;\n",
              "    }\n",
              "\n",
              "    .dataframe thead th {\n",
              "        text-align: right;\n",
              "    }\n",
              "</style>\n",
              "<table border=\"1\" class=\"dataframe\">\n",
              "  <thead>\n",
              "    <tr style=\"text-align: right;\">\n",
              "      <th></th>\n",
              "      <th>event_name</th>\n",
              "      <th>device_id_hash</th>\n",
              "      <th>event_timestamp</th>\n",
              "      <th>exp_id</th>\n",
              "      <th>date</th>\n",
              "    </tr>\n",
              "  </thead>\n",
              "  <tbody>\n",
              "    <tr>\n",
              "      <th>2826</th>\n",
              "      <td>Tutorial</td>\n",
              "      <td>3737462046622621720</td>\n",
              "      <td>2019-08-01 00:07:28</td>\n",
              "      <td>246</td>\n",
              "      <td>2019-08-01</td>\n",
              "    </tr>\n",
              "    <tr>\n",
              "      <th>2827</th>\n",
              "      <td>MainScreenAppear</td>\n",
              "      <td>3737462046622621720</td>\n",
              "      <td>2019-08-01 00:08:00</td>\n",
              "      <td>246</td>\n",
              "      <td>2019-08-01</td>\n",
              "    </tr>\n",
              "    <tr>\n",
              "      <th>2828</th>\n",
              "      <td>MainScreenAppear</td>\n",
              "      <td>3737462046622621720</td>\n",
              "      <td>2019-08-01 00:08:55</td>\n",
              "      <td>246</td>\n",
              "      <td>2019-08-01</td>\n",
              "    </tr>\n",
              "    <tr>\n",
              "      <th>2829</th>\n",
              "      <td>OffersScreenAppear</td>\n",
              "      <td>3737462046622621720</td>\n",
              "      <td>2019-08-01 00:08:58</td>\n",
              "      <td>246</td>\n",
              "      <td>2019-08-01</td>\n",
              "    </tr>\n",
              "    <tr>\n",
              "      <th>2830</th>\n",
              "      <td>MainScreenAppear</td>\n",
              "      <td>1433840883824088890</td>\n",
              "      <td>2019-08-01 00:08:59</td>\n",
              "      <td>247</td>\n",
              "      <td>2019-08-01</td>\n",
              "    </tr>\n",
              "  </tbody>\n",
              "</table>\n",
              "</div>"
            ],
            "text/plain": [
              "              event_name       device_id_hash     event_timestamp  exp_id  \\\n",
              "2826            Tutorial  3737462046622621720 2019-08-01 00:07:28     246   \n",
              "2827    MainScreenAppear  3737462046622621720 2019-08-01 00:08:00     246   \n",
              "2828    MainScreenAppear  3737462046622621720 2019-08-01 00:08:55     246   \n",
              "2829  OffersScreenAppear  3737462046622621720 2019-08-01 00:08:58     246   \n",
              "2830    MainScreenAppear  1433840883824088890 2019-08-01 00:08:59     247   \n",
              "\n",
              "            date  \n",
              "2826  2019-08-01  \n",
              "2827  2019-08-01  \n",
              "2828  2019-08-01  \n",
              "2829  2019-08-01  \n",
              "2830  2019-08-01  "
            ]
          },
          "execution_count": 18,
          "metadata": {},
          "output_type": "execute_result"
        }
      ],
      "source": [
        "data.head()"
      ]
    },
    {
      "cell_type": "code",
      "execution_count": null,
      "metadata": {
        "id": "W8MENXGYkwKL",
        "outputId": "8aa8e974-b583-4d25-f5a4-7c9a4fdbb2ac"
      },
      "outputs": [
        {
          "data": {
            "text/plain": [
              "7534"
            ]
          },
          "execution_count": 41,
          "metadata": {},
          "output_type": "execute_result"
        }
      ],
      "source": [
        "data['device_id_hash'].nunique()"
      ]
    },
    {
      "cell_type": "code",
      "execution_count": null,
      "metadata": {
        "id": "L2okv_b6kwKL",
        "outputId": "4282557d-d819-49c6-aafa-8d0ffae30bea"
      },
      "outputs": [
        {
          "data": {
            "text/html": [
              "<div>\n",
              "<style scoped>\n",
              "    .dataframe tbody tr th:only-of-type {\n",
              "        vertical-align: middle;\n",
              "    }\n",
              "\n",
              "    .dataframe tbody tr th {\n",
              "        vertical-align: top;\n",
              "    }\n",
              "\n",
              "    .dataframe thead th {\n",
              "        text-align: right;\n",
              "    }\n",
              "</style>\n",
              "<table border=\"1\" class=\"dataframe\">\n",
              "  <thead>\n",
              "    <tr style=\"text-align: right;\">\n",
              "      <th></th>\n",
              "      <th>count</th>\n",
              "      <th>nunique</th>\n",
              "      <th>cr</th>\n",
              "    </tr>\n",
              "    <tr>\n",
              "      <th>event_name</th>\n",
              "      <th></th>\n",
              "      <th></th>\n",
              "      <th></th>\n",
              "    </tr>\n",
              "  </thead>\n",
              "  <tbody>\n",
              "    <tr>\n",
              "      <th>MainScreenAppear</th>\n",
              "      <td>117328</td>\n",
              "      <td>7419</td>\n",
              "      <td>6.32</td>\n",
              "    </tr>\n",
              "    <tr>\n",
              "      <th>OffersScreenAppear</th>\n",
              "      <td>46333</td>\n",
              "      <td>4593</td>\n",
              "      <td>9.91</td>\n",
              "    </tr>\n",
              "    <tr>\n",
              "      <th>CartScreenAppear</th>\n",
              "      <td>42303</td>\n",
              "      <td>3734</td>\n",
              "      <td>8.83</td>\n",
              "    </tr>\n",
              "    <tr>\n",
              "      <th>PaymentScreenSuccessful</th>\n",
              "      <td>33918</td>\n",
              "      <td>3539</td>\n",
              "      <td>10.43</td>\n",
              "    </tr>\n",
              "    <tr>\n",
              "      <th>Tutorial</th>\n",
              "      <td>1005</td>\n",
              "      <td>840</td>\n",
              "      <td>83.58</td>\n",
              "    </tr>\n",
              "  </tbody>\n",
              "</table>\n",
              "</div>"
            ],
            "text/plain": [
              "                          count  nunique     cr\n",
              "event_name                                     \n",
              "MainScreenAppear         117328     7419   6.32\n",
              "OffersScreenAppear        46333     4593   9.91\n",
              "CartScreenAppear          42303     3734   8.83\n",
              "PaymentScreenSuccessful   33918     3539  10.43\n",
              "Tutorial                   1005      840  83.58"
            ]
          },
          "execution_count": 19,
          "metadata": {},
          "output_type": "execute_result"
        }
      ],
      "source": [
        "us_ev = data.groupby('event_name')['device_id_hash'].agg(['count','nunique']).sort_values(by='count',ascending=False)\n",
        "us_ev['cr'] = round(us_ev['nunique']/us_ev['count']*100,2)\n",
        "us_ev"
      ]
    },
    {
      "cell_type": "code",
      "execution_count": null,
      "metadata": {
        "id": "iOTUX69-kwKM",
        "outputId": "849678f1-dfa2-4c59-ea71-fb53e2e41956"
      },
      "outputs": [
        {
          "data": {
            "image/png": "[encoded data removed]",
            "text/plain": [
              "<Figure size 1080x360 with 1 Axes>"
            ]
          },
          "metadata": {
            "needs_background": "light"
          },
          "output_type": "display_data"
        }
      ],
      "source": [
        "gr_246 = data[data['exp_id']==246]\n",
        "gr_246 = gr_246.groupby('event_name').agg({'device_id_hash': 'nunique'}).sort_values(by='device_id_hash', ascending= False)\n",
        "gr_246= list(round(gr_246['device_id_hash']/gr_246['device_id_hash'].sum()*100,2))\n",
        "\n",
        "gr_247 = data[data['exp_id']==247]\n",
        "gr_247 = gr_247.groupby('event_name').agg({'device_id_hash': 'nunique'}).sort_values(by='device_id_hash', ascending= False)\n",
        "gr_247 = list(round(gr_247['device_id_hash']/gr_247['device_id_hash'].sum()*100,2))\n",
        "\n",
        "gr_248 = data[data['exp_id']==248]\n",
        "gr_248 = gr_248.groupby('event_name').agg({'device_id_hash': 'nunique'}).sort_values(by='device_id_hash', ascending= False)\n",
        "gr_248 = list(round(gr_248['device_id_hash']/gr_248['device_id_hash'].sum()*100,2))\n",
        "\n",
        "x = [0, 1, 2, 3, 4]\n",
        "\n",
        "plt.figure(figsize=(15,5))\n",
        "plt.grid()\n",
        "plt.plot( gr_246, color='blue', alpha=0.9, label='Group 246')\n",
        "plt.plot( gr_247, color='green', alpha=0.9, label='Group 247')\n",
        "plt.plot( gr_248, color='orange', alpha=0.9, label='Group 248')\n",
        "plt.title('Воронка событий')\n",
        "plt.legend()\n",
        "plt.show()"
      ]
    },
    {
      "cell_type": "markdown",
      "metadata": {
        "id": "yozfCvXhkwKM"
      },
      "source": [
        "### Посмотрим воронку событий по каждой группе"
      ]
    },
    {
      "cell_type": "code",
      "execution_count": null,
      "metadata": {
        "id": "kZ_JaE2ukwKM",
        "outputId": "33b74f7f-219c-4178-8444-88226d0fdb22"
      },
      "outputs": [
        {
          "name": "stdout",
          "output_type": "stream",
          "text": [
            "Группа 246                         device_id_hash  % с прошлого шага\n",
            "event_name                                                \n",
            "MainScreenAppear                   2450                NaN\n",
            "OffersScreenAppear                 1542               62.9\n",
            "CartScreenAppear                   1266               82.1\n",
            "PaymentScreenSuccessful            1200               94.8\n",
            "\n",
            "\n",
            "Группа 247                         device_id_hash  % с прошлого шага\n",
            "event_name                                                \n",
            "MainScreenAppear                   2476                NaN\n",
            "OffersScreenAppear                 1520               61.4\n",
            "CartScreenAppear                   1238               81.4\n",
            "PaymentScreenSuccessful            1158               93.5\n",
            "\n",
            "\n",
            "Группа 248                         device_id_hash  % с прошлого шага\n",
            "event_name                                                \n",
            "MainScreenAppear                   2493                NaN\n",
            "OffersScreenAppear                 1531               61.4\n",
            "CartScreenAppear                   1230               80.3\n",
            "PaymentScreenSuccessful            1181               96.0\n",
            "\n",
            "\n"
          ]
        }
      ],
      "source": [
        "data.head()\n",
        "vor = data[data['event_name']!='Tutorial']\n",
        "\n",
        "gr_246 = vor[vor['exp_id']==246]\n",
        "gr_246 = gr_246.groupby('event_name').agg({'device_id_hash': 'nunique'}).sort_values(by='device_id_hash', ascending= False)\n",
        "gr_246['% с прошлого шага'] = round((gr_246['device_id_hash']/gr_246['device_id_hash'].shift(1))*100,1)\n",
        "print(f\"Группа 246{gr_246}\")\n",
        "print()\n",
        "print()\n",
        "\n",
        "gr_247 = vor[vor['exp_id']==247]\n",
        "gr_247 = gr_247.groupby('event_name').agg({'device_id_hash': 'nunique'}).sort_values(by='device_id_hash', ascending= False)\n",
        "gr_247['% с прошлого шага'] = round((gr_247['device_id_hash']/gr_247['device_id_hash'].shift(1))*100,1)\n",
        "print(f\"Группа 247{gr_247}\")\n",
        "print()\n",
        "print()\n",
        "\n",
        "gr_248 = vor[vor['exp_id']==248]\n",
        "gr_248 = gr_248.groupby('event_name').agg({'device_id_hash': 'nunique'}).sort_values(by='device_id_hash', ascending= False)\n",
        "gr_248['% с прошлого шага'] = round((gr_248['device_id_hash']/gr_248['device_id_hash'].shift(1))*100,1)\n",
        "print(f\"Группа 248{gr_248}\")\n",
        "print()\n",
        "print()"
      ]
    },
    {
      "cell_type": "markdown",
      "metadata": {
        "id": "l3z4WZlRkwKM"
      },
      "source": [
        "Мы выяснили, что:\n",
        "- с первого шага на второй переходило 61.4 - 62.9% пользователей\n",
        "- с первого шага на второй переходило 80.3 - 82.1% пользователей\n",
        "- с первого шага на второй переходило 93.5 -  96% пользователей"
      ]
    },
    {
      "cell_type": "code",
      "execution_count": null,
      "metadata": {
        "id": "kFyuCM4HkwKN",
        "outputId": "13a49da2-66aa-4350-8b17-92bbe613b852"
      },
      "outputs": [
        {
          "name": "stdout",
          "output_type": "stream",
          "text": [
            "Группа 246                         device_id_hash      %\n",
            "event_name                                    \n",
            "MainScreenAppear                   2450  36.37\n",
            "OffersScreenAppear                 1542  22.89\n",
            "CartScreenAppear                   1266  18.79\n",
            "PaymentScreenSuccessful            1200  17.81\n",
            "Tutorial                            278   4.13\n",
            "\n",
            "\n",
            "Группа> 247                         device_id_hash      %\n",
            "event_name                                    \n",
            "MainScreenAppear                   2476  37.09\n",
            "OffersScreenAppear                 1520  22.77\n",
            "CartScreenAppear                   1238  18.55\n",
            "PaymentScreenSuccessful            1158  17.35\n",
            "Tutorial                            283   4.24\n",
            "\n",
            "\n",
            "Группа 248                         device_id_hash      %\n",
            "event_name                                    \n",
            "MainScreenAppear                   2493  37.13\n",
            "OffersScreenAppear                 1531  22.80\n",
            "CartScreenAppear                   1230  18.32\n",
            "PaymentScreenSuccessful            1181  17.59\n",
            "Tutorial                            279   4.16\n"
          ]
        }
      ],
      "source": [
        "vor = data[data['event_name']!='Tutorial']\n",
        "\n",
        "gr_246 = data[data['exp_id']==246]\n",
        "gr_246 = gr_246.groupby('event_name').agg({'device_id_hash': 'nunique'}).sort_values(by='device_id_hash', ascending= False)\n",
        "gr_246['%']= round(gr_246['device_id_hash']/gr_246['device_id_hash'].sum()*100,2)\n",
        "print(f\"Группа 246{gr_246}\")\n",
        "print()\n",
        "print()\n",
        "\n",
        "gr_247 = data[data['exp_id']==247]\n",
        "gr_247 = gr_247.groupby('event_name').agg({'device_id_hash': 'nunique'}).sort_values(by='device_id_hash', ascending= False)\n",
        "gr_247['%']= round(gr_247['device_id_hash']/gr_247['device_id_hash'].sum()*100,2)\n",
        "print(f\"Группа> 247{gr_247}\")\n",
        "print()\n",
        "print()\n",
        "\n",
        "gr_248 = data[data['exp_id']==248]\n",
        "gr_248 = gr_248.groupby('event_name').agg({'device_id_hash': 'nunique'}).sort_values(by='device_id_hash', ascending= False)\n",
        "gr_248['%']= round(gr_248['device_id_hash']/gr_248['device_id_hash'].sum()*100,2)\n",
        "print(f\"Группа 248{gr_248}\")\n"
      ]
    },
    {
      "cell_type": "markdown",
      "metadata": {
        "id": "EmM8hx0hkwKN"
      },
      "source": [
        "## Изучим результаты эксперимента"
      ]
    },
    {
      "cell_type": "markdown",
      "metadata": {
        "id": "AaJU6ci_kwKN"
      },
      "source": [
        "### клиенты в группах"
      ]
    },
    {
      "cell_type": "code",
      "execution_count": null,
      "metadata": {
        "id": "DutzgwhskwKN",
        "outputId": "6a7b681f-5cc3-4fa2-d174-587a2bdcc40a"
      },
      "outputs": [
        {
          "data": {
            "text/html": [
              "<div>\n",
              "<style scoped>\n",
              "    .dataframe tbody tr th:only-of-type {\n",
              "        vertical-align: middle;\n",
              "    }\n",
              "\n",
              "    .dataframe tbody tr th {\n",
              "        vertical-align: top;\n",
              "    }\n",
              "\n",
              "    .dataframe thead th {\n",
              "        text-align: right;\n",
              "    }\n",
              "</style>\n",
              "<table border=\"1\" class=\"dataframe\">\n",
              "  <thead>\n",
              "    <tr style=\"text-align: right;\">\n",
              "      <th></th>\n",
              "      <th>device_id_hash</th>\n",
              "    </tr>\n",
              "    <tr>\n",
              "      <th>exp_id</th>\n",
              "      <th></th>\n",
              "    </tr>\n",
              "  </thead>\n",
              "  <tbody>\n",
              "    <tr>\n",
              "      <th>248</th>\n",
              "      <td>2537</td>\n",
              "    </tr>\n",
              "    <tr>\n",
              "      <th>247</th>\n",
              "      <td>2513</td>\n",
              "    </tr>\n",
              "    <tr>\n",
              "      <th>246</th>\n",
              "      <td>2484</td>\n",
              "    </tr>\n",
              "  </tbody>\n",
              "</table>\n",
              "</div>"
            ],
            "text/plain": [
              "        device_id_hash\n",
              "exp_id                \n",
              "248               2537\n",
              "247               2513\n",
              "246               2484"
            ]
          },
          "execution_count": 23,
          "metadata": {},
          "output_type": "execute_result"
        }
      ],
      "source": [
        "exp_num = data.groupby('exp_id').agg({'device_id_hash': 'nunique'}).sort_values(by='device_id_hash',ascending=False)\n",
        "exp_num"
      ]
    },
    {
      "cell_type": "markdown",
      "metadata": {
        "id": "oIyVl3RtkwKN"
      },
      "source": [
        " Напомним, что 246 и 247 — контрольные группы, а 248 — экспериментальная"
      ]
    },
    {
      "cell_type": "markdown",
      "metadata": {
        "id": "ELrPBoEYkwKN"
      },
      "source": [
        "#### Проведем А/А-эксперимент для  выборок 246 и 247, вспомним  критерии успешного A/A-теста:\n",
        "- Количество пользователей, попавших в различные группы, отличается не более, чем на 0.5%\n",
        "- Различие ключевых метрик по группам не более 1% и не имеет статистической значимости\n",
        "\n",
        "#### Сформулируем гипотезы\n",
        "- Нулевая гипотеза: Нет статистически значимых различий между экспериментальными группами и контрольными группами.\n",
        "- Альтернативная гипотеза: Есть статистически значимые различия между экспериментальными группами и контрольными группами."
      ]
    },
    {
      "cell_type": "code",
      "execution_count": null,
      "metadata": {
        "id": "bJWj9aJWkwKO",
        "outputId": "ef6f0c3f-a5cc-4e05-bccc-e7afcb60fe19"
      },
      "outputs": [
        {
          "name": "stdout",
          "output_type": "stream",
          "text": [
            "Выборка под номером '246' меньше выборки '247' на 1.15 %\n"
          ]
        }
      ],
      "source": [
        "diff = round(100-exp_num.loc[246,'device_id_hash']/exp_num.loc[247,'device_id_hash']*100,2)\n",
        "print(f\"Выборка под номером '246' меньше выборки '247' на {diff} %\")"
      ]
    },
    {
      "cell_type": "markdown",
      "metadata": {
        "id": "244Ff3DZkwKO"
      },
      "source": [
        "### разделим выборки по группам"
      ]
    },
    {
      "cell_type": "code",
      "execution_count": null,
      "metadata": {
        "id": "DN-GMo3LkwKO"
      },
      "outputs": [],
      "source": [
        "group_6 = data[data['exp_id']==246]\n",
        "group_7 = data[data['exp_id']==247]\n",
        "group_8 = data[data['exp_id']==248]"
      ]
    },
    {
      "cell_type": "code",
      "execution_count": null,
      "metadata": {
        "id": "SmXZB4HGkwKO"
      },
      "outputs": [],
      "source": [
        "def z_test(df1, df2, event_name, alpha, n):\n",
        "    # уровень статистической значимости c поправкой Бонферрони\n",
        "    bonferroni_alpha = alpha / n\n",
        "     # число пользователей в df1 и df2\n",
        "    user_number = np.array([df1['device_id_hash'].nunique(),\n",
        "                            df2['device_id_hash'].nunique()])\n",
        "    # число пользователей, совершивших переданное функции событие в df1 и df2\n",
        "    success = np.array([df1[df1['event_name'] == event_name]['device_id_hash'].nunique(),\n",
        "                        df2[df2['event_name'] == event_name]['device_id_hash'].nunique()])\n",
        "    # пропорции совершения события в df1 и df2\n",
        "    p1 = success[0]/user_number[0]\n",
        "    p2 = success[1]/user_number[1]\n",
        "        # пропорция совершения события в комбинированном датасете:\n",
        "    p_combined = (success[0]+success[1])/(user_number[0]+user_number[1])\n",
        "    # разница пропорций в датасетах\n",
        "    difference = p1 - p2\n",
        "    # считаем статистику в ст.отклонениях стандартного нормального распределения\n",
        "    z_value = difference/np.sqrt(p_combined*(1 - p_combined)*(1/user_number[0] + 1/user_number[1]))\n",
        "   # задаем стандартное нормальное распределение (среднее 0, ст.отклонение 1)\n",
        "    distr = st.norm(0, 1)\n",
        "    # так как тест двусторонний (либо раличий нет, либо различия есть), то удваиваем результат\n",
        "    p_value = (1 - distr.cdf(abs(z_value)))*2\n",
        "    print('Событие в логе:', event_name)\n",
        "    print('p-value: ', '{0:.2%}'.format(p_value))\n",
        "    if p_value < bonferroni_alpha:\n",
        "        print('Отвергаем нулевую гипотезу: между долями есть значимая разница')\n",
        "    else:\n",
        "        print('Не получилось отвергнуть нулевую гипотезу, нет оснований считать доли разными')"
      ]
    },
    {
      "cell_type": "code",
      "execution_count": null,
      "metadata": {
        "id": "qTmfb6rokwKO",
        "outputId": "3ac43c90-c742-4cbb-8947-23bad0f535ec"
      },
      "outputs": [
        {
          "name": "stdout",
          "output_type": "stream",
          "text": [
            "Событие в логе: MainScreenAppear\n",
            "p-value:  75.71%\n",
            "Не получилось отвергнуть нулевую гипотезу, нет оснований считать доли разными\n"
          ]
        }
      ],
      "source": [
        "z_test(group_6,group_7,'MainScreenAppear',0.05,2)"
      ]
    },
    {
      "cell_type": "code",
      "execution_count": null,
      "metadata": {
        "id": "h83pnDXRkwKP",
        "outputId": "8d36890a-6769-4eae-98d5-5ed4e7304f53"
      },
      "outputs": [
        {
          "name": "stdout",
          "output_type": "stream",
          "text": [
            "Событие в логе: OffersScreenAppear\n",
            "p-value:  24.81%\n",
            "Не получилось отвергнуть нулевую гипотезу, нет оснований считать доли разными\n"
          ]
        }
      ],
      "source": [
        "z_test(group_6,group_7,'OffersScreenAppear',0.05,2)"
      ]
    },
    {
      "cell_type": "code",
      "execution_count": null,
      "metadata": {
        "id": "wKO3iA0hkwKP",
        "outputId": "5ee69c86-f8a1-487b-ac9b-19dee8eddd9f"
      },
      "outputs": [
        {
          "name": "stdout",
          "output_type": "stream",
          "text": [
            "Событие в логе: CartScreenAppear\n",
            "p-value:  22.88%\n",
            "Не получилось отвергнуть нулевую гипотезу, нет оснований считать доли разными\n"
          ]
        }
      ],
      "source": [
        "z_test(group_6,group_7,'CartScreenAppear',0.05,2)"
      ]
    },
    {
      "cell_type": "code",
      "execution_count": null,
      "metadata": {
        "id": "ZxnafjkBkwKP",
        "outputId": "5981ad71-6d8f-4e0e-9090-9fc6d3ba6090"
      },
      "outputs": [
        {
          "name": "stdout",
          "output_type": "stream",
          "text": [
            "Событие в логе: PaymentScreenSuccessful\n",
            "p-value:  11.46%\n",
            "Не получилось отвергнуть нулевую гипотезу, нет оснований считать доли разными\n"
          ]
        }
      ],
      "source": [
        "z_test(group_6,group_7,'PaymentScreenSuccessful',0.05,2)"
      ]
    },
    {
      "cell_type": "markdown",
      "metadata": {
        "id": "U7LAiHFPkwKP"
      },
      "source": [
        "### Выводы:\n",
        "- Группы 246 и 247 не различны"
      ]
    },
    {
      "cell_type": "markdown",
      "metadata": {
        "id": "mYnARFBmkwKP"
      },
      "source": [
        "### Проведем A/B-test, сравним группу с изменённым шрифтом"
      ]
    },
    {
      "cell_type": "markdown",
      "metadata": {
        "id": "J_Lj9HOakwKP"
      },
      "source": [
        "#### Сравним две группы: 246 и 248"
      ]
    },
    {
      "cell_type": "code",
      "execution_count": null,
      "metadata": {
        "id": "TrpLPC-2kwKP",
        "outputId": "ab3c407d-29be-46a0-c4a9-931095c68ace"
      },
      "outputs": [
        {
          "name": "stdout",
          "output_type": "stream",
          "text": [
            "Событие в логе: MainScreenAppear\n",
            "p-value:  29.50%\n",
            "Не получилось отвергнуть нулевую гипотезу, нет оснований считать доли разными\n"
          ]
        }
      ],
      "source": [
        "z_test(group_6,group_8,'MainScreenAppear',0.05,2)"
      ]
    },
    {
      "cell_type": "code",
      "execution_count": null,
      "metadata": {
        "id": "fbbRBZr-kwKP",
        "outputId": "483b7a5b-5006-40b9-9500-fb165dbd2a85"
      },
      "outputs": [
        {
          "name": "stdout",
          "output_type": "stream",
          "text": [
            "Событие в логе: OffersScreenAppear\n",
            "p-value:  20.84%\n",
            "Не получилось отвергнуть нулевую гипотезу, нет оснований считать доли разными\n"
          ]
        }
      ],
      "source": [
        "z_test(group_6,group_8,'OffersScreenAppear',0.05,2)"
      ]
    },
    {
      "cell_type": "code",
      "execution_count": null,
      "metadata": {
        "id": "6Ypdw7aBkwKP",
        "outputId": "6e82ed97-6ab7-44e2-cd67-a7f1c2ce323e"
      },
      "outputs": [
        {
          "name": "stdout",
          "output_type": "stream",
          "text": [
            "Событие в логе: CartScreenAppear\n",
            "p-value:  7.84%\n",
            "Не получилось отвергнуть нулевую гипотезу, нет оснований считать доли разными\n"
          ]
        }
      ],
      "source": [
        "z_test(group_6,group_8,'CartScreenAppear',0.05,2)"
      ]
    },
    {
      "cell_type": "code",
      "execution_count": null,
      "metadata": {
        "id": "eE-2Hf9skwKQ",
        "outputId": "073bee68-bdae-4610-e478-e9ae860aec46"
      },
      "outputs": [
        {
          "name": "stdout",
          "output_type": "stream",
          "text": [
            "Событие в логе: PaymentScreenSuccessful\n",
            "p-value:  21.23%\n",
            "Не получилось отвергнуть нулевую гипотезу, нет оснований считать доли разными\n"
          ]
        }
      ],
      "source": [
        "z_test(group_6,group_8,'PaymentScreenSuccessful',0.05,2)"
      ]
    },
    {
      "cell_type": "markdown",
      "metadata": {
        "id": "qW-oGb_nkwKQ"
      },
      "source": [
        "#### Сравним две группы: 247 и 248"
      ]
    },
    {
      "cell_type": "code",
      "execution_count": null,
      "metadata": {
        "id": "Hs0EscMTkwKQ",
        "outputId": "23eb1657-e1eb-4eaf-a5b5-1dcd9313b34b"
      },
      "outputs": [
        {
          "name": "stdout",
          "output_type": "stream",
          "text": [
            "Событие в логе: MainScreenAppear\n",
            "p-value:  45.87%\n",
            "Не получилось отвергнуть нулевую гипотезу, нет оснований считать доли разными\n"
          ]
        }
      ],
      "source": [
        "z_test(group_7,group_8,'MainScreenAppear',0.05,2)"
      ]
    },
    {
      "cell_type": "code",
      "execution_count": null,
      "metadata": {
        "id": "AS6LfCHzkwKQ",
        "outputId": "4dca932a-4cea-496e-a4e8-8dd5e250a4cb"
      },
      "outputs": [
        {
          "name": "stdout",
          "output_type": "stream",
          "text": [
            "Событие в логе: OffersScreenAppear\n",
            "p-value:  91.98%\n",
            "Не получилось отвергнуть нулевую гипотезу, нет оснований считать доли разными\n"
          ]
        }
      ],
      "source": [
        "z_test(group_7,group_8,'OffersScreenAppear',0.05,2)"
      ]
    },
    {
      "cell_type": "code",
      "execution_count": null,
      "metadata": {
        "id": "AXFRTuQgkwKQ",
        "outputId": "8198e659-d88b-45de-bcbc-1f520366cd26"
      },
      "outputs": [
        {
          "name": "stdout",
          "output_type": "stream",
          "text": [
            "Событие в логе: CartScreenAppear\n",
            "p-value:  57.86%\n",
            "Не получилось отвергнуть нулевую гипотезу, нет оснований считать доли разными\n"
          ]
        }
      ],
      "source": [
        "z_test(group_7,group_8,'CartScreenAppear',0.05,2)"
      ]
    },
    {
      "cell_type": "code",
      "execution_count": null,
      "metadata": {
        "id": "5Z-2SNfSkwKQ",
        "outputId": "4525cfdf-724a-4554-ed3d-6ce233ce85fa"
      },
      "outputs": [
        {
          "name": "stdout",
          "output_type": "stream",
          "text": [
            "Событие в логе: PaymentScreenSuccessful\n",
            "p-value:  73.73%\n",
            "Не получилось отвергнуть нулевую гипотезу, нет оснований считать доли разными\n"
          ]
        }
      ],
      "source": [
        "z_test(group_7,group_8,'PaymentScreenSuccessful',0.05,2)"
      ]
    },
    {
      "cell_type": "markdown",
      "metadata": {
        "id": "nQTxdH9MkwKQ"
      },
      "source": [
        "### Объединим группы 246 и 247"
      ]
    },
    {
      "cell_type": "code",
      "execution_count": null,
      "metadata": {
        "id": "Q5wqu_yHkwKR"
      },
      "outputs": [],
      "source": [
        "gr_246_and_247 = data.query('exp_id==246 or exp_id==247')"
      ]
    },
    {
      "cell_type": "markdown",
      "metadata": {
        "id": "IOgIpJi4kwKR"
      },
      "source": [
        "Проверим будет ли отличие между группами gr_246_and_247 и 248 статистически достоверным"
      ]
    },
    {
      "cell_type": "code",
      "execution_count": null,
      "metadata": {
        "id": "e0J-Y-KLkwKR",
        "outputId": "de5f9cdc-aa92-45e7-86d6-6b1c575b82e7"
      },
      "outputs": [
        {
          "name": "stdout",
          "output_type": "stream",
          "text": [
            "Событие в логе: MainScreenAppear\n",
            "p-value:  29.42%\n",
            "Не получилось отвергнуть нулевую гипотезу, нет оснований считать доли разными\n",
            "\n",
            "Событие в логе: OffersScreenAppear\n",
            "p-value:  43.43%\n",
            "Не получилось отвергнуть нулевую гипотезу, нет оснований считать доли разными\n",
            "\n",
            "Событие в логе: CartScreenAppear\n",
            "p-value:  18.18%\n",
            "Не получилось отвергнуть нулевую гипотезу, нет оснований считать доли разными\n",
            "\n",
            "Событие в логе: PaymentScreenSuccessful\n",
            "p-value:  60.04%\n",
            "Не получилось отвергнуть нулевую гипотезу, нет оснований считать доли разными\n"
          ]
        }
      ],
      "source": [
        "z_test(gr_246_and_247,group_8,'MainScreenAppear',0.05,2)\n",
        "print()\n",
        "z_test(gr_246_and_247,group_8,'OffersScreenAppear',0.05,2)\n",
        "print()\n",
        "z_test(gr_246_and_247,group_8,'CartScreenAppear',0.05,2)\n",
        "print()\n",
        "z_test(gr_246_and_247,group_8,'PaymentScreenSuccessful',0.05,2)"
      ]
    },
    {
      "cell_type": "markdown",
      "metadata": {
        "id": "YJLW_q2CkwKR"
      },
      "source": [
        "Можно сделать вывод, что доли попрежнему не разные"
      ]
    },
    {
      "cell_type": "markdown",
      "metadata": {
        "id": "k1MXuF_dkwKS"
      },
      "source": [
        "## Выводы:\n",
        "- Мы провели A/B-тест, изменение шрифта никак не повлиял на клиентов\n",
        "- Шрифт никак не повлиял, это значит что пользователей не отпугнуло нововведение\n",
        "- Изменение шрифта не стоит делать, так как поведение пользователя никак не изменится"
      ]
    }
  ],
  "metadata": {
    "ExecuteTimeLog": [
      {
        "duration": 441,
        "start_time": "2023-03-29T17:47:29.039Z"
      },
      {
        "duration": 704,
        "start_time": "2023-03-29T17:49:00.548Z"
      },
      {
        "duration": 74,
        "start_time": "2023-03-29T17:49:12.781Z"
      },
      {
        "duration": 333,
        "start_time": "2023-03-29T17:49:17.468Z"
      },
      {
        "duration": 69,
        "start_time": "2023-03-29T17:49:26.423Z"
      },
      {
        "duration": 68,
        "start_time": "2023-03-29T17:49:32.348Z"
      },
      {
        "duration": 64,
        "start_time": "2023-03-29T17:49:48.417Z"
      },
      {
        "duration": 67,
        "start_time": "2023-03-29T17:49:53.083Z"
      },
      {
        "duration": 52,
        "start_time": "2023-03-29T17:49:58.509Z"
      },
      {
        "duration": 325,
        "start_time": "2023-03-29T17:50:11.736Z"
      },
      {
        "duration": 93,
        "start_time": "2023-03-29T17:50:25.239Z"
      },
      {
        "duration": 50,
        "start_time": "2023-03-29T17:50:29.537Z"
      },
      {
        "duration": 170,
        "start_time": "2023-03-29T17:51:06.377Z"
      },
      {
        "duration": 19,
        "start_time": "2023-03-29T17:54:12.428Z"
      },
      {
        "duration": 72,
        "start_time": "2023-03-29T17:55:10.161Z"
      },
      {
        "duration": 16,
        "start_time": "2023-03-29T17:55:49.088Z"
      },
      {
        "duration": 15,
        "start_time": "2023-03-29T17:57:55.508Z"
      },
      {
        "duration": 10,
        "start_time": "2023-03-29T17:58:03.388Z"
      },
      {
        "duration": 15,
        "start_time": "2023-03-29T17:59:24.890Z"
      },
      {
        "duration": 8,
        "start_time": "2023-03-29T17:59:32.258Z"
      },
      {
        "duration": 13,
        "start_time": "2023-03-29T17:59:33.888Z"
      },
      {
        "duration": 13,
        "start_time": "2023-03-29T17:59:47.158Z"
      },
      {
        "duration": 1686,
        "start_time": "2023-03-29T18:08:14.406Z"
      },
      {
        "duration": 7,
        "start_time": "2023-03-29T18:08:37.205Z"
      },
      {
        "duration": 7,
        "start_time": "2023-03-29T18:08:40.768Z"
      },
      {
        "duration": 3,
        "start_time": "2023-03-29T18:09:30.166Z"
      },
      {
        "duration": 2,
        "start_time": "2023-03-29T18:09:37.991Z"
      },
      {
        "duration": 2213,
        "start_time": "2023-03-29T18:09:41.372Z"
      },
      {
        "duration": 17,
        "start_time": "2023-03-29T18:09:59.268Z"
      },
      {
        "duration": 468,
        "start_time": "2023-03-29T18:12:14.359Z"
      },
      {
        "duration": 503,
        "start_time": "2023-03-29T18:12:19.592Z"
      },
      {
        "duration": 273,
        "start_time": "2023-03-29T18:12:23.878Z"
      },
      {
        "duration": 11,
        "start_time": "2023-03-29T18:12:26.531Z"
      },
      {
        "duration": 36,
        "start_time": "2023-03-29T18:12:36.958Z"
      },
      {
        "duration": 11,
        "start_time": "2023-03-29T18:12:44.684Z"
      },
      {
        "duration": 7,
        "start_time": "2023-03-29T18:12:53.256Z"
      },
      {
        "duration": 107,
        "start_time": "2023-03-29T18:13:43.730Z"
      },
      {
        "duration": 138,
        "start_time": "2023-03-29T18:14:18.931Z"
      },
      {
        "duration": 11,
        "start_time": "2023-03-29T18:14:26.463Z"
      },
      {
        "duration": 64,
        "start_time": "2023-03-30T12:32:04.461Z"
      },
      {
        "duration": 563,
        "start_time": "2023-03-30T12:32:09.627Z"
      },
      {
        "duration": 924,
        "start_time": "2023-03-30T12:32:10.202Z"
      },
      {
        "duration": 20,
        "start_time": "2023-03-30T12:32:11.127Z"
      },
      {
        "duration": 13,
        "start_time": "2023-03-30T12:32:11.149Z"
      },
      {
        "duration": 152,
        "start_time": "2023-03-30T12:32:11.163Z"
      },
      {
        "duration": 9,
        "start_time": "2023-03-30T12:32:11.317Z"
      },
      {
        "duration": 21,
        "start_time": "2023-03-30T12:32:11.328Z"
      },
      {
        "duration": 19,
        "start_time": "2023-03-30T12:32:13.042Z"
      },
      {
        "duration": 45,
        "start_time": "2023-03-30T12:32:27.956Z"
      },
      {
        "duration": 23,
        "start_time": "2023-03-30T12:32:38.426Z"
      },
      {
        "duration": 31,
        "start_time": "2023-03-30T12:33:10.775Z"
      },
      {
        "duration": 35,
        "start_time": "2023-03-30T12:33:53.951Z"
      },
      {
        "duration": 22,
        "start_time": "2023-03-30T12:33:57.335Z"
      },
      {
        "duration": 50,
        "start_time": "2023-03-30T17:28:42.427Z"
      },
      {
        "duration": 405,
        "start_time": "2023-03-30T17:28:47.870Z"
      },
      {
        "duration": 762,
        "start_time": "2023-03-30T17:28:48.277Z"
      },
      {
        "duration": 20,
        "start_time": "2023-03-30T17:28:49.041Z"
      },
      {
        "duration": 13,
        "start_time": "2023-03-30T17:28:49.062Z"
      },
      {
        "duration": 140,
        "start_time": "2023-03-30T17:28:49.077Z"
      },
      {
        "duration": 9,
        "start_time": "2023-03-30T17:28:49.219Z"
      },
      {
        "duration": 36,
        "start_time": "2023-03-30T17:28:49.230Z"
      },
      {
        "duration": 8,
        "start_time": "2023-03-30T17:28:49.268Z"
      },
      {
        "duration": 12,
        "start_time": "2023-03-30T17:31:05.374Z"
      },
      {
        "duration": 4,
        "start_time": "2023-03-30T17:31:24.805Z"
      },
      {
        "duration": 30,
        "start_time": "2023-03-30T17:33:13.737Z"
      },
      {
        "duration": 17,
        "start_time": "2023-03-30T17:34:20.076Z"
      },
      {
        "duration": 25,
        "start_time": "2023-03-30T17:35:13.431Z"
      },
      {
        "duration": 8,
        "start_time": "2023-03-30T17:35:28.121Z"
      },
      {
        "duration": 20,
        "start_time": "2023-03-30T17:35:33.271Z"
      },
      {
        "duration": 10,
        "start_time": "2023-03-30T17:35:33.293Z"
      },
      {
        "duration": 23,
        "start_time": "2023-03-30T17:35:47.108Z"
      },
      {
        "duration": 24,
        "start_time": "2023-03-30T17:38:38.838Z"
      },
      {
        "duration": 34,
        "start_time": "2023-03-30T17:38:51.595Z"
      },
      {
        "duration": 19,
        "start_time": "2023-03-30T17:38:57.053Z"
      },
      {
        "duration": 23,
        "start_time": "2023-03-30T17:39:01.298Z"
      },
      {
        "duration": 23,
        "start_time": "2023-03-30T17:39:22.179Z"
      },
      {
        "duration": 5,
        "start_time": "2023-03-30T17:41:06.089Z"
      },
      {
        "duration": 5,
        "start_time": "2023-03-30T17:41:14.759Z"
      },
      {
        "duration": 14,
        "start_time": "2023-03-30T17:41:22.513Z"
      },
      {
        "duration": 15,
        "start_time": "2023-03-30T17:41:33.118Z"
      },
      {
        "duration": 376,
        "start_time": "2023-03-30T17:42:46.880Z"
      },
      {
        "duration": 473,
        "start_time": "2023-03-30T17:43:04.759Z"
      },
      {
        "duration": 432,
        "start_time": "2023-03-30T17:43:11.476Z"
      },
      {
        "duration": 19,
        "start_time": "2023-03-30T17:43:33.174Z"
      },
      {
        "duration": 440,
        "start_time": "2023-03-30T17:44:19.510Z"
      },
      {
        "duration": 178,
        "start_time": "2023-03-30T17:44:45.223Z"
      },
      {
        "duration": 178,
        "start_time": "2023-03-30T17:45:14.772Z"
      },
      {
        "duration": 195,
        "start_time": "2023-03-30T17:45:21.293Z"
      },
      {
        "duration": 5,
        "start_time": "2023-03-30T17:45:47.745Z"
      },
      {
        "duration": 7,
        "start_time": "2023-03-30T17:45:52.490Z"
      },
      {
        "duration": 9,
        "start_time": "2023-03-30T17:46:30.406Z"
      },
      {
        "duration": 8,
        "start_time": "2023-03-30T17:46:37.481Z"
      },
      {
        "duration": 43,
        "start_time": "2023-03-30T17:46:43.335Z"
      },
      {
        "duration": 35,
        "start_time": "2023-03-30T17:46:53.659Z"
      },
      {
        "duration": 9,
        "start_time": "2023-03-30T17:47:02.647Z"
      },
      {
        "duration": 3,
        "start_time": "2023-03-30T17:47:09.897Z"
      },
      {
        "duration": 6,
        "start_time": "2023-03-30T17:47:10.282Z"
      },
      {
        "duration": 3,
        "start_time": "2023-03-30T17:47:40.231Z"
      },
      {
        "duration": 170,
        "start_time": "2023-03-30T17:47:40.236Z"
      },
      {
        "duration": 20,
        "start_time": "2023-03-30T17:47:40.407Z"
      },
      {
        "duration": 12,
        "start_time": "2023-03-30T17:47:40.429Z"
      },
      {
        "duration": 88,
        "start_time": "2023-03-30T17:47:40.460Z"
      },
      {
        "duration": 19,
        "start_time": "2023-03-30T17:47:40.550Z"
      },
      {
        "duration": 25,
        "start_time": "2023-03-30T17:47:40.571Z"
      },
      {
        "duration": 9,
        "start_time": "2023-03-30T17:47:40.598Z"
      },
      {
        "duration": 22,
        "start_time": "2023-03-30T17:47:40.610Z"
      },
      {
        "duration": 43,
        "start_time": "2023-03-30T17:47:40.633Z"
      },
      {
        "duration": 17,
        "start_time": "2023-03-30T17:47:40.678Z"
      },
      {
        "duration": 216,
        "start_time": "2023-03-30T17:47:40.696Z"
      },
      {
        "duration": 2,
        "start_time": "2023-03-30T17:47:40.914Z"
      },
      {
        "duration": 2,
        "start_time": "2023-03-30T17:47:42.818Z"
      },
      {
        "duration": 7,
        "start_time": "2023-03-30T17:47:44.138Z"
      },
      {
        "duration": 3,
        "start_time": "2023-03-30T17:47:49.902Z"
      },
      {
        "duration": 154,
        "start_time": "2023-03-30T17:47:49.908Z"
      },
      {
        "duration": 19,
        "start_time": "2023-03-30T17:47:50.064Z"
      },
      {
        "duration": 11,
        "start_time": "2023-03-30T17:47:50.085Z"
      },
      {
        "duration": 104,
        "start_time": "2023-03-30T17:47:50.098Z"
      },
      {
        "duration": 9,
        "start_time": "2023-03-30T17:47:50.203Z"
      },
      {
        "duration": 22,
        "start_time": "2023-03-30T17:47:50.213Z"
      },
      {
        "duration": 5,
        "start_time": "2023-03-30T17:47:50.236Z"
      },
      {
        "duration": 35,
        "start_time": "2023-03-30T17:47:50.244Z"
      },
      {
        "duration": 15,
        "start_time": "2023-03-30T17:47:50.281Z"
      },
      {
        "duration": 36,
        "start_time": "2023-03-30T17:47:50.297Z"
      },
      {
        "duration": 209,
        "start_time": "2023-03-30T17:47:50.334Z"
      },
      {
        "duration": 39,
        "start_time": "2023-03-30T17:47:50.544Z"
      },
      {
        "duration": 5,
        "start_time": "2023-03-30T17:47:50.585Z"
      },
      {
        "duration": 7,
        "start_time": "2023-03-30T17:47:53.410Z"
      },
      {
        "duration": 19,
        "start_time": "2023-03-30T17:48:11.739Z"
      },
      {
        "duration": 6,
        "start_time": "2023-03-30T17:48:16.437Z"
      },
      {
        "duration": 211,
        "start_time": "2023-03-30T17:48:22.934Z"
      },
      {
        "duration": 3,
        "start_time": "2023-03-30T17:48:32.452Z"
      },
      {
        "duration": 167,
        "start_time": "2023-03-30T17:48:32.458Z"
      },
      {
        "duration": 18,
        "start_time": "2023-03-30T17:48:32.627Z"
      },
      {
        "duration": 21,
        "start_time": "2023-03-30T17:48:32.647Z"
      },
      {
        "duration": 102,
        "start_time": "2023-03-30T17:48:32.670Z"
      },
      {
        "duration": 10,
        "start_time": "2023-03-30T17:48:32.773Z"
      },
      {
        "duration": 21,
        "start_time": "2023-03-30T17:48:32.784Z"
      },
      {
        "duration": 5,
        "start_time": "2023-03-30T17:48:32.806Z"
      },
      {
        "duration": 20,
        "start_time": "2023-03-30T17:48:32.814Z"
      },
      {
        "duration": 39,
        "start_time": "2023-03-30T17:48:32.836Z"
      },
      {
        "duration": 16,
        "start_time": "2023-03-30T17:48:32.877Z"
      },
      {
        "duration": 213,
        "start_time": "2023-03-30T17:48:32.895Z"
      },
      {
        "duration": 29,
        "start_time": "2023-03-30T17:48:33.110Z"
      },
      {
        "duration": 21,
        "start_time": "2023-03-30T17:48:33.141Z"
      },
      {
        "duration": 279,
        "start_time": "2023-03-30T17:48:33.164Z"
      },
      {
        "duration": 225,
        "start_time": "2023-03-30T17:48:36.556Z"
      },
      {
        "duration": 18,
        "start_time": "2023-03-30T17:48:44.747Z"
      },
      {
        "duration": 6,
        "start_time": "2023-03-30T17:48:45.166Z"
      },
      {
        "duration": 179,
        "start_time": "2023-03-30T17:48:45.651Z"
      },
      {
        "duration": 3,
        "start_time": "2023-03-30T17:48:49.228Z"
      },
      {
        "duration": 146,
        "start_time": "2023-03-30T17:48:49.232Z"
      },
      {
        "duration": 17,
        "start_time": "2023-03-30T17:48:49.380Z"
      },
      {
        "duration": 10,
        "start_time": "2023-03-30T17:48:49.399Z"
      },
      {
        "duration": 98,
        "start_time": "2023-03-30T17:48:49.410Z"
      },
      {
        "duration": 8,
        "start_time": "2023-03-30T17:48:49.510Z"
      },
      {
        "duration": 39,
        "start_time": "2023-03-30T17:48:49.520Z"
      },
      {
        "duration": 10,
        "start_time": "2023-03-30T17:48:49.561Z"
      },
      {
        "duration": 23,
        "start_time": "2023-03-30T17:48:49.573Z"
      },
      {
        "duration": 15,
        "start_time": "2023-03-30T17:48:49.597Z"
      },
      {
        "duration": 15,
        "start_time": "2023-03-30T17:48:49.613Z"
      },
      {
        "duration": 216,
        "start_time": "2023-03-30T17:48:49.629Z"
      },
      {
        "duration": 39,
        "start_time": "2023-03-30T17:48:49.847Z"
      },
      {
        "duration": 7,
        "start_time": "2023-03-30T17:48:49.888Z"
      },
      {
        "duration": 208,
        "start_time": "2023-03-30T17:48:49.896Z"
      },
      {
        "duration": 16,
        "start_time": "2023-03-30T17:48:56.303Z"
      },
      {
        "duration": 5,
        "start_time": "2023-03-30T17:48:57.530Z"
      },
      {
        "duration": 189,
        "start_time": "2023-03-30T17:48:57.731Z"
      },
      {
        "duration": 17,
        "start_time": "2023-03-30T17:49:52.615Z"
      },
      {
        "duration": 4,
        "start_time": "2023-03-30T17:49:53.177Z"
      },
      {
        "duration": 3,
        "start_time": "2023-03-30T17:49:58.775Z"
      },
      {
        "duration": 163,
        "start_time": "2023-03-30T17:49:58.780Z"
      },
      {
        "duration": 20,
        "start_time": "2023-03-30T17:49:58.945Z"
      },
      {
        "duration": 11,
        "start_time": "2023-03-30T17:49:58.967Z"
      },
      {
        "duration": 92,
        "start_time": "2023-03-30T17:49:58.980Z"
      },
      {
        "duration": 9,
        "start_time": "2023-03-30T17:49:59.073Z"
      },
      {
        "duration": 21,
        "start_time": "2023-03-30T17:49:59.084Z"
      },
      {
        "duration": 5,
        "start_time": "2023-03-30T17:49:59.107Z"
      },
      {
        "duration": 21,
        "start_time": "2023-03-30T17:49:59.113Z"
      },
      {
        "duration": 38,
        "start_time": "2023-03-30T17:49:59.135Z"
      },
      {
        "duration": 16,
        "start_time": "2023-03-30T17:49:59.175Z"
      },
      {
        "duration": 193,
        "start_time": "2023-03-30T17:49:59.193Z"
      },
      {
        "duration": 29,
        "start_time": "2023-03-30T17:49:59.387Z"
      },
      {
        "duration": 4,
        "start_time": "2023-03-30T17:49:59.418Z"
      },
      {
        "duration": 4,
        "start_time": "2023-03-30T17:50:02.187Z"
      },
      {
        "duration": 210,
        "start_time": "2023-03-30T17:50:25.651Z"
      },
      {
        "duration": 5,
        "start_time": "2023-03-30T17:50:31.128Z"
      },
      {
        "duration": 4,
        "start_time": "2023-03-30T17:50:51.679Z"
      },
      {
        "duration": 5,
        "start_time": "2023-03-30T17:51:01.147Z"
      },
      {
        "duration": 4,
        "start_time": "2023-03-30T17:51:09.252Z"
      },
      {
        "duration": 4,
        "start_time": "2023-03-30T17:51:17.502Z"
      },
      {
        "duration": 4,
        "start_time": "2023-03-30T17:51:26.469Z"
      },
      {
        "duration": 4,
        "start_time": "2023-03-30T17:51:42.127Z"
      },
      {
        "duration": 5,
        "start_time": "2023-03-30T17:51:48.554Z"
      },
      {
        "duration": 4,
        "start_time": "2023-03-30T17:51:55.912Z"
      },
      {
        "duration": 4,
        "start_time": "2023-03-30T17:52:47.452Z"
      },
      {
        "duration": 5,
        "start_time": "2023-03-30T17:52:50.576Z"
      },
      {
        "duration": 4,
        "start_time": "2023-03-30T17:53:29.080Z"
      },
      {
        "duration": 3,
        "start_time": "2023-03-30T17:53:46.191Z"
      },
      {
        "duration": 4,
        "start_time": "2023-03-30T17:53:49.941Z"
      },
      {
        "duration": 4,
        "start_time": "2023-03-30T17:53:54.623Z"
      },
      {
        "duration": 3,
        "start_time": "2023-03-30T17:54:09.198Z"
      },
      {
        "duration": 4,
        "start_time": "2023-03-30T17:54:23.101Z"
      },
      {
        "duration": 11,
        "start_time": "2023-03-30T17:55:25.320Z"
      },
      {
        "duration": 6,
        "start_time": "2023-03-30T17:55:31.580Z"
      },
      {
        "duration": 4,
        "start_time": "2023-03-30T17:55:32.023Z"
      },
      {
        "duration": 4,
        "start_time": "2023-03-30T17:55:40.531Z"
      },
      {
        "duration": 4,
        "start_time": "2023-03-30T17:55:40.748Z"
      },
      {
        "duration": 4,
        "start_time": "2023-03-30T17:57:11.065Z"
      },
      {
        "duration": 4,
        "start_time": "2023-03-30T17:57:20.620Z"
      },
      {
        "duration": 4,
        "start_time": "2023-03-30T17:57:33.293Z"
      },
      {
        "duration": 3,
        "start_time": "2023-03-30T18:02:47.354Z"
      },
      {
        "duration": 3,
        "start_time": "2023-03-30T18:02:52.083Z"
      },
      {
        "duration": 217,
        "start_time": "2023-03-30T18:03:29.182Z"
      },
      {
        "duration": 276,
        "start_time": "2023-03-30T18:03:37.042Z"
      },
      {
        "duration": 3,
        "start_time": "2023-03-30T18:03:43.336Z"
      },
      {
        "duration": 157,
        "start_time": "2023-03-30T18:03:43.341Z"
      },
      {
        "duration": 23,
        "start_time": "2023-03-30T18:03:43.500Z"
      },
      {
        "duration": 13,
        "start_time": "2023-03-30T18:03:43.524Z"
      },
      {
        "duration": 84,
        "start_time": "2023-03-30T18:03:43.563Z"
      },
      {
        "duration": 31,
        "start_time": "2023-03-30T18:03:43.649Z"
      },
      {
        "duration": 24,
        "start_time": "2023-03-30T18:03:43.681Z"
      },
      {
        "duration": 6,
        "start_time": "2023-03-30T18:03:43.707Z"
      },
      {
        "duration": 23,
        "start_time": "2023-03-30T18:03:43.714Z"
      },
      {
        "duration": 24,
        "start_time": "2023-03-30T18:03:43.738Z"
      },
      {
        "duration": 15,
        "start_time": "2023-03-30T18:03:43.764Z"
      },
      {
        "duration": 17,
        "start_time": "2023-03-30T18:03:44.724Z"
      },
      {
        "duration": 251,
        "start_time": "2023-03-30T18:03:44.915Z"
      },
      {
        "duration": 220,
        "start_time": "2023-03-30T18:03:49.354Z"
      },
      {
        "duration": 272,
        "start_time": "2023-03-30T18:11:40.892Z"
      },
      {
        "duration": 275,
        "start_time": "2023-03-30T18:11:46.892Z"
      },
      {
        "duration": 455,
        "start_time": "2023-03-30T18:11:51.397Z"
      },
      {
        "duration": 525,
        "start_time": "2023-03-30T18:12:00.900Z"
      },
      {
        "duration": 4,
        "start_time": "2023-03-30T18:12:04.469Z"
      },
      {
        "duration": 178,
        "start_time": "2023-03-30T18:12:04.475Z"
      },
      {
        "duration": 20,
        "start_time": "2023-03-30T18:12:04.655Z"
      },
      {
        "duration": 13,
        "start_time": "2023-03-30T18:12:04.677Z"
      },
      {
        "duration": 100,
        "start_time": "2023-03-30T18:12:04.692Z"
      },
      {
        "duration": 9,
        "start_time": "2023-03-30T18:12:04.794Z"
      },
      {
        "duration": 35,
        "start_time": "2023-03-30T18:12:04.805Z"
      },
      {
        "duration": 23,
        "start_time": "2023-03-30T18:12:04.843Z"
      },
      {
        "duration": 47,
        "start_time": "2023-03-30T18:12:04.869Z"
      },
      {
        "duration": 17,
        "start_time": "2023-03-30T18:12:04.917Z"
      },
      {
        "duration": 21,
        "start_time": "2023-03-30T18:12:04.936Z"
      },
      {
        "duration": 463,
        "start_time": "2023-03-30T18:12:04.959Z"
      },
      {
        "duration": 41,
        "start_time": "2023-03-30T18:12:05.423Z"
      },
      {
        "duration": 4,
        "start_time": "2023-03-30T18:12:05.467Z"
      },
      {
        "duration": 4,
        "start_time": "2023-03-30T18:12:06.922Z"
      },
      {
        "duration": 444,
        "start_time": "2023-03-30T18:12:07.236Z"
      },
      {
        "duration": 3,
        "start_time": "2023-03-30T18:12:39.811Z"
      },
      {
        "duration": 170,
        "start_time": "2023-03-30T18:12:39.816Z"
      },
      {
        "duration": 20,
        "start_time": "2023-03-30T18:12:39.988Z"
      },
      {
        "duration": 25,
        "start_time": "2023-03-30T18:12:40.010Z"
      },
      {
        "duration": 99,
        "start_time": "2023-03-30T18:12:40.037Z"
      },
      {
        "duration": 10,
        "start_time": "2023-03-30T18:12:40.138Z"
      },
      {
        "duration": 20,
        "start_time": "2023-03-30T18:12:40.161Z"
      },
      {
        "duration": 10,
        "start_time": "2023-03-30T18:12:40.183Z"
      },
      {
        "duration": 24,
        "start_time": "2023-03-30T18:12:40.194Z"
      },
      {
        "duration": 16,
        "start_time": "2023-03-30T18:12:40.220Z"
      },
      {
        "duration": 38,
        "start_time": "2023-03-30T18:12:40.238Z"
      },
      {
        "duration": 554,
        "start_time": "2023-03-30T18:12:40.278Z"
      },
      {
        "duration": 35,
        "start_time": "2023-03-30T18:12:40.833Z"
      },
      {
        "duration": 4,
        "start_time": "2023-03-30T18:12:40.870Z"
      },
      {
        "duration": 436,
        "start_time": "2023-03-30T18:12:40.875Z"
      },
      {
        "duration": 3,
        "start_time": "2023-03-30T18:12:41.313Z"
      },
      {
        "duration": 418,
        "start_time": "2023-03-30T18:12:46.771Z"
      },
      {
        "duration": 8,
        "start_time": "2023-03-30T18:15:40.258Z"
      },
      {
        "duration": 190,
        "start_time": "2023-03-30T18:30:09.908Z"
      },
      {
        "duration": 164,
        "start_time": "2023-03-30T18:30:18.349Z"
      },
      {
        "duration": 8,
        "start_time": "2023-03-30T18:30:25.141Z"
      },
      {
        "duration": 43,
        "start_time": "2023-04-01T08:21:38.726Z"
      },
      {
        "duration": 761,
        "start_time": "2023-04-01T08:21:42.470Z"
      },
      {
        "duration": 756,
        "start_time": "2023-04-01T08:21:43.233Z"
      },
      {
        "duration": 17,
        "start_time": "2023-04-01T08:21:43.991Z"
      },
      {
        "duration": 15,
        "start_time": "2023-04-01T08:21:44.010Z"
      },
      {
        "duration": 91,
        "start_time": "2023-04-01T08:21:44.027Z"
      },
      {
        "duration": 8,
        "start_time": "2023-04-01T08:21:44.120Z"
      },
      {
        "duration": 28,
        "start_time": "2023-04-01T08:21:44.130Z"
      },
      {
        "duration": 19,
        "start_time": "2023-04-01T08:21:44.159Z"
      },
      {
        "duration": 28,
        "start_time": "2023-04-01T08:21:44.179Z"
      },
      {
        "duration": 12,
        "start_time": "2023-04-01T08:21:44.209Z"
      },
      {
        "duration": 13,
        "start_time": "2023-04-01T08:21:44.223Z"
      },
      {
        "duration": 511,
        "start_time": "2023-04-01T08:21:44.238Z"
      },
      {
        "duration": 39,
        "start_time": "2023-04-01T08:21:44.751Z"
      },
      {
        "duration": 4,
        "start_time": "2023-04-01T08:21:44.792Z"
      },
      {
        "duration": 421,
        "start_time": "2023-04-01T08:21:44.797Z"
      },
      {
        "duration": 3,
        "start_time": "2023-04-01T08:21:45.220Z"
      },
      {
        "duration": 10,
        "start_time": "2023-04-01T08:21:45.225Z"
      },
      {
        "duration": 13,
        "start_time": "2023-04-01T08:21:45.237Z"
      },
      {
        "duration": 5,
        "start_time": "2023-04-01T08:22:04.050Z"
      },
      {
        "duration": 26,
        "start_time": "2023-04-01T08:22:20.860Z"
      },
      {
        "duration": 30,
        "start_time": "2023-04-01T08:23:02.329Z"
      },
      {
        "duration": 30,
        "start_time": "2023-04-01T08:23:08.053Z"
      },
      {
        "duration": 14,
        "start_time": "2023-04-01T08:31:25.555Z"
      },
      {
        "duration": 8,
        "start_time": "2023-04-01T08:31:29.702Z"
      },
      {
        "duration": 21,
        "start_time": "2023-04-01T08:31:38.757Z"
      },
      {
        "duration": 56,
        "start_time": "2023-04-01T08:31:56.047Z"
      },
      {
        "duration": 53,
        "start_time": "2023-04-01T08:32:00.703Z"
      },
      {
        "duration": 53,
        "start_time": "2023-04-01T08:34:30.693Z"
      },
      {
        "duration": 63,
        "start_time": "2023-04-01T08:35:28.692Z"
      },
      {
        "duration": 61,
        "start_time": "2023-04-01T08:35:35.868Z"
      },
      {
        "duration": 29,
        "start_time": "2023-04-01T08:39:25.396Z"
      },
      {
        "duration": 1287,
        "start_time": "2023-04-01T08:39:41.908Z"
      },
      {
        "duration": 2480,
        "start_time": "2023-04-01T08:40:00.250Z"
      },
      {
        "duration": 6,
        "start_time": "2023-04-01T08:41:18.653Z"
      },
      {
        "duration": 6,
        "start_time": "2023-04-01T08:41:20.928Z"
      },
      {
        "duration": 1228,
        "start_time": "2023-04-01T08:41:36.031Z"
      },
      {
        "duration": 1310,
        "start_time": "2023-04-01T08:42:18.210Z"
      },
      {
        "duration": 5,
        "start_time": "2023-04-01T08:42:52.530Z"
      },
      {
        "duration": 76,
        "start_time": "2023-04-01T08:43:24.458Z"
      },
      {
        "duration": 4,
        "start_time": "2023-04-01T08:43:27.685Z"
      },
      {
        "duration": 4,
        "start_time": "2023-04-01T08:45:02.819Z"
      },
      {
        "duration": 5,
        "start_time": "2023-04-01T08:45:21.147Z"
      },
      {
        "duration": 5,
        "start_time": "2023-04-01T08:45:42.360Z"
      },
      {
        "duration": 4,
        "start_time": "2023-04-01T08:46:02.230Z"
      },
      {
        "duration": 3,
        "start_time": "2023-04-01T08:46:36.213Z"
      },
      {
        "duration": 4,
        "start_time": "2023-04-01T08:46:42.881Z"
      },
      {
        "duration": 4,
        "start_time": "2023-04-01T08:48:10.096Z"
      },
      {
        "duration": 3,
        "start_time": "2023-04-01T08:48:17.444Z"
      },
      {
        "duration": 130,
        "start_time": "2023-04-01T08:52:45.332Z"
      },
      {
        "duration": 97,
        "start_time": "2023-04-01T08:52:58.923Z"
      },
      {
        "duration": 99,
        "start_time": "2023-04-01T08:53:05.351Z"
      },
      {
        "duration": 7,
        "start_time": "2023-04-01T08:53:34.684Z"
      },
      {
        "duration": 115,
        "start_time": "2023-04-01T08:53:39.467Z"
      },
      {
        "duration": 129,
        "start_time": "2023-04-01T08:54:16.549Z"
      },
      {
        "duration": 19,
        "start_time": "2023-04-01T08:57:03.752Z"
      },
      {
        "duration": 31,
        "start_time": "2023-04-01T08:57:08.198Z"
      },
      {
        "duration": 12,
        "start_time": "2023-04-01T09:08:57.604Z"
      },
      {
        "duration": 52,
        "start_time": "2023-04-01T09:09:21.000Z"
      },
      {
        "duration": 37,
        "start_time": "2023-04-01T09:09:49.164Z"
      },
      {
        "duration": 35,
        "start_time": "2023-04-01T09:09:59.826Z"
      },
      {
        "duration": 36,
        "start_time": "2023-04-01T09:10:21.573Z"
      },
      {
        "duration": 31,
        "start_time": "2023-04-01T09:20:58.175Z"
      },
      {
        "duration": 34,
        "start_time": "2023-04-01T09:21:05.270Z"
      },
      {
        "duration": 1100,
        "start_time": "2023-04-01T09:21:56.051Z"
      },
      {
        "duration": 814,
        "start_time": "2023-04-01T09:23:55.199Z"
      },
      {
        "duration": 841,
        "start_time": "2023-04-01T09:25:26.003Z"
      },
      {
        "duration": 949,
        "start_time": "2023-04-01T09:26:00.719Z"
      },
      {
        "duration": 87,
        "start_time": "2023-04-01T09:26:12.706Z"
      },
      {
        "duration": 849,
        "start_time": "2023-04-01T09:26:16.329Z"
      },
      {
        "duration": 845,
        "start_time": "2023-04-01T09:26:30.665Z"
      },
      {
        "duration": 849,
        "start_time": "2023-04-01T09:26:42.822Z"
      },
      {
        "duration": 3,
        "start_time": "2023-04-01T09:28:32.147Z"
      },
      {
        "duration": 5,
        "start_time": "2023-04-01T09:29:27.847Z"
      },
      {
        "duration": 4,
        "start_time": "2023-04-01T09:29:34.706Z"
      },
      {
        "duration": 4,
        "start_time": "2023-04-01T09:30:22.232Z"
      },
      {
        "duration": 4,
        "start_time": "2023-04-01T09:30:45.985Z"
      },
      {
        "duration": 5,
        "start_time": "2023-04-01T09:32:20.613Z"
      },
      {
        "duration": 3,
        "start_time": "2023-04-01T09:32:38.533Z"
      },
      {
        "duration": 502,
        "start_time": "2023-04-01T09:41:07.601Z"
      },
      {
        "duration": 14,
        "start_time": "2023-04-01T09:49:29.844Z"
      },
      {
        "duration": 4,
        "start_time": "2023-04-01T09:50:11.051Z"
      },
      {
        "duration": 33,
        "start_time": "2023-04-01T09:51:06.387Z"
      },
      {
        "duration": 6,
        "start_time": "2023-04-01T09:51:30.190Z"
      },
      {
        "duration": 38,
        "start_time": "2023-04-01T09:54:43.160Z"
      },
      {
        "duration": 10,
        "start_time": "2023-04-01T09:54:51.883Z"
      },
      {
        "duration": 4,
        "start_time": "2023-04-01T09:55:05.964Z"
      },
      {
        "duration": 2,
        "start_time": "2023-04-01T09:57:38.487Z"
      },
      {
        "duration": 12,
        "start_time": "2023-04-01T10:02:37.022Z"
      },
      {
        "duration": 17,
        "start_time": "2023-04-01T10:03:18.612Z"
      },
      {
        "duration": 10,
        "start_time": "2023-04-01T10:03:36.304Z"
      },
      {
        "duration": 12,
        "start_time": "2023-04-01T10:03:46.271Z"
      },
      {
        "duration": 14,
        "start_time": "2023-04-01T10:04:03.569Z"
      },
      {
        "duration": 15,
        "start_time": "2023-04-01T10:04:37.167Z"
      },
      {
        "duration": 7,
        "start_time": "2023-04-01T10:05:16.367Z"
      },
      {
        "duration": 15,
        "start_time": "2023-04-01T10:05:24.403Z"
      },
      {
        "duration": 14,
        "start_time": "2023-04-01T10:05:36.340Z"
      },
      {
        "duration": 14,
        "start_time": "2023-04-01T10:05:40.868Z"
      },
      {
        "duration": 14,
        "start_time": "2023-04-01T10:05:42.930Z"
      },
      {
        "duration": 13,
        "start_time": "2023-04-01T10:05:51.868Z"
      },
      {
        "duration": 8,
        "start_time": "2023-04-01T10:05:57.479Z"
      },
      {
        "duration": 8,
        "start_time": "2023-04-01T10:06:00.564Z"
      },
      {
        "duration": 11,
        "start_time": "2023-04-01T10:06:34.662Z"
      },
      {
        "duration": 11,
        "start_time": "2023-04-01T10:06:47.610Z"
      },
      {
        "duration": 28,
        "start_time": "2023-04-01T10:07:11.149Z"
      },
      {
        "duration": 11,
        "start_time": "2023-04-01T10:07:38.437Z"
      },
      {
        "duration": 12,
        "start_time": "2023-04-01T10:07:46.511Z"
      },
      {
        "duration": 17,
        "start_time": "2023-04-01T10:08:26.185Z"
      },
      {
        "duration": 1146,
        "start_time": "2023-04-01T10:08:47.237Z"
      },
      {
        "duration": 12,
        "start_time": "2023-04-01T10:08:55.288Z"
      },
      {
        "duration": 11,
        "start_time": "2023-04-01T10:09:17.712Z"
      },
      {
        "duration": 7,
        "start_time": "2023-04-01T10:09:20.616Z"
      },
      {
        "duration": 11,
        "start_time": "2023-04-01T10:09:31.813Z"
      },
      {
        "duration": 12,
        "start_time": "2023-04-01T10:09:37.434Z"
      },
      {
        "duration": 8,
        "start_time": "2023-04-01T10:10:38.672Z"
      },
      {
        "duration": 10,
        "start_time": "2023-04-01T10:11:05.118Z"
      },
      {
        "duration": 10,
        "start_time": "2023-04-01T10:11:06.000Z"
      },
      {
        "duration": 2,
        "start_time": "2023-04-01T10:11:07.221Z"
      },
      {
        "duration": 11,
        "start_time": "2023-04-01T10:11:07.855Z"
      },
      {
        "duration": 13,
        "start_time": "2023-04-01T10:11:18.196Z"
      },
      {
        "duration": 10,
        "start_time": "2023-04-01T10:12:15.756Z"
      },
      {
        "duration": 14,
        "start_time": "2023-04-01T10:12:29.851Z"
      },
      {
        "duration": 11,
        "start_time": "2023-04-01T10:12:38.641Z"
      },
      {
        "duration": 8,
        "start_time": "2023-04-01T10:12:48.427Z"
      },
      {
        "duration": 13,
        "start_time": "2023-04-01T10:12:49.808Z"
      },
      {
        "duration": 13,
        "start_time": "2023-04-01T10:13:24.846Z"
      },
      {
        "duration": 13,
        "start_time": "2023-04-01T10:13:40.764Z"
      },
      {
        "duration": 14,
        "start_time": "2023-04-01T10:13:44.542Z"
      },
      {
        "duration": 14,
        "start_time": "2023-04-01T10:13:45.130Z"
      },
      {
        "duration": 12,
        "start_time": "2023-04-01T10:13:45.499Z"
      },
      {
        "duration": 17,
        "start_time": "2023-04-01T10:14:33.860Z"
      },
      {
        "duration": 13,
        "start_time": "2023-04-01T10:14:46.623Z"
      },
      {
        "duration": 10,
        "start_time": "2023-04-01T10:14:51.399Z"
      },
      {
        "duration": 9,
        "start_time": "2023-04-01T10:16:12.968Z"
      },
      {
        "duration": 10,
        "start_time": "2023-04-01T10:16:15.307Z"
      },
      {
        "duration": 10,
        "start_time": "2023-04-01T10:16:15.644Z"
      },
      {
        "duration": 8,
        "start_time": "2023-04-01T10:16:15.968Z"
      },
      {
        "duration": 9,
        "start_time": "2023-04-01T10:16:28.030Z"
      },
      {
        "duration": 10,
        "start_time": "2023-04-01T10:18:05.261Z"
      },
      {
        "duration": 9,
        "start_time": "2023-04-01T10:35:28.805Z"
      },
      {
        "duration": 10,
        "start_time": "2023-04-01T10:35:37.173Z"
      },
      {
        "duration": 66,
        "start_time": "2023-04-01T10:35:50.282Z"
      },
      {
        "duration": 62,
        "start_time": "2023-04-01T10:35:54.369Z"
      },
      {
        "duration": 59,
        "start_time": "2023-04-01T10:36:48.515Z"
      },
      {
        "duration": 1247,
        "start_time": "2023-04-01T10:37:09.848Z"
      },
      {
        "duration": 1162,
        "start_time": "2023-04-01T10:37:26.144Z"
      },
      {
        "duration": 1203,
        "start_time": "2023-04-01T10:37:36.273Z"
      },
      {
        "duration": 78,
        "start_time": "2023-04-01T10:37:53.957Z"
      },
      {
        "duration": 73,
        "start_time": "2023-04-01T10:38:03.343Z"
      },
      {
        "duration": 75,
        "start_time": "2023-04-01T10:38:29.694Z"
      },
      {
        "duration": 343,
        "start_time": "2023-04-01T10:40:23.995Z"
      },
      {
        "duration": 55,
        "start_time": "2023-04-01T10:42:25.742Z"
      },
      {
        "duration": 93,
        "start_time": "2023-04-01T10:42:40.056Z"
      },
      {
        "duration": 84,
        "start_time": "2023-04-01T10:43:58.786Z"
      },
      {
        "duration": 240,
        "start_time": "2023-04-01T10:44:09.331Z"
      },
      {
        "duration": 9,
        "start_time": "2023-04-01T10:44:35.901Z"
      },
      {
        "duration": 9,
        "start_time": "2023-04-01T10:45:22.604Z"
      },
      {
        "duration": 8,
        "start_time": "2023-04-01T10:53:27.853Z"
      },
      {
        "duration": 10,
        "start_time": "2023-04-01T10:53:31.257Z"
      },
      {
        "duration": 11,
        "start_time": "2023-04-01T10:53:35.295Z"
      },
      {
        "duration": 17,
        "start_time": "2023-04-01T10:54:52.701Z"
      },
      {
        "duration": 60,
        "start_time": "2023-04-01T10:55:46.529Z"
      },
      {
        "duration": 53,
        "start_time": "2023-04-01T10:56:21.618Z"
      },
      {
        "duration": 15,
        "start_time": "2023-04-01T10:56:40.774Z"
      },
      {
        "duration": 11,
        "start_time": "2023-04-01T10:57:27.976Z"
      },
      {
        "duration": 9,
        "start_time": "2023-04-01T10:57:56.700Z"
      },
      {
        "duration": 25,
        "start_time": "2023-04-01T10:58:00.321Z"
      },
      {
        "duration": 46,
        "start_time": "2023-04-01T10:58:09.137Z"
      },
      {
        "duration": 60,
        "start_time": "2023-04-01T10:58:27.376Z"
      },
      {
        "duration": 33,
        "start_time": "2023-04-01T10:58:31.960Z"
      },
      {
        "duration": 48,
        "start_time": "2023-04-01T15:48:18.601Z"
      },
      {
        "duration": 6,
        "start_time": "2023-04-01T15:48:22.005Z"
      },
      {
        "duration": 1249,
        "start_time": "2023-04-01T15:48:26.845Z"
      },
      {
        "duration": 568,
        "start_time": "2023-04-01T15:48:28.096Z"
      },
      {
        "duration": 29,
        "start_time": "2023-04-01T15:48:28.666Z"
      },
      {
        "duration": 13,
        "start_time": "2023-04-01T15:48:28.697Z"
      },
      {
        "duration": 131,
        "start_time": "2023-04-01T15:48:28.713Z"
      },
      {
        "duration": 10,
        "start_time": "2023-04-01T15:48:28.846Z"
      },
      {
        "duration": 68,
        "start_time": "2023-04-01T15:48:28.857Z"
      },
      {
        "duration": 11,
        "start_time": "2023-04-01T15:48:28.927Z"
      },
      {
        "duration": 30,
        "start_time": "2023-04-01T15:48:28.940Z"
      },
      {
        "duration": 21,
        "start_time": "2023-04-01T15:48:28.972Z"
      },
      {
        "duration": 15,
        "start_time": "2023-04-01T15:48:28.995Z"
      },
      {
        "duration": 582,
        "start_time": "2023-04-01T15:48:29.012Z"
      },
      {
        "duration": 39,
        "start_time": "2023-04-01T15:48:29.597Z"
      },
      {
        "duration": 5,
        "start_time": "2023-04-01T15:48:29.649Z"
      },
      {
        "duration": 486,
        "start_time": "2023-04-01T15:48:29.657Z"
      },
      {
        "duration": 6,
        "start_time": "2023-04-01T15:48:30.150Z"
      },
      {
        "duration": 35,
        "start_time": "2023-04-01T15:48:30.158Z"
      },
      {
        "duration": 19,
        "start_time": "2023-04-01T15:48:30.195Z"
      },
      {
        "duration": 51,
        "start_time": "2023-04-01T15:48:30.216Z"
      },
      {
        "duration": 45,
        "start_time": "2023-04-01T15:48:30.336Z"
      },
      {
        "duration": 10,
        "start_time": "2023-04-01T15:48:44.410Z"
      },
      {
        "duration": 5,
        "start_time": "2023-04-01T15:48:55.617Z"
      },
      {
        "duration": 8,
        "start_time": "2023-04-01T15:48:58.605Z"
      },
      {
        "duration": 16,
        "start_time": "2023-04-01T15:49:03.878Z"
      },
      {
        "duration": 144,
        "start_time": "2023-04-01T15:49:23.307Z"
      },
      {
        "duration": 69,
        "start_time": "2023-04-01T15:49:48.148Z"
      },
      {
        "duration": 60,
        "start_time": "2023-04-01T15:50:05.809Z"
      },
      {
        "duration": 90,
        "start_time": "2023-04-01T15:50:22.974Z"
      },
      {
        "duration": 27,
        "start_time": "2023-04-01T15:50:39.420Z"
      },
      {
        "duration": 28,
        "start_time": "2023-04-01T15:51:06.869Z"
      },
      {
        "duration": 30,
        "start_time": "2023-04-01T15:51:42.239Z"
      },
      {
        "duration": 178,
        "start_time": "2023-04-01T15:53:29.768Z"
      },
      {
        "duration": 200,
        "start_time": "2023-04-01T15:53:37.012Z"
      },
      {
        "duration": 187,
        "start_time": "2023-04-01T15:53:43.851Z"
      },
      {
        "duration": 163,
        "start_time": "2023-04-01T15:53:53.202Z"
      },
      {
        "duration": 147,
        "start_time": "2023-04-01T15:54:01.315Z"
      },
      {
        "duration": 252,
        "start_time": "2023-04-01T15:54:16.942Z"
      },
      {
        "duration": 232,
        "start_time": "2023-04-01T15:56:35.896Z"
      },
      {
        "duration": 163,
        "start_time": "2023-04-01T15:56:45.049Z"
      },
      {
        "duration": 103,
        "start_time": "2023-04-01T15:56:51.504Z"
      },
      {
        "duration": 96,
        "start_time": "2023-04-01T15:57:13.573Z"
      },
      {
        "duration": 168,
        "start_time": "2023-04-01T15:58:55.117Z"
      },
      {
        "duration": 63,
        "start_time": "2023-04-01T15:59:16.433Z"
      },
      {
        "duration": 182,
        "start_time": "2023-04-01T15:59:19.374Z"
      },
      {
        "duration": 153,
        "start_time": "2023-04-01T15:59:35.681Z"
      },
      {
        "duration": 158,
        "start_time": "2023-04-01T15:59:45.318Z"
      },
      {
        "duration": 188,
        "start_time": "2023-04-01T15:59:50.927Z"
      },
      {
        "duration": 237,
        "start_time": "2023-04-01T16:00:02.453Z"
      },
      {
        "duration": 162,
        "start_time": "2023-04-01T16:00:10.036Z"
      },
      {
        "duration": 186,
        "start_time": "2023-04-01T16:00:31.123Z"
      },
      {
        "duration": 186,
        "start_time": "2023-04-01T16:00:52.335Z"
      },
      {
        "duration": 183,
        "start_time": "2023-04-01T16:01:01.121Z"
      },
      {
        "duration": 246,
        "start_time": "2023-04-01T16:01:48.128Z"
      },
      {
        "duration": 197,
        "start_time": "2023-04-01T16:02:22.977Z"
      },
      {
        "duration": 76,
        "start_time": "2023-04-01T16:04:13.770Z"
      },
      {
        "duration": 206,
        "start_time": "2023-04-01T16:05:10.185Z"
      },
      {
        "duration": 3,
        "start_time": "2023-04-01T16:05:56.148Z"
      },
      {
        "duration": 5,
        "start_time": "2023-04-01T16:06:01.341Z"
      },
      {
        "duration": 4,
        "start_time": "2023-04-01T16:06:15.724Z"
      },
      {
        "duration": 9,
        "start_time": "2023-04-01T16:06:22.119Z"
      },
      {
        "duration": 4,
        "start_time": "2023-04-01T16:06:37.088Z"
      },
      {
        "duration": 93,
        "start_time": "2023-04-01T16:07:06.731Z"
      },
      {
        "duration": 74,
        "start_time": "2023-04-01T16:07:55.424Z"
      },
      {
        "duration": 74,
        "start_time": "2023-04-01T16:08:03.620Z"
      },
      {
        "duration": 88,
        "start_time": "2023-04-01T16:08:38.987Z"
      },
      {
        "duration": 191,
        "start_time": "2023-04-01T16:08:50.924Z"
      },
      {
        "duration": 225,
        "start_time": "2023-04-01T16:11:14.625Z"
      },
      {
        "duration": 200,
        "start_time": "2023-04-01T16:11:26.029Z"
      },
      {
        "duration": 184,
        "start_time": "2023-04-01T16:11:31.049Z"
      },
      {
        "duration": 197,
        "start_time": "2023-04-01T16:11:59.028Z"
      },
      {
        "duration": 267,
        "start_time": "2023-04-01T16:12:05.827Z"
      },
      {
        "duration": 204,
        "start_time": "2023-04-01T16:12:17.846Z"
      },
      {
        "duration": 173,
        "start_time": "2023-04-01T16:12:37.201Z"
      },
      {
        "duration": 209,
        "start_time": "2023-04-01T16:12:48.468Z"
      },
      {
        "duration": 183,
        "start_time": "2023-04-01T16:13:51.864Z"
      },
      {
        "duration": 180,
        "start_time": "2023-04-01T16:14:01.625Z"
      },
      {
        "duration": 181,
        "start_time": "2023-04-01T16:14:06.043Z"
      },
      {
        "duration": 204,
        "start_time": "2023-04-01T16:15:27.352Z"
      },
      {
        "duration": 373,
        "start_time": "2023-04-01T16:16:23.744Z"
      },
      {
        "duration": 174,
        "start_time": "2023-04-01T16:21:10.147Z"
      },
      {
        "duration": 214,
        "start_time": "2023-04-01T16:21:26.919Z"
      },
      {
        "duration": 328,
        "start_time": "2023-04-01T16:21:33.764Z"
      },
      {
        "duration": 229,
        "start_time": "2023-04-01T16:21:40.586Z"
      },
      {
        "duration": 214,
        "start_time": "2023-04-01T16:21:54.721Z"
      },
      {
        "duration": 203,
        "start_time": "2023-04-01T16:22:09.959Z"
      },
      {
        "duration": 71,
        "start_time": "2023-04-01T16:25:10.456Z"
      },
      {
        "duration": 175,
        "start_time": "2023-04-01T16:25:31.968Z"
      },
      {
        "duration": 207,
        "start_time": "2023-04-01T16:27:47.182Z"
      },
      {
        "duration": 207,
        "start_time": "2023-04-01T16:31:44.104Z"
      },
      {
        "duration": 722,
        "start_time": "2023-04-01T16:32:41.039Z"
      },
      {
        "duration": 209,
        "start_time": "2023-04-01T16:33:03.238Z"
      },
      {
        "duration": 217,
        "start_time": "2023-04-01T16:33:08.801Z"
      },
      {
        "duration": 205,
        "start_time": "2023-04-01T16:33:13.439Z"
      },
      {
        "duration": 206,
        "start_time": "2023-04-01T16:33:17.963Z"
      },
      {
        "duration": 332,
        "start_time": "2023-04-01T16:33:24.772Z"
      },
      {
        "duration": 224,
        "start_time": "2023-04-01T16:33:35.206Z"
      },
      {
        "duration": 206,
        "start_time": "2023-04-01T16:33:47.906Z"
      },
      {
        "duration": 209,
        "start_time": "2023-04-01T16:33:53.609Z"
      },
      {
        "duration": 239,
        "start_time": "2023-04-01T16:33:58.165Z"
      },
      {
        "duration": 205,
        "start_time": "2023-04-01T16:34:13.608Z"
      },
      {
        "duration": 683,
        "start_time": "2023-04-01T16:34:24.821Z"
      },
      {
        "duration": 212,
        "start_time": "2023-04-01T16:34:33.007Z"
      },
      {
        "duration": 212,
        "start_time": "2023-04-01T16:34:38.850Z"
      },
      {
        "duration": 117,
        "start_time": "2023-04-01T16:36:17.325Z"
      },
      {
        "duration": 187,
        "start_time": "2023-04-01T16:37:24.712Z"
      },
      {
        "duration": 296,
        "start_time": "2023-04-01T16:39:20.645Z"
      },
      {
        "duration": 209,
        "start_time": "2023-04-01T16:39:42.408Z"
      },
      {
        "duration": 180,
        "start_time": "2023-04-01T16:40:41.960Z"
      },
      {
        "duration": 171,
        "start_time": "2023-04-01T16:40:53.252Z"
      },
      {
        "duration": 56,
        "start_time": "2023-04-01T16:41:11.150Z"
      },
      {
        "duration": 210,
        "start_time": "2023-04-01T16:41:14.908Z"
      },
      {
        "duration": 214,
        "start_time": "2023-04-01T16:41:18.268Z"
      },
      {
        "duration": 80,
        "start_time": "2023-04-01T18:49:36.706Z"
      },
      {
        "duration": 69,
        "start_time": "2023-04-01T18:54:28.329Z"
      },
      {
        "duration": 1381,
        "start_time": "2023-04-01T18:54:35.308Z"
      },
      {
        "duration": 1074,
        "start_time": "2023-04-01T18:54:36.691Z"
      },
      {
        "duration": 22,
        "start_time": "2023-04-01T18:54:37.767Z"
      },
      {
        "duration": 12,
        "start_time": "2023-04-01T18:54:37.791Z"
      },
      {
        "duration": 116,
        "start_time": "2023-04-01T18:54:37.805Z"
      },
      {
        "duration": 8,
        "start_time": "2023-04-01T18:54:37.923Z"
      },
      {
        "duration": 38,
        "start_time": "2023-04-01T18:54:37.933Z"
      },
      {
        "duration": 11,
        "start_time": "2023-04-01T18:54:37.972Z"
      },
      {
        "duration": 27,
        "start_time": "2023-04-01T18:54:37.985Z"
      },
      {
        "duration": 38,
        "start_time": "2023-04-01T18:54:38.014Z"
      },
      {
        "duration": 32,
        "start_time": "2023-04-01T18:54:38.056Z"
      },
      {
        "duration": 530,
        "start_time": "2023-04-01T18:54:38.090Z"
      },
      {
        "duration": 47,
        "start_time": "2023-04-01T18:54:38.621Z"
      },
      {
        "duration": 3,
        "start_time": "2023-04-01T18:54:38.671Z"
      },
      {
        "duration": 628,
        "start_time": "2023-04-01T18:54:38.676Z"
      },
      {
        "duration": 4,
        "start_time": "2023-04-01T18:54:39.306Z"
      },
      {
        "duration": 25,
        "start_time": "2023-04-01T18:54:39.312Z"
      },
      {
        "duration": 10,
        "start_time": "2023-04-01T18:54:39.338Z"
      },
      {
        "duration": 45,
        "start_time": "2023-04-01T18:54:39.350Z"
      },
      {
        "duration": 14,
        "start_time": "2023-04-01T18:54:39.397Z"
      },
      {
        "duration": 69,
        "start_time": "2023-04-01T18:54:39.413Z"
      },
      {
        "duration": 263,
        "start_time": "2023-04-01T18:54:39.483Z"
      },
      {
        "duration": 0,
        "start_time": "2023-04-01T18:54:39.748Z"
      },
      {
        "duration": 0,
        "start_time": "2023-04-01T18:54:39.750Z"
      },
      {
        "duration": 0,
        "start_time": "2023-04-01T18:54:39.751Z"
      },
      {
        "duration": 0,
        "start_time": "2023-04-01T18:54:39.752Z"
      },
      {
        "duration": 0,
        "start_time": "2023-04-01T18:54:39.754Z"
      },
      {
        "duration": 0,
        "start_time": "2023-04-01T18:54:39.755Z"
      },
      {
        "duration": 0,
        "start_time": "2023-04-01T18:54:39.757Z"
      },
      {
        "duration": 0,
        "start_time": "2023-04-01T18:54:39.757Z"
      },
      {
        "duration": 0,
        "start_time": "2023-04-01T18:54:39.759Z"
      },
      {
        "duration": 0,
        "start_time": "2023-04-01T18:54:39.760Z"
      },
      {
        "duration": 0,
        "start_time": "2023-04-01T18:54:39.762Z"
      },
      {
        "duration": 0,
        "start_time": "2023-04-01T18:54:39.764Z"
      },
      {
        "duration": 0,
        "start_time": "2023-04-01T18:54:39.766Z"
      },
      {
        "duration": 0,
        "start_time": "2023-04-01T18:54:39.767Z"
      },
      {
        "duration": 14,
        "start_time": "2023-04-01T18:54:42.393Z"
      },
      {
        "duration": 19,
        "start_time": "2023-04-01T18:55:20.582Z"
      },
      {
        "duration": 34,
        "start_time": "2023-04-01T18:56:28.922Z"
      },
      {
        "duration": 26,
        "start_time": "2023-04-01T19:03:36.295Z"
      },
      {
        "duration": 26,
        "start_time": "2023-04-01T19:03:44.934Z"
      },
      {
        "duration": 23,
        "start_time": "2023-04-01T19:04:14.019Z"
      },
      {
        "duration": 11,
        "start_time": "2023-04-01T19:04:52.746Z"
      },
      {
        "duration": 28,
        "start_time": "2023-04-01T19:04:59.392Z"
      },
      {
        "duration": 22,
        "start_time": "2023-04-01T19:05:00.866Z"
      },
      {
        "duration": 80,
        "start_time": "2023-04-01T19:14:59.303Z"
      },
      {
        "duration": 6,
        "start_time": "2023-04-01T19:15:39.400Z"
      },
      {
        "duration": 8,
        "start_time": "2023-04-01T19:16:20.303Z"
      },
      {
        "duration": 10,
        "start_time": "2023-04-01T19:16:28.591Z"
      },
      {
        "duration": 1197,
        "start_time": "2023-04-01T19:16:46.228Z"
      },
      {
        "duration": 5,
        "start_time": "2023-04-01T19:17:08.491Z"
      },
      {
        "duration": 33,
        "start_time": "2023-04-01T19:17:11.264Z"
      },
      {
        "duration": 95,
        "start_time": "2023-04-01T19:55:44.145Z"
      },
      {
        "duration": 90,
        "start_time": "2023-04-01T19:57:32.812Z"
      },
      {
        "duration": 7,
        "start_time": "2023-04-01T19:57:42.913Z"
      },
      {
        "duration": 52,
        "start_time": "2023-04-01T19:58:19.625Z"
      },
      {
        "duration": 22,
        "start_time": "2023-04-01T20:06:48.337Z"
      },
      {
        "duration": 22,
        "start_time": "2023-04-01T20:08:15.005Z"
      },
      {
        "duration": 24,
        "start_time": "2023-04-01T20:08:28.158Z"
      },
      {
        "duration": 23,
        "start_time": "2023-04-01T20:08:39.997Z"
      },
      {
        "duration": 49,
        "start_time": "2023-04-01T20:08:49.058Z"
      },
      {
        "duration": 37,
        "start_time": "2023-04-01T20:08:57.566Z"
      },
      {
        "duration": 1321,
        "start_time": "2023-04-01T20:09:14.329Z"
      },
      {
        "duration": 10,
        "start_time": "2023-04-01T20:09:38.526Z"
      },
      {
        "duration": 9,
        "start_time": "2023-04-01T20:28:37.364Z"
      },
      {
        "duration": 1177,
        "start_time": "2023-04-01T20:28:56.340Z"
      },
      {
        "duration": 8,
        "start_time": "2023-04-01T20:29:14.097Z"
      },
      {
        "duration": 25,
        "start_time": "2023-04-01T20:29:14.789Z"
      },
      {
        "duration": 8,
        "start_time": "2023-04-01T20:31:43.703Z"
      },
      {
        "duration": 24,
        "start_time": "2023-04-01T20:31:44.342Z"
      },
      {
        "duration": 7,
        "start_time": "2023-04-01T20:31:57.166Z"
      },
      {
        "duration": 27,
        "start_time": "2023-04-01T20:31:58.396Z"
      },
      {
        "duration": 6,
        "start_time": "2023-04-01T20:32:11.851Z"
      },
      {
        "duration": 25,
        "start_time": "2023-04-01T20:32:13.694Z"
      },
      {
        "duration": 21,
        "start_time": "2023-04-01T20:32:27.442Z"
      },
      {
        "duration": 19,
        "start_time": "2023-04-01T20:35:36.122Z"
      },
      {
        "duration": 20,
        "start_time": "2023-04-01T21:13:32.924Z"
      },
      {
        "duration": 16,
        "start_time": "2023-04-01T21:13:45.410Z"
      },
      {
        "duration": 19,
        "start_time": "2023-04-01T21:13:51.086Z"
      },
      {
        "duration": 28,
        "start_time": "2023-04-01T21:14:52.094Z"
      },
      {
        "duration": 18,
        "start_time": "2023-04-01T21:16:54.598Z"
      },
      {
        "duration": 20,
        "start_time": "2023-04-01T21:16:54.936Z"
      },
      {
        "duration": 8,
        "start_time": "2023-04-01T21:16:55.510Z"
      },
      {
        "duration": 6,
        "start_time": "2023-04-01T21:16:56.290Z"
      },
      {
        "duration": 31,
        "start_time": "2023-04-01T21:16:56.753Z"
      },
      {
        "duration": 6,
        "start_time": "2023-04-01T21:16:59.594Z"
      },
      {
        "duration": 25,
        "start_time": "2023-04-01T21:17:00.214Z"
      },
      {
        "duration": 27,
        "start_time": "2023-04-01T21:17:51.435Z"
      },
      {
        "duration": 32,
        "start_time": "2023-04-01T21:19:47.690Z"
      },
      {
        "duration": 26,
        "start_time": "2023-04-01T21:20:10.814Z"
      },
      {
        "duration": 27,
        "start_time": "2023-04-01T21:20:29.011Z"
      },
      {
        "duration": 23,
        "start_time": "2023-04-01T21:20:32.106Z"
      },
      {
        "duration": 24,
        "start_time": "2023-04-01T21:39:17.486Z"
      },
      {
        "duration": 32,
        "start_time": "2023-04-01T21:39:21.457Z"
      },
      {
        "duration": 35,
        "start_time": "2023-04-01T21:39:25.402Z"
      },
      {
        "duration": 32,
        "start_time": "2023-04-01T21:39:28.414Z"
      },
      {
        "duration": 28,
        "start_time": "2023-04-01T21:39:31.327Z"
      },
      {
        "duration": 30,
        "start_time": "2023-04-01T21:39:36.758Z"
      },
      {
        "duration": 19,
        "start_time": "2023-04-01T21:39:36.943Z"
      },
      {
        "duration": 12,
        "start_time": "2023-04-01T21:52:23.671Z"
      },
      {
        "duration": 18,
        "start_time": "2023-04-01T21:52:28.245Z"
      },
      {
        "duration": 19,
        "start_time": "2023-04-01T21:52:31.644Z"
      },
      {
        "duration": 11,
        "start_time": "2023-04-01T21:53:51.456Z"
      },
      {
        "duration": 36,
        "start_time": "2023-04-01T21:54:25.857Z"
      },
      {
        "duration": 34,
        "start_time": "2023-04-01T21:55:45.070Z"
      },
      {
        "duration": 28,
        "start_time": "2023-04-01T21:55:45.314Z"
      },
      {
        "duration": 30,
        "start_time": "2023-04-01T21:55:45.544Z"
      },
      {
        "duration": 29,
        "start_time": "2023-04-01T21:55:46.560Z"
      },
      {
        "duration": 10,
        "start_time": "2023-04-01T21:56:14.864Z"
      },
      {
        "duration": 26,
        "start_time": "2023-04-01T21:56:15.906Z"
      },
      {
        "duration": 32,
        "start_time": "2023-04-01T21:56:16.470Z"
      },
      {
        "duration": 23,
        "start_time": "2023-04-01T21:56:16.925Z"
      },
      {
        "duration": 22,
        "start_time": "2023-04-01T21:56:17.831Z"
      },
      {
        "duration": 25,
        "start_time": "2023-04-01T21:57:10.431Z"
      },
      {
        "duration": 22,
        "start_time": "2023-04-01T21:57:11.458Z"
      },
      {
        "duration": 23,
        "start_time": "2023-04-01T21:57:12.038Z"
      },
      {
        "duration": 30,
        "start_time": "2023-04-01T21:57:12.633Z"
      },
      {
        "duration": 4,
        "start_time": "2023-04-01T22:00:16.345Z"
      },
      {
        "duration": 16,
        "start_time": "2023-04-01T22:00:17.418Z"
      },
      {
        "duration": 3,
        "start_time": "2023-04-01T22:00:18.318Z"
      },
      {
        "duration": 6,
        "start_time": "2023-04-01T22:00:44.541Z"
      },
      {
        "duration": 8,
        "start_time": "2023-04-01T22:00:55.256Z"
      },
      {
        "duration": 1529,
        "start_time": "2023-04-02T18:00:30.120Z"
      },
      {
        "duration": 797,
        "start_time": "2023-04-02T18:00:31.651Z"
      },
      {
        "duration": 69,
        "start_time": "2023-04-02T18:02:21.226Z"
      },
      {
        "duration": 24,
        "start_time": "2023-04-02T18:02:26.422Z"
      },
      {
        "duration": 1243,
        "start_time": "2023-04-02T18:05:39.831Z"
      },
      {
        "duration": 14,
        "start_time": "2023-04-02T18:05:51.423Z"
      },
      {
        "duration": 148,
        "start_time": "2023-04-02T18:05:52.211Z"
      },
      {
        "duration": 14,
        "start_time": "2023-04-02T18:05:52.490Z"
      },
      {
        "duration": 27,
        "start_time": "2023-04-02T18:05:53.304Z"
      },
      {
        "duration": 28,
        "start_time": "2023-04-02T18:06:48.514Z"
      },
      {
        "duration": 24,
        "start_time": "2023-04-02T18:07:32.942Z"
      },
      {
        "duration": 12,
        "start_time": "2023-04-02T18:07:55.726Z"
      },
      {
        "duration": 5,
        "start_time": "2023-04-02T18:09:23.994Z"
      },
      {
        "duration": 9,
        "start_time": "2023-04-02T18:10:57.421Z"
      },
      {
        "duration": 27,
        "start_time": "2023-04-02T18:11:45.798Z"
      },
      {
        "duration": 27,
        "start_time": "2023-04-02T18:12:46.101Z"
      },
      {
        "duration": 33,
        "start_time": "2023-04-02T18:13:44.604Z"
      },
      {
        "duration": 57,
        "start_time": "2023-04-02T18:14:52.959Z"
      },
      {
        "duration": 56,
        "start_time": "2023-04-02T18:15:00.683Z"
      },
      {
        "duration": 42,
        "start_time": "2023-04-02T18:15:14.886Z"
      },
      {
        "duration": 58,
        "start_time": "2023-04-02T18:15:20.117Z"
      },
      {
        "duration": 32,
        "start_time": "2023-04-02T18:15:22.453Z"
      },
      {
        "duration": 31,
        "start_time": "2023-04-02T18:15:27.532Z"
      },
      {
        "duration": 514,
        "start_time": "2023-04-02T18:15:35.354Z"
      },
      {
        "duration": 25,
        "start_time": "2023-04-02T18:16:17.882Z"
      },
      {
        "duration": 27,
        "start_time": "2023-04-02T18:16:21.443Z"
      },
      {
        "duration": 71,
        "start_time": "2023-04-02T18:16:39.550Z"
      },
      {
        "duration": 59,
        "start_time": "2023-04-02T18:16:49.198Z"
      },
      {
        "duration": 10,
        "start_time": "2023-04-02T18:19:03.783Z"
      },
      {
        "duration": 38,
        "start_time": "2023-04-02T18:19:06.734Z"
      },
      {
        "duration": 4,
        "start_time": "2023-04-02T18:19:07.170Z"
      },
      {
        "duration": 22,
        "start_time": "2023-04-02T18:19:21.104Z"
      },
      {
        "duration": 16,
        "start_time": "2023-04-02T18:19:25.961Z"
      },
      {
        "duration": 488,
        "start_time": "2023-04-02T18:19:26.474Z"
      },
      {
        "duration": 559,
        "start_time": "2023-04-02T18:19:42.910Z"
      },
      {
        "duration": 7,
        "start_time": "2023-04-02T18:21:07.283Z"
      },
      {
        "duration": 9,
        "start_time": "2023-04-02T18:21:36.350Z"
      },
      {
        "duration": 9,
        "start_time": "2023-04-02T18:22:06.117Z"
      },
      {
        "duration": 9,
        "start_time": "2023-04-02T18:22:29.902Z"
      },
      {
        "duration": 11,
        "start_time": "2023-04-02T18:22:54.295Z"
      },
      {
        "duration": 8,
        "start_time": "2023-04-02T18:23:15.270Z"
      },
      {
        "duration": 10,
        "start_time": "2023-04-02T18:23:38.622Z"
      },
      {
        "duration": 11,
        "start_time": "2023-04-02T18:23:44.903Z"
      },
      {
        "duration": 10,
        "start_time": "2023-04-02T18:23:56.323Z"
      },
      {
        "duration": 88,
        "start_time": "2023-04-02T18:24:03.982Z"
      },
      {
        "duration": 451,
        "start_time": "2023-04-02T18:24:04.498Z"
      },
      {
        "duration": 440,
        "start_time": "2023-04-02T18:24:05.646Z"
      },
      {
        "duration": 10,
        "start_time": "2023-04-02T18:24:09.431Z"
      },
      {
        "duration": 14,
        "start_time": "2023-04-02T18:24:42.302Z"
      },
      {
        "duration": 10,
        "start_time": "2023-04-02T18:24:53.983Z"
      },
      {
        "duration": 52,
        "start_time": "2023-04-02T18:25:07.483Z"
      },
      {
        "duration": 4,
        "start_time": "2023-04-02T18:25:10.579Z"
      },
      {
        "duration": 261,
        "start_time": "2023-04-02T18:25:10.587Z"
      },
      {
        "duration": 20,
        "start_time": "2023-04-02T18:25:10.850Z"
      },
      {
        "duration": 22,
        "start_time": "2023-04-02T18:25:10.872Z"
      },
      {
        "duration": 96,
        "start_time": "2023-04-02T18:25:10.896Z"
      },
      {
        "duration": 10,
        "start_time": "2023-04-02T18:25:10.994Z"
      },
      {
        "duration": 28,
        "start_time": "2023-04-02T18:25:11.005Z"
      },
      {
        "duration": 59,
        "start_time": "2023-04-02T18:25:12.933Z"
      },
      {
        "duration": 544,
        "start_time": "2023-04-02T18:25:15.485Z"
      },
      {
        "duration": 487,
        "start_time": "2023-04-02T18:25:16.448Z"
      },
      {
        "duration": 14,
        "start_time": "2023-04-02T18:25:20.501Z"
      },
      {
        "duration": 11,
        "start_time": "2023-04-02T18:25:47.283Z"
      },
      {
        "duration": 9,
        "start_time": "2023-04-02T18:43:33.791Z"
      },
      {
        "duration": 10,
        "start_time": "2023-04-02T18:44:10.301Z"
      },
      {
        "duration": 58,
        "start_time": "2023-04-02T18:44:32.041Z"
      },
      {
        "duration": 233,
        "start_time": "2023-04-02T18:44:32.487Z"
      },
      {
        "duration": 212,
        "start_time": "2023-04-02T18:44:35.972Z"
      },
      {
        "duration": 3,
        "start_time": "2023-04-02T18:45:23.465Z"
      },
      {
        "duration": 196,
        "start_time": "2023-04-02T18:45:23.471Z"
      },
      {
        "duration": 25,
        "start_time": "2023-04-02T18:45:23.669Z"
      },
      {
        "duration": 9,
        "start_time": "2023-04-02T18:45:23.696Z"
      },
      {
        "duration": 93,
        "start_time": "2023-04-02T18:45:23.707Z"
      },
      {
        "duration": 10,
        "start_time": "2023-04-02T18:45:23.801Z"
      },
      {
        "duration": 31,
        "start_time": "2023-04-02T18:45:23.812Z"
      },
      {
        "duration": 75,
        "start_time": "2023-04-02T18:45:23.845Z"
      },
      {
        "duration": 442,
        "start_time": "2023-04-02T18:45:23.922Z"
      },
      {
        "duration": 576,
        "start_time": "2023-04-02T18:45:24.366Z"
      },
      {
        "duration": 8,
        "start_time": "2023-04-02T18:45:24.944Z"
      },
      {
        "duration": 9,
        "start_time": "2023-04-02T18:45:24.954Z"
      },
      {
        "duration": 29,
        "start_time": "2023-04-02T18:45:24.965Z"
      },
      {
        "duration": 28,
        "start_time": "2023-04-02T18:45:24.995Z"
      },
      {
        "duration": 11,
        "start_time": "2023-04-02T18:45:25.025Z"
      },
      {
        "duration": 70,
        "start_time": "2023-04-02T18:45:25.127Z"
      },
      {
        "duration": 274,
        "start_time": "2023-04-02T18:45:25.531Z"
      },
      {
        "duration": 257,
        "start_time": "2023-04-02T18:45:53.399Z"
      },
      {
        "duration": 263,
        "start_time": "2023-04-02T18:46:41.671Z"
      },
      {
        "duration": 272,
        "start_time": "2023-04-02T18:46:54.789Z"
      },
      {
        "duration": 256,
        "start_time": "2023-04-02T18:47:59.950Z"
      },
      {
        "duration": 236,
        "start_time": "2023-04-02T18:48:04.238Z"
      },
      {
        "duration": 259,
        "start_time": "2023-04-02T18:48:13.600Z"
      },
      {
        "duration": 260,
        "start_time": "2023-04-02T18:48:23.864Z"
      },
      {
        "duration": 32,
        "start_time": "2023-04-02T18:48:46.231Z"
      },
      {
        "duration": 29,
        "start_time": "2023-04-02T18:49:27.734Z"
      },
      {
        "duration": 33,
        "start_time": "2023-04-02T18:49:38.799Z"
      },
      {
        "duration": 34,
        "start_time": "2023-04-02T18:49:52.151Z"
      },
      {
        "duration": 1022,
        "start_time": "2023-04-02T18:49:53.178Z"
      },
      {
        "duration": 13,
        "start_time": "2023-04-02T18:50:04.833Z"
      },
      {
        "duration": 975,
        "start_time": "2023-04-02T18:54:50.570Z"
      },
      {
        "duration": 30,
        "start_time": "2023-04-02T18:56:34.684Z"
      },
      {
        "duration": 29,
        "start_time": "2023-04-02T18:57:02.922Z"
      },
      {
        "duration": 64,
        "start_time": "2023-04-02T18:57:22.709Z"
      },
      {
        "duration": 62,
        "start_time": "2023-04-02T18:57:34.778Z"
      },
      {
        "duration": 60,
        "start_time": "2023-04-02T18:57:40.022Z"
      },
      {
        "duration": 93,
        "start_time": "2023-04-02T18:58:28.736Z"
      },
      {
        "duration": 41,
        "start_time": "2023-04-02T18:59:46.893Z"
      },
      {
        "duration": 3,
        "start_time": "2023-04-02T19:01:37.757Z"
      },
      {
        "duration": 15,
        "start_time": "2023-04-02T19:01:56.758Z"
      },
      {
        "duration": 17,
        "start_time": "2023-04-02T19:01:57.075Z"
      },
      {
        "duration": 6,
        "start_time": "2023-04-02T19:02:02.211Z"
      },
      {
        "duration": 5,
        "start_time": "2023-04-02T19:02:02.458Z"
      },
      {
        "duration": 6,
        "start_time": "2023-04-02T19:03:09.335Z"
      },
      {
        "duration": 6,
        "start_time": "2023-04-02T19:03:11.438Z"
      },
      {
        "duration": 17,
        "start_time": "2023-04-02T19:03:18.895Z"
      },
      {
        "duration": 7,
        "start_time": "2023-04-02T19:03:20.391Z"
      },
      {
        "duration": 25,
        "start_time": "2023-04-02T19:03:21.811Z"
      },
      {
        "duration": 18,
        "start_time": "2023-04-02T19:03:44.899Z"
      },
      {
        "duration": 28,
        "start_time": "2023-04-02T19:04:18.086Z"
      },
      {
        "duration": 24,
        "start_time": "2023-04-02T19:04:24.105Z"
      },
      {
        "duration": 11,
        "start_time": "2023-04-02T19:06:18.776Z"
      },
      {
        "duration": 25,
        "start_time": "2023-04-02T19:06:26.547Z"
      },
      {
        "duration": 6,
        "start_time": "2023-04-02T19:06:27.513Z"
      },
      {
        "duration": 35,
        "start_time": "2023-04-02T19:06:34.145Z"
      },
      {
        "duration": 21,
        "start_time": "2023-04-02T19:06:34.527Z"
      },
      {
        "duration": 53,
        "start_time": "2023-04-02T19:10:26.018Z"
      },
      {
        "duration": 14,
        "start_time": "2023-04-02T19:13:18.444Z"
      },
      {
        "duration": 20,
        "start_time": "2023-04-02T19:13:34.890Z"
      },
      {
        "duration": 21,
        "start_time": "2023-04-02T19:13:51.892Z"
      },
      {
        "duration": 25,
        "start_time": "2023-04-02T19:14:01.200Z"
      },
      {
        "duration": 11,
        "start_time": "2023-04-02T19:14:16.187Z"
      },
      {
        "duration": 11,
        "start_time": "2023-04-02T19:14:22.257Z"
      },
      {
        "duration": 10,
        "start_time": "2023-04-02T19:14:33.694Z"
      },
      {
        "duration": 17,
        "start_time": "2023-04-02T19:14:54.865Z"
      },
      {
        "duration": 21,
        "start_time": "2023-04-02T19:14:59.987Z"
      },
      {
        "duration": 12,
        "start_time": "2023-04-02T19:15:13.248Z"
      },
      {
        "duration": 834,
        "start_time": "2023-04-02T19:15:40.386Z"
      },
      {
        "duration": 19,
        "start_time": "2023-04-02T19:15:44.732Z"
      },
      {
        "duration": 25,
        "start_time": "2023-04-02T19:16:11.253Z"
      },
      {
        "duration": 28,
        "start_time": "2023-04-02T19:16:26.026Z"
      },
      {
        "duration": 25,
        "start_time": "2023-04-02T19:16:48.805Z"
      },
      {
        "duration": 12,
        "start_time": "2023-04-02T19:17:01.161Z"
      },
      {
        "duration": 26,
        "start_time": "2023-04-02T19:17:04.585Z"
      },
      {
        "duration": 19,
        "start_time": "2023-04-02T19:17:36.426Z"
      },
      {
        "duration": 36,
        "start_time": "2023-04-02T19:18:10.285Z"
      },
      {
        "duration": 49,
        "start_time": "2023-04-02T19:21:58.489Z"
      },
      {
        "duration": 67,
        "start_time": "2023-04-02T19:22:48.038Z"
      },
      {
        "duration": 77,
        "start_time": "2023-04-02T19:23:20.458Z"
      },
      {
        "duration": 96,
        "start_time": "2023-04-02T19:23:57.658Z"
      },
      {
        "duration": 109,
        "start_time": "2023-04-02T19:24:05.427Z"
      },
      {
        "duration": 1260,
        "start_time": "2023-04-02T20:11:55.385Z"
      },
      {
        "duration": 178,
        "start_time": "2023-04-02T20:11:56.647Z"
      },
      {
        "duration": 21,
        "start_time": "2023-04-02T20:11:56.828Z"
      },
      {
        "duration": 12,
        "start_time": "2023-04-02T20:11:56.850Z"
      },
      {
        "duration": 108,
        "start_time": "2023-04-02T20:11:56.864Z"
      },
      {
        "duration": 11,
        "start_time": "2023-04-02T20:11:56.974Z"
      },
      {
        "duration": 44,
        "start_time": "2023-04-02T20:11:56.988Z"
      },
      {
        "duration": 70,
        "start_time": "2023-04-02T20:11:57.034Z"
      },
      {
        "duration": 569,
        "start_time": "2023-04-02T20:11:57.105Z"
      },
      {
        "duration": 516,
        "start_time": "2023-04-02T20:11:57.675Z"
      },
      {
        "duration": 108,
        "start_time": "2023-04-02T20:11:58.192Z"
      },
      {
        "duration": 0,
        "start_time": "2023-04-02T20:11:58.302Z"
      },
      {
        "duration": 0,
        "start_time": "2023-04-02T20:11:58.303Z"
      },
      {
        "duration": 0,
        "start_time": "2023-04-02T20:11:58.305Z"
      },
      {
        "duration": 0,
        "start_time": "2023-04-02T20:11:58.306Z"
      },
      {
        "duration": 0,
        "start_time": "2023-04-02T20:11:58.307Z"
      },
      {
        "duration": 0,
        "start_time": "2023-04-02T20:11:58.309Z"
      },
      {
        "duration": 0,
        "start_time": "2023-04-02T20:11:58.310Z"
      },
      {
        "duration": 0,
        "start_time": "2023-04-02T20:11:58.312Z"
      },
      {
        "duration": 0,
        "start_time": "2023-04-02T20:11:58.313Z"
      },
      {
        "duration": 0,
        "start_time": "2023-04-02T20:11:58.314Z"
      },
      {
        "duration": 0,
        "start_time": "2023-04-02T20:11:58.315Z"
      },
      {
        "duration": 0,
        "start_time": "2023-04-02T20:11:58.427Z"
      },
      {
        "duration": 0,
        "start_time": "2023-04-02T20:11:58.429Z"
      },
      {
        "duration": 0,
        "start_time": "2023-04-02T20:11:58.430Z"
      },
      {
        "duration": 0,
        "start_time": "2023-04-02T20:11:58.431Z"
      },
      {
        "duration": 0,
        "start_time": "2023-04-02T20:11:58.432Z"
      },
      {
        "duration": 0,
        "start_time": "2023-04-02T20:11:58.433Z"
      },
      {
        "duration": 0,
        "start_time": "2023-04-02T20:11:58.434Z"
      },
      {
        "duration": 0,
        "start_time": "2023-04-02T20:11:58.435Z"
      },
      {
        "duration": 0,
        "start_time": "2023-04-02T20:11:58.436Z"
      },
      {
        "duration": 0,
        "start_time": "2023-04-02T20:11:58.437Z"
      },
      {
        "duration": 0,
        "start_time": "2023-04-02T20:11:58.439Z"
      },
      {
        "duration": 0,
        "start_time": "2023-04-02T20:11:58.440Z"
      },
      {
        "duration": 0,
        "start_time": "2023-04-02T20:11:58.441Z"
      },
      {
        "duration": 0,
        "start_time": "2023-04-02T20:11:58.442Z"
      },
      {
        "duration": 1323,
        "start_time": "2023-04-03T07:54:51.616Z"
      },
      {
        "duration": 546,
        "start_time": "2023-04-03T07:54:52.941Z"
      },
      {
        "duration": 21,
        "start_time": "2023-04-03T07:54:56.903Z"
      },
      {
        "duration": 10,
        "start_time": "2023-04-03T07:54:58.951Z"
      },
      {
        "duration": 68,
        "start_time": "2023-04-03T07:55:03.614Z"
      },
      {
        "duration": 8,
        "start_time": "2023-04-03T07:55:09.003Z"
      },
      {
        "duration": 35,
        "start_time": "2023-04-03T07:55:10.827Z"
      },
      {
        "duration": 85,
        "start_time": "2023-04-03T07:55:11.458Z"
      },
      {
        "duration": 401,
        "start_time": "2023-04-03T07:55:13.304Z"
      },
      {
        "duration": 383,
        "start_time": "2023-04-03T07:55:14.818Z"
      },
      {
        "duration": 122,
        "start_time": "2023-04-03T07:55:44.406Z"
      },
      {
        "duration": 468,
        "start_time": "2023-04-03T07:56:35.934Z"
      },
      {
        "duration": 402,
        "start_time": "2023-04-03T07:56:46.804Z"
      },
      {
        "duration": 369,
        "start_time": "2023-04-03T07:57:13.797Z"
      },
      {
        "duration": 495,
        "start_time": "2023-04-03T07:57:21.199Z"
      },
      {
        "duration": 400,
        "start_time": "2023-04-03T07:57:24.927Z"
      },
      {
        "duration": 8,
        "start_time": "2023-04-03T07:57:25.523Z"
      },
      {
        "duration": 151,
        "start_time": "2023-04-03T07:58:29.966Z"
      },
      {
        "duration": 22,
        "start_time": "2023-04-03T07:58:34.681Z"
      },
      {
        "duration": 12,
        "start_time": "2023-04-03T07:58:36.311Z"
      },
      {
        "duration": 70,
        "start_time": "2023-04-03T07:58:38.097Z"
      },
      {
        "duration": 11,
        "start_time": "2023-04-03T07:58:38.700Z"
      },
      {
        "duration": 18,
        "start_time": "2023-04-03T07:58:39.927Z"
      },
      {
        "duration": 48,
        "start_time": "2023-04-03T07:58:41.232Z"
      },
      {
        "duration": 352,
        "start_time": "2023-04-03T07:58:42.739Z"
      },
      {
        "duration": 415,
        "start_time": "2023-04-03T07:58:55.383Z"
      },
      {
        "duration": 14,
        "start_time": "2023-04-03T07:58:59.786Z"
      },
      {
        "duration": 76,
        "start_time": "2023-04-03T07:59:21.799Z"
      },
      {
        "duration": 357,
        "start_time": "2023-04-03T07:59:41.832Z"
      },
      {
        "duration": 3,
        "start_time": "2023-04-03T07:59:44.840Z"
      },
      {
        "duration": 9,
        "start_time": "2023-04-03T07:59:45.868Z"
      },
      {
        "duration": 4,
        "start_time": "2023-04-03T07:59:52.569Z"
      },
      {
        "duration": 3,
        "start_time": "2023-04-03T07:59:59.314Z"
      },
      {
        "duration": 167,
        "start_time": "2023-04-03T07:59:59.320Z"
      },
      {
        "duration": 17,
        "start_time": "2023-04-03T07:59:59.488Z"
      },
      {
        "duration": 17,
        "start_time": "2023-04-03T07:59:59.507Z"
      },
      {
        "duration": 89,
        "start_time": "2023-04-03T07:59:59.525Z"
      },
      {
        "duration": 8,
        "start_time": "2023-04-03T07:59:59.616Z"
      },
      {
        "duration": 46,
        "start_time": "2023-04-03T07:59:59.625Z"
      },
      {
        "duration": 45,
        "start_time": "2023-04-03T07:59:59.672Z"
      },
      {
        "duration": 371,
        "start_time": "2023-04-03T08:00:03.025Z"
      },
      {
        "duration": 3,
        "start_time": "2023-04-03T08:00:14.581Z"
      },
      {
        "duration": 172,
        "start_time": "2023-04-03T08:00:14.585Z"
      },
      {
        "duration": 15,
        "start_time": "2023-04-03T08:00:14.768Z"
      },
      {
        "duration": 26,
        "start_time": "2023-04-03T08:00:14.785Z"
      },
      {
        "duration": 203,
        "start_time": "2023-04-03T08:00:14.813Z"
      },
      {
        "duration": 12,
        "start_time": "2023-04-03T08:00:15.019Z"
      },
      {
        "duration": 91,
        "start_time": "2023-04-03T08:00:15.033Z"
      },
      {
        "duration": 84,
        "start_time": "2023-04-03T08:00:15.125Z"
      },
      {
        "duration": 375,
        "start_time": "2023-04-03T08:00:19.017Z"
      },
      {
        "duration": 361,
        "start_time": "2023-04-03T08:00:32.866Z"
      },
      {
        "duration": 5,
        "start_time": "2023-04-03T08:00:36.617Z"
      },
      {
        "duration": 38,
        "start_time": "2023-04-03T08:00:50.540Z"
      },
      {
        "duration": 24,
        "start_time": "2023-04-03T08:01:03.819Z"
      },
      {
        "duration": 370,
        "start_time": "2023-04-03T08:03:24.781Z"
      },
      {
        "duration": 417,
        "start_time": "2023-04-03T08:04:05.781Z"
      },
      {
        "duration": 407,
        "start_time": "2023-04-03T08:04:09.554Z"
      },
      {
        "duration": 17,
        "start_time": "2023-04-03T08:04:19.024Z"
      },
      {
        "duration": 361,
        "start_time": "2023-04-03T08:05:00.779Z"
      },
      {
        "duration": 3,
        "start_time": "2023-04-03T08:05:06.189Z"
      },
      {
        "duration": 152,
        "start_time": "2023-04-03T08:05:06.195Z"
      },
      {
        "duration": 20,
        "start_time": "2023-04-03T08:05:06.348Z"
      },
      {
        "duration": 35,
        "start_time": "2023-04-03T08:05:06.370Z"
      },
      {
        "duration": 129,
        "start_time": "2023-04-03T08:05:06.408Z"
      },
      {
        "duration": 13,
        "start_time": "2023-04-03T08:05:06.539Z"
      },
      {
        "duration": 24,
        "start_time": "2023-04-03T08:05:06.553Z"
      },
      {
        "duration": 49,
        "start_time": "2023-04-03T08:05:06.579Z"
      },
      {
        "duration": 458,
        "start_time": "2023-04-03T08:05:06.630Z"
      },
      {
        "duration": 387,
        "start_time": "2023-04-03T08:05:07.090Z"
      },
      {
        "duration": 14,
        "start_time": "2023-04-03T08:05:07.478Z"
      },
      {
        "duration": 51,
        "start_time": "2023-04-03T08:05:07.495Z"
      },
      {
        "duration": 23,
        "start_time": "2023-04-03T08:05:07.548Z"
      },
      {
        "duration": 528,
        "start_time": "2023-04-03T08:05:07.573Z"
      },
      {
        "duration": 7,
        "start_time": "2023-04-03T08:05:08.103Z"
      },
      {
        "duration": 11,
        "start_time": "2023-04-03T08:05:08.111Z"
      },
      {
        "duration": 11,
        "start_time": "2023-04-03T08:05:08.124Z"
      },
      {
        "duration": 42,
        "start_time": "2023-04-03T08:05:08.148Z"
      },
      {
        "duration": 132,
        "start_time": "2023-04-03T08:05:08.192Z"
      },
      {
        "duration": 425,
        "start_time": "2023-04-03T08:05:24.477Z"
      },
      {
        "duration": 3,
        "start_time": "2023-04-03T08:05:39.182Z"
      },
      {
        "duration": 164,
        "start_time": "2023-04-03T08:05:39.186Z"
      },
      {
        "duration": 16,
        "start_time": "2023-04-03T08:05:39.352Z"
      },
      {
        "duration": 13,
        "start_time": "2023-04-03T08:05:39.369Z"
      },
      {
        "duration": 167,
        "start_time": "2023-04-03T08:05:39.385Z"
      },
      {
        "duration": 7,
        "start_time": "2023-04-03T08:05:39.554Z"
      },
      {
        "duration": 58,
        "start_time": "2023-04-03T08:05:39.563Z"
      },
      {
        "duration": 79,
        "start_time": "2023-04-03T08:05:39.623Z"
      },
      {
        "duration": 376,
        "start_time": "2023-04-03T08:05:39.704Z"
      },
      {
        "duration": 334,
        "start_time": "2023-04-03T08:05:40.082Z"
      },
      {
        "duration": 14,
        "start_time": "2023-04-03T08:05:40.418Z"
      },
      {
        "duration": 40,
        "start_time": "2023-04-03T08:05:44.380Z"
      },
      {
        "duration": 337,
        "start_time": "2023-04-03T08:05:46.328Z"
      },
      {
        "duration": 412,
        "start_time": "2023-04-03T08:05:48.297Z"
      },
      {
        "duration": 23,
        "start_time": "2023-04-03T08:06:12.514Z"
      },
      {
        "duration": 3,
        "start_time": "2023-04-03T08:06:15.987Z"
      },
      {
        "duration": 146,
        "start_time": "2023-04-03T08:06:16.312Z"
      },
      {
        "duration": 16,
        "start_time": "2023-04-03T08:06:19.242Z"
      },
      {
        "duration": 14,
        "start_time": "2023-04-03T08:06:23.204Z"
      },
      {
        "duration": 77,
        "start_time": "2023-04-03T08:06:24.590Z"
      },
      {
        "duration": 8,
        "start_time": "2023-04-03T08:06:25.081Z"
      },
      {
        "duration": 20,
        "start_time": "2023-04-03T08:06:26.341Z"
      },
      {
        "duration": 46,
        "start_time": "2023-04-03T08:06:26.924Z"
      },
      {
        "duration": 334,
        "start_time": "2023-04-03T08:06:28.261Z"
      },
      {
        "duration": 334,
        "start_time": "2023-04-03T08:06:33.419Z"
      },
      {
        "duration": 12,
        "start_time": "2023-04-03T08:06:36.740Z"
      },
      {
        "duration": 37,
        "start_time": "2023-04-03T08:06:38.533Z"
      },
      {
        "duration": 23,
        "start_time": "2023-04-03T08:06:39.322Z"
      },
      {
        "duration": 14,
        "start_time": "2023-04-03T08:06:50.581Z"
      },
      {
        "duration": 19,
        "start_time": "2023-04-03T08:06:57.219Z"
      },
      {
        "duration": 23,
        "start_time": "2023-04-03T08:07:10.000Z"
      },
      {
        "duration": 3,
        "start_time": "2023-04-03T08:07:36.521Z"
      },
      {
        "duration": 153,
        "start_time": "2023-04-03T08:07:36.525Z"
      },
      {
        "duration": 19,
        "start_time": "2023-04-03T08:07:36.679Z"
      },
      {
        "duration": 22,
        "start_time": "2023-04-03T08:07:36.701Z"
      },
      {
        "duration": 178,
        "start_time": "2023-04-03T08:07:36.725Z"
      },
      {
        "duration": 12,
        "start_time": "2023-04-03T08:07:36.905Z"
      },
      {
        "duration": 50,
        "start_time": "2023-04-03T08:07:36.919Z"
      },
      {
        "duration": 84,
        "start_time": "2023-04-03T08:07:36.971Z"
      },
      {
        "duration": 370,
        "start_time": "2023-04-03T08:07:37.058Z"
      },
      {
        "duration": 375,
        "start_time": "2023-04-03T08:07:37.430Z"
      },
      {
        "duration": 13,
        "start_time": "2023-04-03T08:07:37.806Z"
      },
      {
        "duration": 85,
        "start_time": "2023-04-03T08:07:37.821Z"
      },
      {
        "duration": 22,
        "start_time": "2023-04-03T08:07:37.907Z"
      },
      {
        "duration": 377,
        "start_time": "2023-04-03T08:07:37.931Z"
      },
      {
        "duration": 7,
        "start_time": "2023-04-03T08:07:38.310Z"
      },
      {
        "duration": 11,
        "start_time": "2023-04-03T08:07:38.319Z"
      },
      {
        "duration": 4,
        "start_time": "2023-04-03T08:08:47.174Z"
      },
      {
        "duration": 213,
        "start_time": "2023-04-03T08:08:47.181Z"
      },
      {
        "duration": 30,
        "start_time": "2023-04-03T08:08:47.397Z"
      },
      {
        "duration": 40,
        "start_time": "2023-04-03T08:08:47.430Z"
      },
      {
        "duration": 165,
        "start_time": "2023-04-03T08:08:47.472Z"
      },
      {
        "duration": 26,
        "start_time": "2023-04-03T08:08:47.638Z"
      },
      {
        "duration": 35,
        "start_time": "2023-04-03T08:08:47.668Z"
      },
      {
        "duration": 90,
        "start_time": "2023-04-03T08:08:47.705Z"
      },
      {
        "duration": 372,
        "start_time": "2023-04-03T08:08:47.798Z"
      },
      {
        "duration": 356,
        "start_time": "2023-04-03T08:08:48.171Z"
      },
      {
        "duration": 26,
        "start_time": "2023-04-03T08:08:48.529Z"
      },
      {
        "duration": 40,
        "start_time": "2023-04-03T08:08:48.560Z"
      },
      {
        "duration": 39,
        "start_time": "2023-04-03T08:08:48.603Z"
      },
      {
        "duration": 372,
        "start_time": "2023-04-03T08:08:48.644Z"
      },
      {
        "duration": 8,
        "start_time": "2023-04-03T08:08:49.017Z"
      },
      {
        "duration": 12,
        "start_time": "2023-04-03T08:08:49.027Z"
      },
      {
        "duration": 15,
        "start_time": "2023-04-03T08:08:49.057Z"
      },
      {
        "duration": 30,
        "start_time": "2023-04-03T08:08:49.074Z"
      },
      {
        "duration": 9,
        "start_time": "2023-04-03T08:08:49.106Z"
      },
      {
        "duration": 59,
        "start_time": "2023-04-03T08:08:49.117Z"
      },
      {
        "duration": 206,
        "start_time": "2023-04-03T08:08:49.178Z"
      },
      {
        "duration": 0,
        "start_time": "2023-04-03T08:08:49.386Z"
      },
      {
        "duration": 0,
        "start_time": "2023-04-03T08:08:49.390Z"
      },
      {
        "duration": 0,
        "start_time": "2023-04-03T08:08:49.391Z"
      },
      {
        "duration": 0,
        "start_time": "2023-04-03T08:08:49.392Z"
      },
      {
        "duration": 0,
        "start_time": "2023-04-03T08:08:49.393Z"
      },
      {
        "duration": 0,
        "start_time": "2023-04-03T08:08:49.393Z"
      },
      {
        "duration": 0,
        "start_time": "2023-04-03T08:08:49.394Z"
      },
      {
        "duration": 0,
        "start_time": "2023-04-03T08:08:49.395Z"
      },
      {
        "duration": 0,
        "start_time": "2023-04-03T08:08:49.398Z"
      },
      {
        "duration": 0,
        "start_time": "2023-04-03T08:08:49.398Z"
      },
      {
        "duration": 0,
        "start_time": "2023-04-03T08:08:49.399Z"
      },
      {
        "duration": 0,
        "start_time": "2023-04-03T08:08:49.400Z"
      },
      {
        "duration": 0,
        "start_time": "2023-04-03T08:08:49.401Z"
      },
      {
        "duration": 0,
        "start_time": "2023-04-03T08:08:49.402Z"
      },
      {
        "duration": 0,
        "start_time": "2023-04-03T08:08:49.403Z"
      },
      {
        "duration": 0,
        "start_time": "2023-04-03T08:08:49.405Z"
      },
      {
        "duration": 0,
        "start_time": "2023-04-03T08:08:49.405Z"
      },
      {
        "duration": 0,
        "start_time": "2023-04-03T08:08:49.513Z"
      },
      {
        "duration": 0,
        "start_time": "2023-04-03T08:08:49.515Z"
      },
      {
        "duration": 2,
        "start_time": "2023-04-03T08:08:55.387Z"
      },
      {
        "duration": 155,
        "start_time": "2023-04-03T08:08:56.145Z"
      },
      {
        "duration": 26,
        "start_time": "2023-04-03T08:08:58.782Z"
      },
      {
        "duration": 30,
        "start_time": "2023-04-03T08:09:01.836Z"
      },
      {
        "duration": 83,
        "start_time": "2023-04-03T08:09:04.388Z"
      },
      {
        "duration": 17,
        "start_time": "2023-04-03T08:09:05.724Z"
      },
      {
        "duration": 32,
        "start_time": "2023-04-03T08:09:26.286Z"
      },
      {
        "duration": 190,
        "start_time": "2023-04-03T08:09:32.126Z"
      },
      {
        "duration": 203,
        "start_time": "2023-04-03T08:09:38.229Z"
      },
      {
        "duration": 20,
        "start_time": "2023-04-03T08:09:43.081Z"
      },
      {
        "duration": 18,
        "start_time": "2023-04-03T08:09:47.997Z"
      },
      {
        "duration": 43,
        "start_time": "2023-04-03T08:09:56.316Z"
      },
      {
        "duration": 3,
        "start_time": "2023-04-03T08:11:32.708Z"
      },
      {
        "duration": 194,
        "start_time": "2023-04-03T08:11:34.384Z"
      },
      {
        "duration": 23,
        "start_time": "2023-04-03T08:11:37.373Z"
      },
      {
        "duration": 37,
        "start_time": "2023-04-03T08:11:42.580Z"
      },
      {
        "duration": 65,
        "start_time": "2023-04-03T08:11:56.106Z"
      },
      {
        "duration": 384,
        "start_time": "2023-04-03T08:12:03.008Z"
      },
      {
        "duration": 3,
        "start_time": "2023-04-03T08:12:33.197Z"
      },
      {
        "duration": 216,
        "start_time": "2023-04-03T08:12:33.202Z"
      },
      {
        "duration": 30,
        "start_time": "2023-04-03T08:12:33.420Z"
      },
      {
        "duration": 43,
        "start_time": "2023-04-03T08:12:33.452Z"
      },
      {
        "duration": 124,
        "start_time": "2023-04-03T08:12:33.497Z"
      },
      {
        "duration": 48,
        "start_time": "2023-04-03T08:12:33.623Z"
      },
      {
        "duration": 45,
        "start_time": "2023-04-03T08:12:33.676Z"
      },
      {
        "duration": 75,
        "start_time": "2023-04-03T08:12:33.723Z"
      },
      {
        "duration": 378,
        "start_time": "2023-04-03T08:12:33.801Z"
      },
      {
        "duration": 14,
        "start_time": "2023-04-03T08:12:34.180Z"
      },
      {
        "duration": 28,
        "start_time": "2023-04-03T08:12:34.196Z"
      },
      {
        "duration": 68,
        "start_time": "2023-04-03T08:12:34.226Z"
      },
      {
        "duration": 620,
        "start_time": "2023-04-03T08:12:34.296Z"
      },
      {
        "duration": 12,
        "start_time": "2023-04-03T08:12:34.918Z"
      },
      {
        "duration": 23,
        "start_time": "2023-04-03T08:12:34.932Z"
      },
      {
        "duration": 75,
        "start_time": "2023-04-03T08:12:34.957Z"
      },
      {
        "duration": 76,
        "start_time": "2023-04-03T08:12:35.035Z"
      },
      {
        "duration": 122,
        "start_time": "2023-04-03T08:12:35.113Z"
      },
      {
        "duration": 204,
        "start_time": "2023-04-03T08:12:35.237Z"
      },
      {
        "duration": 0,
        "start_time": "2023-04-03T08:12:35.443Z"
      },
      {
        "duration": 0,
        "start_time": "2023-04-03T08:12:35.444Z"
      },
      {
        "duration": 0,
        "start_time": "2023-04-03T08:12:35.445Z"
      },
      {
        "duration": 0,
        "start_time": "2023-04-03T08:12:35.446Z"
      },
      {
        "duration": 0,
        "start_time": "2023-04-03T08:12:35.447Z"
      },
      {
        "duration": 0,
        "start_time": "2023-04-03T08:12:35.448Z"
      },
      {
        "duration": 0,
        "start_time": "2023-04-03T08:12:35.449Z"
      },
      {
        "duration": 0,
        "start_time": "2023-04-03T08:12:35.449Z"
      },
      {
        "duration": 0,
        "start_time": "2023-04-03T08:12:35.450Z"
      },
      {
        "duration": 0,
        "start_time": "2023-04-03T08:12:35.450Z"
      },
      {
        "duration": 0,
        "start_time": "2023-04-03T08:12:35.451Z"
      },
      {
        "duration": 0,
        "start_time": "2023-04-03T08:12:35.451Z"
      },
      {
        "duration": 0,
        "start_time": "2023-04-03T08:12:35.452Z"
      },
      {
        "duration": 0,
        "start_time": "2023-04-03T08:12:35.452Z"
      },
      {
        "duration": 0,
        "start_time": "2023-04-03T08:12:35.453Z"
      },
      {
        "duration": 0,
        "start_time": "2023-04-03T08:12:35.453Z"
      },
      {
        "duration": 0,
        "start_time": "2023-04-03T08:12:35.454Z"
      },
      {
        "duration": 0,
        "start_time": "2023-04-03T08:12:35.455Z"
      },
      {
        "duration": 0,
        "start_time": "2023-04-03T08:12:35.455Z"
      },
      {
        "duration": 4,
        "start_time": "2023-04-03T08:12:52.142Z"
      },
      {
        "duration": 233,
        "start_time": "2023-04-03T08:12:52.938Z"
      },
      {
        "duration": 30,
        "start_time": "2023-04-03T08:12:55.195Z"
      },
      {
        "duration": 55,
        "start_time": "2023-04-03T08:12:56.940Z"
      },
      {
        "duration": 54,
        "start_time": "2023-04-03T08:13:12.913Z"
      },
      {
        "duration": 41,
        "start_time": "2023-04-03T08:13:15.891Z"
      },
      {
        "duration": 45,
        "start_time": "2023-04-03T08:13:16.729Z"
      },
      {
        "duration": 3,
        "start_time": "2023-04-03T08:13:21.090Z"
      },
      {
        "duration": 251,
        "start_time": "2023-04-03T08:13:21.535Z"
      },
      {
        "duration": 34,
        "start_time": "2023-04-03T08:13:24.401Z"
      },
      {
        "duration": 46,
        "start_time": "2023-04-03T08:13:25.932Z"
      },
      {
        "duration": 214,
        "start_time": "2023-04-03T08:13:38.873Z"
      },
      {
        "duration": 41,
        "start_time": "2023-04-03T08:13:40.145Z"
      },
      {
        "duration": 47,
        "start_time": "2023-04-03T08:13:40.789Z"
      },
      {
        "duration": 33,
        "start_time": "2023-04-03T08:13:42.999Z"
      },
      {
        "duration": 45,
        "start_time": "2023-04-03T08:13:54.992Z"
      },
      {
        "duration": 44,
        "start_time": "2023-04-03T08:13:58.706Z"
      },
      {
        "duration": 4,
        "start_time": "2023-04-03T08:14:02.503Z"
      },
      {
        "duration": 211,
        "start_time": "2023-04-03T08:14:02.812Z"
      },
      {
        "duration": 35,
        "start_time": "2023-04-03T08:14:05.251Z"
      },
      {
        "duration": 31,
        "start_time": "2023-04-03T08:14:06.474Z"
      },
      {
        "duration": 31,
        "start_time": "2023-04-03T08:14:24.867Z"
      },
      {
        "duration": 69,
        "start_time": "2023-04-03T08:20:19.624Z"
      },
      {
        "duration": 12,
        "start_time": "2023-04-03T08:20:24.091Z"
      },
      {
        "duration": 17,
        "start_time": "2023-04-03T08:20:28.383Z"
      },
      {
        "duration": 50,
        "start_time": "2023-04-03T08:20:29.347Z"
      },
      {
        "duration": 351,
        "start_time": "2023-04-03T08:20:31.688Z"
      },
      {
        "duration": 19,
        "start_time": "2023-04-03T08:24:06.525Z"
      },
      {
        "duration": 23,
        "start_time": "2023-04-03T08:24:10.494Z"
      },
      {
        "duration": 9,
        "start_time": "2023-04-03T08:24:16.396Z"
      },
      {
        "duration": 346,
        "start_time": "2023-04-03T08:24:25.294Z"
      },
      {
        "duration": 6,
        "start_time": "2023-04-03T08:24:31.566Z"
      },
      {
        "duration": 418,
        "start_time": "2023-04-03T08:24:48.329Z"
      },
      {
        "duration": 342,
        "start_time": "2023-04-03T08:25:20.024Z"
      },
      {
        "duration": 13,
        "start_time": "2023-04-03T08:25:21.434Z"
      },
      {
        "duration": 353,
        "start_time": "2023-04-03T08:25:21.993Z"
      },
      {
        "duration": 3,
        "start_time": "2023-04-03T08:25:36.976Z"
      },
      {
        "duration": 8,
        "start_time": "2023-04-03T08:26:48.688Z"
      },
      {
        "duration": 53,
        "start_time": "2023-04-03T08:27:32.561Z"
      },
      {
        "duration": 184,
        "start_time": "2023-04-03T08:27:34.227Z"
      },
      {
        "duration": 204,
        "start_time": "2023-04-03T08:27:59.799Z"
      },
      {
        "duration": 3,
        "start_time": "2023-04-03T08:28:05.901Z"
      },
      {
        "duration": 184,
        "start_time": "2023-04-03T08:28:05.916Z"
      },
      {
        "duration": 15,
        "start_time": "2023-04-03T08:28:06.102Z"
      },
      {
        "duration": 54,
        "start_time": "2023-04-03T08:28:06.119Z"
      },
      {
        "duration": 142,
        "start_time": "2023-04-03T08:28:06.175Z"
      },
      {
        "duration": 13,
        "start_time": "2023-04-03T08:28:06.318Z"
      },
      {
        "duration": 37,
        "start_time": "2023-04-03T08:28:06.332Z"
      },
      {
        "duration": 49,
        "start_time": "2023-04-03T08:28:06.371Z"
      },
      {
        "duration": 378,
        "start_time": "2023-04-03T08:28:06.421Z"
      },
      {
        "duration": 18,
        "start_time": "2023-04-03T08:28:06.800Z"
      },
      {
        "duration": 363,
        "start_time": "2023-04-03T08:28:06.820Z"
      },
      {
        "duration": 9,
        "start_time": "2023-04-03T08:28:07.184Z"
      },
      {
        "duration": 7,
        "start_time": "2023-04-03T08:28:07.194Z"
      },
      {
        "duration": 6,
        "start_time": "2023-04-03T08:28:07.202Z"
      },
      {
        "duration": 48,
        "start_time": "2023-04-03T08:28:07.210Z"
      },
      {
        "duration": 7,
        "start_time": "2023-04-03T08:28:07.259Z"
      },
      {
        "duration": 50,
        "start_time": "2023-04-03T08:28:07.268Z"
      },
      {
        "duration": 47,
        "start_time": "2023-04-03T08:28:08.882Z"
      },
      {
        "duration": 187,
        "start_time": "2023-04-03T08:28:09.200Z"
      },
      {
        "duration": 169,
        "start_time": "2023-04-03T08:36:06.899Z"
      },
      {
        "duration": 168,
        "start_time": "2023-04-03T08:36:38.861Z"
      },
      {
        "duration": 195,
        "start_time": "2023-04-03T08:40:29.377Z"
      },
      {
        "duration": 230,
        "start_time": "2023-04-03T08:40:40.457Z"
      },
      {
        "duration": 272,
        "start_time": "2023-04-03T08:41:05.684Z"
      },
      {
        "duration": 239,
        "start_time": "2023-04-03T08:42:11.611Z"
      },
      {
        "duration": 204,
        "start_time": "2023-04-03T08:42:23.658Z"
      },
      {
        "duration": 1280,
        "start_time": "2023-04-03T21:27:00.415Z"
      },
      {
        "duration": 177,
        "start_time": "2023-04-03T21:27:01.697Z"
      },
      {
        "duration": 27,
        "start_time": "2023-04-03T21:27:01.876Z"
      },
      {
        "duration": 77,
        "start_time": "2023-04-03T21:27:01.904Z"
      },
      {
        "duration": 127,
        "start_time": "2023-04-03T21:27:01.983Z"
      },
      {
        "duration": 20,
        "start_time": "2023-04-03T21:27:02.112Z"
      },
      {
        "duration": 54,
        "start_time": "2023-04-03T21:27:02.134Z"
      },
      {
        "duration": 76,
        "start_time": "2023-04-03T21:27:02.190Z"
      },
      {
        "duration": 542,
        "start_time": "2023-04-03T21:27:02.268Z"
      },
      {
        "duration": 23,
        "start_time": "2023-04-03T21:27:02.812Z"
      },
      {
        "duration": 476,
        "start_time": "2023-04-03T21:27:02.837Z"
      },
      {
        "duration": 110,
        "start_time": "2023-04-03T21:27:03.315Z"
      },
      {
        "duration": 0,
        "start_time": "2023-04-03T21:27:03.428Z"
      },
      {
        "duration": 0,
        "start_time": "2023-04-03T21:27:03.430Z"
      },
      {
        "duration": 0,
        "start_time": "2023-04-03T21:27:03.432Z"
      },
      {
        "duration": 0,
        "start_time": "2023-04-03T21:27:03.433Z"
      },
      {
        "duration": 0,
        "start_time": "2023-04-03T21:27:03.435Z"
      },
      {
        "duration": 0,
        "start_time": "2023-04-03T21:27:03.436Z"
      },
      {
        "duration": 0,
        "start_time": "2023-04-03T21:27:03.438Z"
      },
      {
        "duration": 0,
        "start_time": "2023-04-03T21:27:03.440Z"
      },
      {
        "duration": 0,
        "start_time": "2023-04-03T21:27:03.441Z"
      },
      {
        "duration": 0,
        "start_time": "2023-04-03T21:27:03.566Z"
      },
      {
        "duration": 0,
        "start_time": "2023-04-03T21:27:03.567Z"
      },
      {
        "duration": 0,
        "start_time": "2023-04-03T21:27:03.569Z"
      },
      {
        "duration": 0,
        "start_time": "2023-04-03T21:27:03.571Z"
      },
      {
        "duration": 0,
        "start_time": "2023-04-03T21:27:03.572Z"
      },
      {
        "duration": 0,
        "start_time": "2023-04-03T21:27:03.573Z"
      },
      {
        "duration": 0,
        "start_time": "2023-04-03T21:27:03.590Z"
      },
      {
        "duration": 0,
        "start_time": "2023-04-03T21:27:03.591Z"
      },
      {
        "duration": 0,
        "start_time": "2023-04-03T21:27:03.593Z"
      },
      {
        "duration": 0,
        "start_time": "2023-04-03T21:27:03.594Z"
      },
      {
        "duration": 0,
        "start_time": "2023-04-03T21:27:03.595Z"
      },
      {
        "duration": 0,
        "start_time": "2023-04-03T21:27:03.597Z"
      },
      {
        "duration": 0,
        "start_time": "2023-04-03T21:27:03.598Z"
      },
      {
        "duration": 0,
        "start_time": "2023-04-03T21:27:03.599Z"
      },
      {
        "duration": 0,
        "start_time": "2023-04-03T21:27:03.601Z"
      },
      {
        "duration": 0,
        "start_time": "2023-04-03T21:27:03.602Z"
      },
      {
        "duration": 0,
        "start_time": "2023-04-03T21:27:03.604Z"
      },
      {
        "duration": 1464,
        "start_time": "2023-04-04T18:21:21.296Z"
      },
      {
        "duration": 720,
        "start_time": "2023-04-04T18:21:22.763Z"
      },
      {
        "duration": 22,
        "start_time": "2023-04-04T18:21:25.298Z"
      },
      {
        "duration": 24,
        "start_time": "2023-04-04T18:21:26.733Z"
      },
      {
        "duration": 91,
        "start_time": "2023-04-04T18:21:28.067Z"
      },
      {
        "duration": 17,
        "start_time": "2023-04-04T18:21:28.813Z"
      },
      {
        "duration": 21,
        "start_time": "2023-04-04T18:21:30.327Z"
      },
      {
        "duration": 54,
        "start_time": "2023-04-04T18:21:30.729Z"
      },
      {
        "duration": 540,
        "start_time": "2023-04-04T18:21:31.755Z"
      },
      {
        "duration": 24,
        "start_time": "2023-04-04T18:21:33.204Z"
      },
      {
        "duration": 455,
        "start_time": "2023-04-04T18:21:33.745Z"
      },
      {
        "duration": 637,
        "start_time": "2023-04-04T18:22:33.863Z"
      },
      {
        "duration": 8,
        "start_time": "2023-04-04T18:22:34.503Z"
      },
      {
        "duration": 12,
        "start_time": "2023-04-04T18:22:40.478Z"
      },
      {
        "duration": 11,
        "start_time": "2023-04-04T18:22:41.297Z"
      },
      {
        "duration": 29,
        "start_time": "2023-04-04T18:22:41.605Z"
      },
      {
        "duration": 11,
        "start_time": "2023-04-04T18:22:42.421Z"
      },
      {
        "duration": 56,
        "start_time": "2023-04-04T18:22:42.692Z"
      },
      {
        "duration": 85,
        "start_time": "2023-04-04T18:22:42.945Z"
      },
      {
        "duration": 265,
        "start_time": "2023-04-04T18:22:43.155Z"
      },
      {
        "duration": 88,
        "start_time": "2023-04-04T18:22:43.966Z"
      },
      {
        "duration": 37,
        "start_time": "2023-04-04T18:22:45.384Z"
      },
      {
        "duration": 84,
        "start_time": "2023-04-04T18:24:32.856Z"
      },
      {
        "duration": 91,
        "start_time": "2023-04-04T18:27:23.863Z"
      },
      {
        "duration": 85,
        "start_time": "2023-04-04T18:27:28.521Z"
      },
      {
        "duration": 15,
        "start_time": "2023-04-04T18:28:05.707Z"
      },
      {
        "duration": 107,
        "start_time": "2023-04-04T18:28:17.060Z"
      },
      {
        "duration": 95,
        "start_time": "2023-04-04T18:28:51.070Z"
      },
      {
        "duration": 15,
        "start_time": "2023-04-04T18:28:53.943Z"
      },
      {
        "duration": 95,
        "start_time": "2023-04-04T18:29:09.754Z"
      },
      {
        "duration": 16,
        "start_time": "2023-04-04T18:29:10.987Z"
      },
      {
        "duration": 3,
        "start_time": "2023-04-04T18:29:19.196Z"
      },
      {
        "duration": 171,
        "start_time": "2023-04-04T18:29:19.201Z"
      },
      {
        "duration": 18,
        "start_time": "2023-04-04T18:29:19.373Z"
      },
      {
        "duration": 57,
        "start_time": "2023-04-04T18:29:19.403Z"
      },
      {
        "duration": 83,
        "start_time": "2023-04-04T18:29:19.463Z"
      },
      {
        "duration": 22,
        "start_time": "2023-04-04T18:29:19.547Z"
      },
      {
        "duration": 102,
        "start_time": "2023-04-04T18:29:19.571Z"
      },
      {
        "duration": 15,
        "start_time": "2023-04-04T18:29:19.675Z"
      },
      {
        "duration": 27,
        "start_time": "2023-04-04T18:29:19.692Z"
      },
      {
        "duration": 63,
        "start_time": "2023-04-04T18:29:19.721Z"
      },
      {
        "duration": 467,
        "start_time": "2023-04-04T18:29:19.787Z"
      },
      {
        "duration": 25,
        "start_time": "2023-04-04T18:29:20.256Z"
      },
      {
        "duration": 458,
        "start_time": "2023-04-04T18:29:20.283Z"
      },
      {
        "duration": 8,
        "start_time": "2023-04-04T18:29:20.743Z"
      },
      {
        "duration": 11,
        "start_time": "2023-04-04T18:29:20.753Z"
      },
      {
        "duration": 12,
        "start_time": "2023-04-04T18:29:20.766Z"
      },
      {
        "duration": 44,
        "start_time": "2023-04-04T18:29:20.779Z"
      },
      {
        "duration": 19,
        "start_time": "2023-04-04T18:29:20.825Z"
      },
      {
        "duration": 69,
        "start_time": "2023-04-04T18:29:20.845Z"
      },
      {
        "duration": 74,
        "start_time": "2023-04-04T18:29:20.916Z"
      },
      {
        "duration": 0,
        "start_time": "2023-04-04T18:29:20.992Z"
      },
      {
        "duration": 0,
        "start_time": "2023-04-04T18:29:20.993Z"
      },
      {
        "duration": 0,
        "start_time": "2023-04-04T18:29:20.995Z"
      },
      {
        "duration": 0,
        "start_time": "2023-04-04T18:29:21.100Z"
      },
      {
        "duration": 0,
        "start_time": "2023-04-04T18:29:21.103Z"
      },
      {
        "duration": 0,
        "start_time": "2023-04-04T18:29:21.104Z"
      },
      {
        "duration": 0,
        "start_time": "2023-04-04T18:29:21.106Z"
      },
      {
        "duration": 0,
        "start_time": "2023-04-04T18:29:21.107Z"
      },
      {
        "duration": 0,
        "start_time": "2023-04-04T18:29:21.109Z"
      },
      {
        "duration": 0,
        "start_time": "2023-04-04T18:29:21.110Z"
      },
      {
        "duration": 0,
        "start_time": "2023-04-04T18:29:21.112Z"
      },
      {
        "duration": 0,
        "start_time": "2023-04-04T18:29:21.114Z"
      },
      {
        "duration": 0,
        "start_time": "2023-04-04T18:29:21.115Z"
      },
      {
        "duration": 0,
        "start_time": "2023-04-04T18:29:21.116Z"
      },
      {
        "duration": 0,
        "start_time": "2023-04-04T18:29:21.118Z"
      },
      {
        "duration": 0,
        "start_time": "2023-04-04T18:29:21.119Z"
      },
      {
        "duration": 0,
        "start_time": "2023-04-04T18:29:21.120Z"
      },
      {
        "duration": 0,
        "start_time": "2023-04-04T18:29:21.122Z"
      },
      {
        "duration": 0,
        "start_time": "2023-04-04T18:29:21.123Z"
      },
      {
        "duration": 0,
        "start_time": "2023-04-04T18:29:21.124Z"
      },
      {
        "duration": 3,
        "start_time": "2023-04-04T18:29:32.343Z"
      },
      {
        "duration": 151,
        "start_time": "2023-04-04T18:29:32.584Z"
      },
      {
        "duration": 18,
        "start_time": "2023-04-04T18:29:36.179Z"
      },
      {
        "duration": 56,
        "start_time": "2023-04-04T18:29:37.671Z"
      },
      {
        "duration": 71,
        "start_time": "2023-04-04T18:29:41.417Z"
      },
      {
        "duration": 21,
        "start_time": "2023-04-04T18:29:42.654Z"
      },
      {
        "duration": 76,
        "start_time": "2023-04-04T18:29:43.884Z"
      },
      {
        "duration": 16,
        "start_time": "2023-04-04T18:29:44.089Z"
      },
      {
        "duration": 22,
        "start_time": "2023-04-04T18:29:45.140Z"
      },
      {
        "duration": 48,
        "start_time": "2023-04-04T18:29:45.467Z"
      },
      {
        "duration": 434,
        "start_time": "2023-04-04T18:29:53.018Z"
      },
      {
        "duration": 27,
        "start_time": "2023-04-04T18:29:53.589Z"
      },
      {
        "duration": 455,
        "start_time": "2023-04-04T18:29:53.626Z"
      },
      {
        "duration": 8,
        "start_time": "2023-04-04T18:29:54.083Z"
      },
      {
        "duration": 39,
        "start_time": "2023-04-04T18:29:54.093Z"
      },
      {
        "duration": 10,
        "start_time": "2023-04-04T18:30:02.850Z"
      },
      {
        "duration": 22,
        "start_time": "2023-04-04T18:30:03.878Z"
      },
      {
        "duration": 10,
        "start_time": "2023-04-04T18:30:06.550Z"
      },
      {
        "duration": 60,
        "start_time": "2023-04-04T18:30:07.370Z"
      },
      {
        "duration": 264,
        "start_time": "2023-04-04T18:30:18.097Z"
      },
      {
        "duration": 83,
        "start_time": "2023-04-04T18:30:26.527Z"
      },
      {
        "duration": 1774,
        "start_time": "2023-04-05T11:02:59.855Z"
      },
      {
        "duration": 982,
        "start_time": "2023-04-05T11:03:01.631Z"
      },
      {
        "duration": 22,
        "start_time": "2023-04-05T11:03:02.615Z"
      },
      {
        "duration": 78,
        "start_time": "2023-04-05T11:03:02.640Z"
      },
      {
        "duration": 120,
        "start_time": "2023-04-05T11:03:02.721Z"
      },
      {
        "duration": 34,
        "start_time": "2023-04-05T11:03:02.843Z"
      },
      {
        "duration": 134,
        "start_time": "2023-04-05T11:03:02.879Z"
      },
      {
        "duration": 22,
        "start_time": "2023-04-05T11:03:03.015Z"
      },
      {
        "duration": 26,
        "start_time": "2023-04-05T11:03:03.038Z"
      },
      {
        "duration": 79,
        "start_time": "2023-04-05T11:03:03.067Z"
      },
      {
        "duration": 536,
        "start_time": "2023-04-05T11:03:03.147Z"
      },
      {
        "duration": 29,
        "start_time": "2023-04-05T11:03:03.685Z"
      },
      {
        "duration": 466,
        "start_time": "2023-04-05T11:03:03.724Z"
      },
      {
        "duration": 8,
        "start_time": "2023-04-05T11:03:04.193Z"
      },
      {
        "duration": 24,
        "start_time": "2023-04-05T11:03:04.203Z"
      },
      {
        "duration": 12,
        "start_time": "2023-04-05T11:03:04.228Z"
      },
      {
        "duration": 39,
        "start_time": "2023-04-05T11:03:04.242Z"
      },
      {
        "duration": 100,
        "start_time": "2023-04-05T11:03:04.284Z"
      },
      {
        "duration": 73,
        "start_time": "2023-04-05T11:03:04.385Z"
      },
      {
        "duration": 276,
        "start_time": "2023-04-05T11:03:04.459Z"
      },
      {
        "duration": 105,
        "start_time": "2023-04-05T11:03:04.736Z"
      },
      {
        "duration": 38,
        "start_time": "2023-04-05T11:03:04.842Z"
      },
      {
        "duration": 4,
        "start_time": "2023-04-05T11:03:04.881Z"
      },
      {
        "duration": 47,
        "start_time": "2023-04-05T11:03:04.887Z"
      },
      {
        "duration": 7,
        "start_time": "2023-04-05T11:03:04.936Z"
      },
      {
        "duration": 32,
        "start_time": "2023-04-05T11:03:04.944Z"
      },
      {
        "duration": 20,
        "start_time": "2023-04-05T11:03:04.977Z"
      },
      {
        "duration": 40,
        "start_time": "2023-04-05T11:03:05.023Z"
      },
      {
        "duration": 26,
        "start_time": "2023-04-05T11:03:05.065Z"
      },
      {
        "duration": 26,
        "start_time": "2023-04-05T11:03:05.093Z"
      },
      {
        "duration": 24,
        "start_time": "2023-04-05T11:03:05.123Z"
      },
      {
        "duration": 24,
        "start_time": "2023-04-05T11:03:05.148Z"
      },
      {
        "duration": 54,
        "start_time": "2023-04-05T11:03:05.173Z"
      },
      {
        "duration": 31,
        "start_time": "2023-04-05T11:03:05.229Z"
      },
      {
        "duration": 24,
        "start_time": "2023-04-05T11:03:05.261Z"
      },
      {
        "duration": 54,
        "start_time": "2023-04-05T11:03:05.287Z"
      },
      {
        "duration": 22,
        "start_time": "2023-04-05T11:03:05.344Z"
      },
      {
        "duration": 18,
        "start_time": "2023-04-05T11:03:05.369Z"
      },
      {
        "duration": 153,
        "start_time": "2023-04-05T11:03:05.389Z"
      },
      {
        "duration": 48,
        "start_time": "2023-04-05T12:36:56.202Z"
      },
      {
        "duration": 1379,
        "start_time": "2023-04-05T12:37:00.114Z"
      },
      {
        "duration": 720,
        "start_time": "2023-04-05T12:37:01.495Z"
      },
      {
        "duration": 21,
        "start_time": "2023-04-05T12:37:02.217Z"
      },
      {
        "duration": 69,
        "start_time": "2023-04-05T12:37:02.240Z"
      },
      {
        "duration": 81,
        "start_time": "2023-04-05T12:37:02.311Z"
      },
      {
        "duration": 27,
        "start_time": "2023-04-05T12:37:02.394Z"
      },
      {
        "duration": 117,
        "start_time": "2023-04-05T12:37:02.422Z"
      },
      {
        "duration": 26,
        "start_time": "2023-04-05T12:37:02.540Z"
      },
      {
        "duration": 52,
        "start_time": "2023-04-05T12:37:02.567Z"
      },
      {
        "duration": 74,
        "start_time": "2023-04-05T12:37:02.621Z"
      },
      {
        "duration": 678,
        "start_time": "2023-04-05T12:37:21.506Z"
      },
      {
        "duration": 66,
        "start_time": "2023-04-05T12:38:04.816Z"
      },
      {
        "duration": 4,
        "start_time": "2023-04-05T12:38:09.563Z"
      },
      {
        "duration": 162,
        "start_time": "2023-04-05T12:38:09.569Z"
      },
      {
        "duration": 19,
        "start_time": "2023-04-05T12:38:09.733Z"
      },
      {
        "duration": 58,
        "start_time": "2023-04-05T12:38:09.762Z"
      },
      {
        "duration": 82,
        "start_time": "2023-04-05T12:38:09.821Z"
      },
      {
        "duration": 23,
        "start_time": "2023-04-05T12:38:09.905Z"
      },
      {
        "duration": 93,
        "start_time": "2023-04-05T12:38:09.930Z"
      },
      {
        "duration": 16,
        "start_time": "2023-04-05T12:38:10.024Z"
      },
      {
        "duration": 33,
        "start_time": "2023-04-05T12:38:10.042Z"
      },
      {
        "duration": 58,
        "start_time": "2023-04-05T12:38:10.077Z"
      },
      {
        "duration": 670,
        "start_time": "2023-04-05T12:38:10.138Z"
      },
      {
        "duration": 24,
        "start_time": "2023-04-05T12:38:10.810Z"
      },
      {
        "duration": 610,
        "start_time": "2023-04-05T12:38:11.449Z"
      },
      {
        "duration": 9,
        "start_time": "2023-04-05T12:38:21.120Z"
      },
      {
        "duration": 140,
        "start_time": "2023-04-05T12:40:55.975Z"
      },
      {
        "duration": 58,
        "start_time": "2023-04-05T12:42:38.585Z"
      },
      {
        "duration": 52,
        "start_time": "2023-04-05T12:42:44.709Z"
      },
      {
        "duration": 69,
        "start_time": "2023-04-05T12:43:05.303Z"
      },
      {
        "duration": 76,
        "start_time": "2023-04-05T12:43:11.149Z"
      },
      {
        "duration": 69,
        "start_time": "2023-04-05T12:44:26.790Z"
      },
      {
        "duration": 73,
        "start_time": "2023-04-05T12:44:34.358Z"
      },
      {
        "duration": 90,
        "start_time": "2023-04-05T12:44:47.731Z"
      },
      {
        "duration": 78,
        "start_time": "2023-04-05T12:45:02.010Z"
      },
      {
        "duration": 71,
        "start_time": "2023-04-05T12:50:16.128Z"
      },
      {
        "duration": 1357,
        "start_time": "2023-04-05T12:50:38.220Z"
      },
      {
        "duration": 9,
        "start_time": "2023-04-05T12:51:18.689Z"
      },
      {
        "duration": 1251,
        "start_time": "2023-04-05T12:51:18.935Z"
      },
      {
        "duration": 4,
        "start_time": "2023-04-05T12:51:22.392Z"
      },
      {
        "duration": 160,
        "start_time": "2023-04-05T12:51:22.398Z"
      },
      {
        "duration": 20,
        "start_time": "2023-04-05T12:51:22.561Z"
      },
      {
        "duration": 53,
        "start_time": "2023-04-05T12:51:22.583Z"
      },
      {
        "duration": 76,
        "start_time": "2023-04-05T12:51:22.638Z"
      },
      {
        "duration": 22,
        "start_time": "2023-04-05T12:51:22.716Z"
      },
      {
        "duration": 99,
        "start_time": "2023-04-05T12:51:22.740Z"
      },
      {
        "duration": 22,
        "start_time": "2023-04-05T12:51:22.841Z"
      },
      {
        "duration": 25,
        "start_time": "2023-04-05T12:51:22.864Z"
      },
      {
        "duration": 71,
        "start_time": "2023-04-05T12:51:22.891Z"
      },
      {
        "duration": 704,
        "start_time": "2023-04-05T12:51:22.966Z"
      },
      {
        "duration": 19,
        "start_time": "2023-04-05T12:51:23.672Z"
      },
      {
        "duration": 731,
        "start_time": "2023-04-05T12:51:23.693Z"
      },
      {
        "duration": 9,
        "start_time": "2023-04-05T12:51:24.426Z"
      },
      {
        "duration": 14,
        "start_time": "2023-04-05T12:51:24.437Z"
      },
      {
        "duration": 10,
        "start_time": "2023-04-05T12:51:24.461Z"
      },
      {
        "duration": 27,
        "start_time": "2023-04-05T12:51:24.473Z"
      },
      {
        "duration": 13,
        "start_time": "2023-04-05T12:51:24.518Z"
      },
      {
        "duration": 1261,
        "start_time": "2023-04-05T12:51:24.578Z"
      },
      {
        "duration": 58,
        "start_time": "2023-04-05T12:51:38.942Z"
      },
      {
        "duration": 64,
        "start_time": "2023-04-05T12:52:41.579Z"
      },
      {
        "duration": 58,
        "start_time": "2023-04-05T12:52:47.006Z"
      },
      {
        "duration": 70,
        "start_time": "2023-04-05T12:53:17.058Z"
      },
      {
        "duration": 61,
        "start_time": "2023-04-05T12:53:29.973Z"
      },
      {
        "duration": 61,
        "start_time": "2023-04-05T12:53:37.469Z"
      },
      {
        "duration": 65,
        "start_time": "2023-04-05T12:53:58.886Z"
      },
      {
        "duration": 52,
        "start_time": "2023-04-05T19:10:22.299Z"
      },
      {
        "duration": 1348,
        "start_time": "2023-04-05T19:10:27.108Z"
      },
      {
        "duration": 523,
        "start_time": "2023-04-05T19:10:28.459Z"
      },
      {
        "duration": 23,
        "start_time": "2023-04-05T19:10:28.984Z"
      },
      {
        "duration": 82,
        "start_time": "2023-04-05T19:10:29.009Z"
      },
      {
        "duration": 73,
        "start_time": "2023-04-05T19:10:29.092Z"
      },
      {
        "duration": 37,
        "start_time": "2023-04-05T19:10:29.167Z"
      },
      {
        "duration": 98,
        "start_time": "2023-04-05T19:10:29.206Z"
      },
      {
        "duration": 14,
        "start_time": "2023-04-05T19:10:29.306Z"
      },
      {
        "duration": 35,
        "start_time": "2023-04-05T19:10:29.322Z"
      },
      {
        "duration": 65,
        "start_time": "2023-04-05T19:10:29.360Z"
      },
      {
        "duration": 731,
        "start_time": "2023-04-05T19:10:29.426Z"
      },
      {
        "duration": 30,
        "start_time": "2023-04-05T19:10:30.158Z"
      },
      {
        "duration": 718,
        "start_time": "2023-04-05T19:10:30.190Z"
      },
      {
        "duration": 8,
        "start_time": "2023-04-05T19:10:30.909Z"
      },
      {
        "duration": 32,
        "start_time": "2023-04-05T19:10:30.918Z"
      },
      {
        "duration": 41,
        "start_time": "2023-04-05T19:10:30.952Z"
      },
      {
        "duration": 57,
        "start_time": "2023-04-05T19:10:30.995Z"
      },
      {
        "duration": 40,
        "start_time": "2023-04-05T19:10:31.054Z"
      },
      {
        "duration": 99,
        "start_time": "2023-04-05T19:10:31.096Z"
      },
      {
        "duration": 266,
        "start_time": "2023-04-05T19:10:31.197Z"
      },
      {
        "duration": 12,
        "start_time": "2023-04-05T19:10:31.484Z"
      },
      {
        "duration": 1449,
        "start_time": "2023-04-05T19:10:31.499Z"
      },
      {
        "duration": 1182,
        "start_time": "2023-04-05T19:11:04.739Z"
      },
      {
        "duration": 3,
        "start_time": "2023-04-05T19:11:13.557Z"
      },
      {
        "duration": 170,
        "start_time": "2023-04-05T19:11:13.561Z"
      },
      {
        "duration": 19,
        "start_time": "2023-04-05T19:11:13.733Z"
      },
      {
        "duration": 70,
        "start_time": "2023-04-05T19:11:13.754Z"
      },
      {
        "duration": 66,
        "start_time": "2023-04-05T19:11:13.826Z"
      },
      {
        "duration": 19,
        "start_time": "2023-04-05T19:11:13.894Z"
      },
      {
        "duration": 91,
        "start_time": "2023-04-05T19:11:13.915Z"
      },
      {
        "duration": 14,
        "start_time": "2023-04-05T19:11:14.008Z"
      },
      {
        "duration": 37,
        "start_time": "2023-04-05T19:11:14.024Z"
      },
      {
        "duration": 56,
        "start_time": "2023-04-05T19:11:14.063Z"
      },
      {
        "duration": 543,
        "start_time": "2023-04-05T19:11:14.121Z"
      },
      {
        "duration": 27,
        "start_time": "2023-04-05T19:11:14.666Z"
      },
      {
        "duration": 606,
        "start_time": "2023-04-05T19:11:14.695Z"
      },
      {
        "duration": 8,
        "start_time": "2023-04-05T19:11:15.302Z"
      },
      {
        "duration": 14,
        "start_time": "2023-04-05T19:11:15.311Z"
      },
      {
        "duration": 9,
        "start_time": "2023-04-05T19:11:15.327Z"
      },
      {
        "duration": 27,
        "start_time": "2023-04-05T19:11:15.337Z"
      },
      {
        "duration": 19,
        "start_time": "2023-04-05T19:11:15.365Z"
      },
      {
        "duration": 71,
        "start_time": "2023-04-05T19:11:15.386Z"
      },
      {
        "duration": 232,
        "start_time": "2023-04-05T19:11:15.458Z"
      },
      {
        "duration": 8,
        "start_time": "2023-04-05T19:11:15.692Z"
      },
      {
        "duration": 790,
        "start_time": "2023-04-05T19:11:18.215Z"
      },
      {
        "duration": 94,
        "start_time": "2023-04-05T19:11:25.465Z"
      },
      {
        "duration": 112,
        "start_time": "2023-04-05T19:11:31.654Z"
      },
      {
        "duration": 45,
        "start_time": "2023-04-05T19:19:41.071Z"
      },
      {
        "duration": 49,
        "start_time": "2023-04-05T19:19:47.735Z"
      },
      {
        "duration": 49,
        "start_time": "2023-04-05T19:24:21.302Z"
      },
      {
        "duration": 45,
        "start_time": "2023-04-05T19:24:37.272Z"
      },
      {
        "duration": 41,
        "start_time": "2023-04-05T19:27:16.601Z"
      },
      {
        "duration": 44,
        "start_time": "2023-04-05T19:27:27.500Z"
      },
      {
        "duration": 1024,
        "start_time": "2023-04-05T19:27:42.196Z"
      },
      {
        "duration": 835,
        "start_time": "2023-04-05T19:27:53.945Z"
      },
      {
        "duration": 44,
        "start_time": "2023-04-05T19:28:01.960Z"
      },
      {
        "duration": 1114,
        "start_time": "2023-04-05T19:28:11.019Z"
      },
      {
        "duration": 44,
        "start_time": "2023-04-05T19:28:24.658Z"
      },
      {
        "duration": 48,
        "start_time": "2023-04-05T19:28:38.187Z"
      },
      {
        "duration": 42,
        "start_time": "2023-04-05T19:29:03.609Z"
      },
      {
        "duration": 42,
        "start_time": "2023-04-05T19:31:48.946Z"
      },
      {
        "duration": 55,
        "start_time": "2023-04-05T19:32:54.652Z"
      },
      {
        "duration": 825,
        "start_time": "2023-04-05T19:33:07.350Z"
      },
      {
        "duration": 61,
        "start_time": "2023-04-05T19:34:59.557Z"
      },
      {
        "duration": 5510,
        "start_time": "2023-04-05T19:35:08.700Z"
      },
      {
        "duration": 53,
        "start_time": "2023-04-05T19:35:28.170Z"
      },
      {
        "duration": 1144,
        "start_time": "2023-04-05T19:35:31.308Z"
      },
      {
        "duration": 8,
        "start_time": "2023-04-05T19:36:24.679Z"
      },
      {
        "duration": 46,
        "start_time": "2023-04-05T19:36:59.650Z"
      },
      {
        "duration": 673,
        "start_time": "2023-04-05T19:37:47.802Z"
      },
      {
        "duration": 745,
        "start_time": "2023-04-05T19:38:47.962Z"
      },
      {
        "duration": 909,
        "start_time": "2023-04-05T19:39:13.540Z"
      },
      {
        "duration": 746,
        "start_time": "2023-04-05T19:39:33.514Z"
      },
      {
        "duration": 42,
        "start_time": "2023-04-05T19:39:44.480Z"
      },
      {
        "duration": 2828,
        "start_time": "2023-04-05T19:40:01.746Z"
      },
      {
        "duration": 3480,
        "start_time": "2023-04-05T19:40:08.780Z"
      },
      {
        "duration": 717,
        "start_time": "2023-04-05T19:41:18.144Z"
      },
      {
        "duration": 51,
        "start_time": "2023-04-05T19:41:56.505Z"
      },
      {
        "duration": 48,
        "start_time": "2023-04-05T19:42:50.659Z"
      },
      {
        "duration": 724,
        "start_time": "2023-04-05T19:43:07.308Z"
      },
      {
        "duration": 735,
        "start_time": "2023-04-05T19:43:18.346Z"
      },
      {
        "duration": 767,
        "start_time": "2023-04-05T19:43:54.757Z"
      },
      {
        "duration": 83,
        "start_time": "2023-04-05T19:52:08.481Z"
      },
      {
        "duration": 842,
        "start_time": "2023-04-05T19:53:47.575Z"
      },
      {
        "duration": 64,
        "start_time": "2023-04-05T19:53:56.136Z"
      },
      {
        "duration": 69,
        "start_time": "2023-04-05T19:54:02.216Z"
      },
      {
        "duration": 3,
        "start_time": "2023-04-05T20:25:34.256Z"
      },
      {
        "duration": 47,
        "start_time": "2023-04-05T20:26:14.107Z"
      },
      {
        "duration": 52,
        "start_time": "2023-04-05T20:26:32.158Z"
      },
      {
        "duration": 47,
        "start_time": "2023-04-05T20:26:45.730Z"
      },
      {
        "duration": 57,
        "start_time": "2023-04-05T20:26:52.036Z"
      },
      {
        "duration": 71,
        "start_time": "2023-04-05T20:27:56.236Z"
      },
      {
        "duration": 86,
        "start_time": "2023-04-05T20:29:04.413Z"
      },
      {
        "duration": 92,
        "start_time": "2023-04-05T20:31:07.050Z"
      },
      {
        "duration": 91,
        "start_time": "2023-04-05T20:31:17.275Z"
      },
      {
        "duration": 90,
        "start_time": "2023-04-05T20:31:32.781Z"
      },
      {
        "duration": 60,
        "start_time": "2023-04-05T20:40:47.637Z"
      },
      {
        "duration": 1214,
        "start_time": "2023-04-06T15:16:30.978Z"
      },
      {
        "duration": 184,
        "start_time": "2023-04-06T15:16:32.194Z"
      },
      {
        "duration": 26,
        "start_time": "2023-04-06T15:16:32.380Z"
      },
      {
        "duration": 64,
        "start_time": "2023-04-06T15:16:32.408Z"
      },
      {
        "duration": 88,
        "start_time": "2023-04-06T15:16:32.474Z"
      },
      {
        "duration": 34,
        "start_time": "2023-04-06T15:16:32.564Z"
      },
      {
        "duration": 107,
        "start_time": "2023-04-06T15:16:32.599Z"
      },
      {
        "duration": 19,
        "start_time": "2023-04-06T15:16:32.708Z"
      },
      {
        "duration": 41,
        "start_time": "2023-04-06T15:16:32.729Z"
      },
      {
        "duration": 71,
        "start_time": "2023-04-06T15:16:32.772Z"
      },
      {
        "duration": 698,
        "start_time": "2023-04-06T15:16:32.844Z"
      },
      {
        "duration": 22,
        "start_time": "2023-04-06T15:16:33.543Z"
      },
      {
        "duration": 698,
        "start_time": "2023-04-06T15:16:33.567Z"
      },
      {
        "duration": 8,
        "start_time": "2023-04-06T15:16:34.267Z"
      },
      {
        "duration": 20,
        "start_time": "2023-04-06T15:16:34.277Z"
      },
      {
        "duration": 17,
        "start_time": "2023-04-06T15:16:34.298Z"
      },
      {
        "duration": 32,
        "start_time": "2023-04-06T15:16:34.316Z"
      },
      {
        "duration": 22,
        "start_time": "2023-04-06T15:16:34.349Z"
      },
      {
        "duration": 86,
        "start_time": "2023-04-06T15:16:34.373Z"
      },
      {
        "duration": 265,
        "start_time": "2023-04-06T15:16:34.460Z"
      },
      {
        "duration": 116,
        "start_time": "2023-04-06T15:16:34.727Z"
      },
      {
        "duration": 114,
        "start_time": "2023-04-06T15:16:34.845Z"
      },
      {
        "duration": 45,
        "start_time": "2023-04-06T15:16:34.961Z"
      },
      {
        "duration": 6,
        "start_time": "2023-04-06T15:16:35.008Z"
      },
      {
        "duration": 20,
        "start_time": "2023-04-06T15:16:35.016Z"
      },
      {
        "duration": 7,
        "start_time": "2023-04-06T15:16:35.038Z"
      },
      {
        "duration": 53,
        "start_time": "2023-04-06T15:16:35.047Z"
      },
      {
        "duration": 19,
        "start_time": "2023-04-06T15:16:35.102Z"
      },
      {
        "duration": 20,
        "start_time": "2023-04-06T15:16:35.122Z"
      },
      {
        "duration": 19,
        "start_time": "2023-04-06T15:16:35.144Z"
      },
      {
        "duration": 24,
        "start_time": "2023-04-06T15:16:35.190Z"
      },
      {
        "duration": 20,
        "start_time": "2023-04-06T15:16:35.216Z"
      },
      {
        "duration": 21,
        "start_time": "2023-04-06T15:16:35.237Z"
      },
      {
        "duration": 47,
        "start_time": "2023-04-06T15:16:35.260Z"
      },
      {
        "duration": 22,
        "start_time": "2023-04-06T15:16:35.309Z"
      },
      {
        "duration": 20,
        "start_time": "2023-04-06T15:16:35.333Z"
      },
      {
        "duration": 52,
        "start_time": "2023-04-06T15:16:35.355Z"
      },
      {
        "duration": 22,
        "start_time": "2023-04-06T15:16:35.409Z"
      },
      {
        "duration": 18,
        "start_time": "2023-04-06T15:16:35.433Z"
      },
      {
        "duration": 128,
        "start_time": "2023-04-06T15:16:35.452Z"
      },
      {
        "duration": 8,
        "start_time": "2023-04-06T15:17:53.278Z"
      }
    ],
    "kernelspec": {
      "display_name": "Python 3 (ipykernel)",
      "language": "python",
      "name": "python3"
    },
    "language_info": {
      "codemirror_mode": {
        "name": "ipython",
        "version": 3
      },
      "file_extension": ".py",
      "mimetype": "text/x-python",
      "name": "python",
      "nbconvert_exporter": "python",
      "pygments_lexer": "ipython3",
      "version": "3.9.5"
    },
    "toc": {
      "base_numbering": 1,
      "nav_menu": {},
      "number_sections": false,
      "sideBar": true,
      "skip_h1_title": false,
      "title_cell": "Table of Contents",
      "title_sidebar": "Contents",
      "toc_cell": false,
      "toc_position": {
        "height": "calc(100% - 180px)",
        "left": "10px",
        "top": "150px",
        "width": "177.585px"
      },
      "toc_section_display": true,
      "toc_window_display": true
    },
    "colab": {
      "provenance": []
    }
  },
  "nbformat": 4,
  "nbformat_minor": 0
}